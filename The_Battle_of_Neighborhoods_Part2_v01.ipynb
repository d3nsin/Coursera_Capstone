{
  "nbformat": 4,
  "nbformat_minor": 0,
  "metadata": {
    "colab": {
      "name": "The_Battle_of_Neighborhoods_Part2 v01.ipynb",
      "provenance": [],
      "collapsed_sections": [],
      "toc_visible": true
    },
    "kernelspec": {
      "name": "python3",
      "display_name": "Python 3"
    }
  },
  "cells": [
    {
      "cell_type": "markdown",
      "metadata": {
        "id": "PrjBSHJ83ZLY",
        "colab_type": "text"
      },
      "source": [
        "# **The Battle of Neighborhoods - Part 2**"
      ]
    },
    {
      "cell_type": "markdown",
      "metadata": {
        "id": "KtkX6Mg83mP4",
        "colab_type": "text"
      },
      "source": [
        "\n",
        "New York City's demographics show that it is a large and ethnically diverse metropolis. With it's diverse culture , comes diverse food items. There are many resturants in New york City, each beloning to different categories like Chinese , Italian , French etc.\n",
        "\n",
        "So as part of this project , we will list and visualize all major parts of New York City that has great French resturants."
      ]
    },
    {
      "cell_type": "markdown",
      "metadata": {
        "id": "it2lteCw58YH",
        "colab_type": "text"
      },
      "source": [
        "## Data"
      ]
    },
    {
      "cell_type": "markdown",
      "metadata": {
        "id": "DQCrcYo66CfS",
        "colab_type": "text"
      },
      "source": [
        "For this project we need the following data:\n",
        "\n",
        "1.  New York City data that contains list Boroughs, Neighborhoods along with their latitude and longitude.\n",
        "2.  French resturants in each neighborhood of New York city.\n",
        "3.  GeoSpace data"
      ]
    },
    {
      "cell_type": "markdown",
      "metadata": {
        "id": "T-ekvqbl5-7b",
        "colab_type": "text"
      },
      "source": [
        "## Questions that will be answered at the end of this project"
      ]
    },
    {
      "cell_type": "markdown",
      "metadata": {
        "id": "6utxfAoY6eRW",
        "colab_type": "text"
      },
      "source": [
        "1.  What are best location in New York City for French Cuisine?\n",
        "2.  Which areas have potential French Restaurant Market?\n",
        "3.  Which areas lack French Restaurants?\n",
        "4.  Which is the best place to stay if you prefer French Cuisine?"
      ]
    },
    {
      "cell_type": "markdown",
      "metadata": {
        "id": "1RgqYvNz4Y-_",
        "colab_type": "text"
      },
      "source": [
        "## Methodology"
      ]
    },
    {
      "cell_type": "markdown",
      "metadata": {
        "id": "mmmRf39B32ld",
        "colab_type": "text"
      },
      "source": [
        "1.  We begin by collecting the New York city data from \"https://cocl.us/new_york_dataset\"\n",
        "2.  We will find all venues for each neighborhood using FourSquare API\n",
        "3.  We will then filter out all French Restuarant venues\n",
        "4.  Next using FourSquare API, we will find the Ratings, Tips, and Like count for all the French Resturants\n",
        "5.  Next we will sort the data keeping ratings as the constraint\n",
        "6.  Finally, we will visualize the Ranking of neighborhoods using python's Folium library\n",
        "\n"
      ]
    },
    {
      "cell_type": "markdown",
      "metadata": {
        "id": "Hkii5CKT4-Hh",
        "colab_type": "text"
      },
      "source": [
        "### Install Modules"
      ]
    },
    {
      "cell_type": "code",
      "metadata": {
        "id": "YnYcVFck493i",
        "colab_type": "code",
        "colab": {
          "base_uri": "https://localhost:8080/",
          "height": 408
        },
        "outputId": "cebfe59d-2de1-4b90-f045-196c13b5243f"
      },
      "source": [
        "!pip install geocoder\n",
        "!pip install folium\n",
        "!pip install BeautifulSoup4"
      ],
      "execution_count": 3,
      "outputs": [
        {
          "output_type": "stream",
          "text": [
            "Requirement already satisfied: geocoder in /usr/local/lib/python3.6/dist-packages (1.38.1)\n",
            "Requirement already satisfied: future in /usr/local/lib/python3.6/dist-packages (from geocoder) (0.16.0)\n",
            "Requirement already satisfied: requests in /usr/local/lib/python3.6/dist-packages (from geocoder) (2.23.0)\n",
            "Requirement already satisfied: six in /usr/local/lib/python3.6/dist-packages (from geocoder) (1.15.0)\n",
            "Requirement already satisfied: ratelim in /usr/local/lib/python3.6/dist-packages (from geocoder) (0.1.6)\n",
            "Requirement already satisfied: click in /usr/local/lib/python3.6/dist-packages (from geocoder) (7.1.2)\n",
            "Requirement already satisfied: certifi>=2017.4.17 in /usr/local/lib/python3.6/dist-packages (from requests->geocoder) (2020.6.20)\n",
            "Requirement already satisfied: idna<3,>=2.5 in /usr/local/lib/python3.6/dist-packages (from requests->geocoder) (2.10)\n",
            "Requirement already satisfied: chardet<4,>=3.0.2 in /usr/local/lib/python3.6/dist-packages (from requests->geocoder) (3.0.4)\n",
            "Requirement already satisfied: urllib3!=1.25.0,!=1.25.1,<1.26,>=1.21.1 in /usr/local/lib/python3.6/dist-packages (from requests->geocoder) (1.24.3)\n",
            "Requirement already satisfied: decorator in /usr/local/lib/python3.6/dist-packages (from ratelim->geocoder) (4.4.2)\n",
            "Requirement already satisfied: folium in /usr/local/lib/python3.6/dist-packages (0.8.3)\n",
            "Requirement already satisfied: branca>=0.3.0 in /usr/local/lib/python3.6/dist-packages (from folium) (0.4.1)\n",
            "Requirement already satisfied: requests in /usr/local/lib/python3.6/dist-packages (from folium) (2.23.0)\n",
            "Requirement already satisfied: jinja2 in /usr/local/lib/python3.6/dist-packages (from folium) (2.11.2)\n",
            "Requirement already satisfied: numpy in /usr/local/lib/python3.6/dist-packages (from folium) (1.18.5)\n",
            "Requirement already satisfied: six in /usr/local/lib/python3.6/dist-packages (from folium) (1.15.0)\n",
            "Requirement already satisfied: certifi>=2017.4.17 in /usr/local/lib/python3.6/dist-packages (from requests->folium) (2020.6.20)\n",
            "Requirement already satisfied: urllib3!=1.25.0,!=1.25.1,<1.26,>=1.21.1 in /usr/local/lib/python3.6/dist-packages (from requests->folium) (1.24.3)\n",
            "Requirement already satisfied: chardet<4,>=3.0.2 in /usr/local/lib/python3.6/dist-packages (from requests->folium) (3.0.4)\n",
            "Requirement already satisfied: idna<3,>=2.5 in /usr/local/lib/python3.6/dist-packages (from requests->folium) (2.10)\n",
            "Requirement already satisfied: MarkupSafe>=0.23 in /usr/local/lib/python3.6/dist-packages (from jinja2->folium) (1.1.1)\n",
            "Requirement already satisfied: BeautifulSoup4 in /usr/local/lib/python3.6/dist-packages (4.6.3)\n"
          ],
          "name": "stdout"
        }
      ]
    },
    {
      "cell_type": "markdown",
      "metadata": {
        "id": "7JirDrv24tR9",
        "colab_type": "text"
      },
      "source": [
        "### Import Libraries"
      ]
    },
    {
      "cell_type": "code",
      "metadata": {
        "id": "FgvMUikC3CPG",
        "colab_type": "code",
        "colab": {
          "base_uri": "https://localhost:8080/",
          "height": 34
        },
        "outputId": "95231db4-a414-4451-efce-edd1a2c67ad3"
      },
      "source": [
        "import pandas as pd\n",
        "import numpy as np\n",
        "pd.set_option('display.max_columns', None)\n",
        "pd.set_option('display.max_rows', None)\n",
        "import requests\n",
        "from bs4 import BeautifulSoup\n",
        "import geocoder\n",
        "import os\n",
        "import folium # map rendering library\n",
        "from geopy.geocoders import Nominatim # convert an address into latitude and longitude values\n",
        "# Matplotlib and associated plotting modules\n",
        "import matplotlib.pyplot as plt\n",
        "import matplotlib.cm as cm\n",
        "import matplotlib.colors as colors\n",
        "import plotly.graph_objects as go\n",
        "%matplotlib inline\n",
        "\n",
        "print('Done')"
      ],
      "execution_count": 4,
      "outputs": [
        {
          "output_type": "stream",
          "text": [
            "Done\n"
          ],
          "name": "stdout"
        }
      ]
    },
    {
      "cell_type": "markdown",
      "metadata": {
        "id": "MlP1jcTn67zU",
        "colab_type": "text"
      },
      "source": [
        "\n",
        "The follwoing function get the geocodes i.e latitude and longitude of a given location using geopy."
      ]
    },
    {
      "cell_type": "code",
      "metadata": {
        "id": "AHgQLKrA678y",
        "colab_type": "code",
        "colab": {}
      },
      "source": [
        "def geo_location(address):\n",
        "    # get geo location of address\n",
        "    geolocator = Nominatim(user_agent=\"ny_explorer\")\n",
        "    location = geolocator.geocode(address)\n",
        "    latitude = location.latitude\n",
        "    longitude = location.longitude\n",
        "    return latitude,longitude"
      ],
      "execution_count": 5,
      "outputs": []
    },
    {
      "cell_type": "markdown",
      "metadata": {
        "id": "dqgRbsya67gj",
        "colab_type": "text"
      },
      "source": [
        "The following function interacts with FourSquare API and gets top 100 venues within a radius of 1000 metres for a given latitude and longitude. Below function returns the venue id , venue name and category."
      ]
    },
    {
      "cell_type": "code",
      "metadata": {
        "id": "tUPqQHKF67qE",
        "colab_type": "code",
        "colab": {}
      },
      "source": [
        "def get_venues(lat,lng):\n",
        "    \n",
        "    #set variables\n",
        "    radius=1000\n",
        "    LIMIT=100\n",
        "    CLIENT_ID = 'XHUUZX3T2H3I14E2B3QXON3VGMVZ52IXL2NBG021H5NIV432' # your Foursquare ID\n",
        "    CLIENT_SECRET = 'FUY424BMLDUOQMQGLUYGIME3UMV4TPEPITDR2YNQS0A2YF1R' # your Foursquare Secret\n",
        "    VERSION = '20200722' # Foursquare API version\n",
        "    \n",
        "    #url to fetch data from foursquare api\n",
        "    url = 'https://api.foursquare.com/v2/venues/explore?&client_id={}&client_secret={}&v={}&ll={},{}&radius={}&limit={}'.format(\n",
        "            CLIENT_ID, \n",
        "            CLIENT_SECRET, \n",
        "            VERSION, \n",
        "            lat, \n",
        "            lng, \n",
        "            radius, \n",
        "            LIMIT)\n",
        "    \n",
        "    # get all the data\n",
        "    results = requests.get(url).json()\n",
        "    venue_data=results[\"response\"]['groups'][0]['items']\n",
        "    venue_details=[]\n",
        "    for row in venue_data:\n",
        "        try:\n",
        "            venue_id=row['venue']['id']\n",
        "            venue_name=row['venue']['name']\n",
        "            venue_category=row['venue']['categories'][0]['name']\n",
        "            venue_details.append([venue_id,venue_name,venue_category])\n",
        "        except KeyError:\n",
        "            pass\n",
        "        \n",
        "    column_names=['ID','Name','Category']\n",
        "    df = pd.DataFrame(venue_details,columns=column_names)\n",
        "    return df"
      ],
      "execution_count": 7,
      "outputs": []
    },
    {
      "cell_type": "markdown",
      "metadata": {
        "id": "Ht-hVxbv3Rio",
        "colab_type": "text"
      },
      "source": [
        "The following function counts likes, tips for a given venue id."
      ]
    },
    {
      "cell_type": "code",
      "metadata": {
        "id": "_biFmS0h3SCS",
        "colab_type": "code",
        "colab": {}
      },
      "source": [
        "def get_venue_details(venue_id):\n",
        "        \n",
        "    CLIENT_ID = 'XHUUZX3T2H3I14E2B3QXON3VGMVZ52IXL2NBG021H5NIV432' # your Foursquare ID\n",
        "    CLIENT_SECRET = 'FUY424BMLDUOQMQGLUYGIME3UMV4TPEPITDR2YNQS0A2YF1R' # your Foursquare Secret\n",
        "    VERSION = '20200722' # Foursquare API version\n",
        "    \n",
        "    #url to fetch data from foursquare api\n",
        "    url = 'https://api.foursquare.com/v2/venues/{}?&client_id={}&client_secret={}&v={}'.format(\n",
        "            venue_id,\n",
        "            CLIENT_ID, \n",
        "            CLIENT_SECRET, \n",
        "            VERSION)\n",
        "    \n",
        "    # get all the data\n",
        "    results = requests.get(url).json()\n",
        "    venue_data=results['response']['venue']\n",
        "    venue_details=[]\n",
        "    try:\n",
        "        venue_id = venue_data['id']\n",
        "        venue_name = venue_data['name']\n",
        "        venue_likes = venue_data['likes']['count']\n",
        "        venue_rating = venue_data['rating']\n",
        "        venue_tips = venue_data['tips']['count']\n",
        "        venue_details.append([venue_id,venue_name,venue_likes,venue_rating,venue_tips])\n",
        "    \n",
        "    except KeyError:\n",
        "        pass\n",
        "        \n",
        "    column_names=['ID','Name','Likes','Rating','Tips']\n",
        "    df = pd.DataFrame(venue_details,columns=column_names)\n",
        "    return df"
      ],
      "execution_count": 8,
      "outputs": []
    },
    {
      "cell_type": "markdown",
      "metadata": {
        "id": "0qkg8YCt7295",
        "colab_type": "text"
      },
      "source": [
        "\n",
        "The following funtion gets the New York city data such as Boroughs, Neighborhoods along with their latitude and longitude."
      ]
    },
    {
      "cell_type": "code",
      "metadata": {
        "id": "bym4Zm1g79u7",
        "colab_type": "code",
        "colab": {}
      },
      "source": [
        "def get_new_york_data():\n",
        "    url='https://cocl.us/new_york_dataset'\n",
        "    resp=requests.get(url).json()\n",
        "    # all data is present in features label\n",
        "    features=resp['features']\n",
        "    \n",
        "    # define the dataframe columns\n",
        "    column_names = ['Borough', 'Neighborhood', 'Latitude', 'Longitude'] \n",
        "    # instantiate the dataframe\n",
        "    new_york_data = pd.DataFrame(columns=column_names)\n",
        "    \n",
        "    for data in features:\n",
        "        borough = data['properties']['borough'] \n",
        "        neighborhood_name = data['properties']['name']\n",
        "        \n",
        "        neighborhood_latlon = data['geometry']['coordinates']\n",
        "        neighborhood_lat = neighborhood_latlon[1]\n",
        "        neighborhood_lon = neighborhood_latlon[0]\n",
        "    \n",
        "        new_york_data = new_york_data.append({'Borough': borough,\n",
        "                                          'Neighborhood': neighborhood_name,\n",
        "                                          'Latitude': neighborhood_lat,\n",
        "                                          'Longitude': neighborhood_lon}, ignore_index=True)\n",
        "    \n",
        "    return new_york_data"
      ],
      "execution_count": 9,
      "outputs": []
    },
    {
      "cell_type": "markdown",
      "metadata": {
        "id": "KDsmJj0v8E5f",
        "colab_type": "text"
      },
      "source": [
        "Let's take a look at New York city data."
      ]
    },
    {
      "cell_type": "code",
      "metadata": {
        "id": "sdAjxhpD8MqZ",
        "colab_type": "code",
        "colab": {
          "base_uri": "https://localhost:8080/",
          "height": 359
        },
        "outputId": "aed80b34-bccc-48d5-eed5-4b4f039df4bf"
      },
      "source": [
        "new_york_data= get_new_york_data()\n",
        "new_york_data.head(10)"
      ],
      "execution_count": 10,
      "outputs": [
        {
          "output_type": "execute_result",
          "data": {
            "text/html": [
              "<div>\n",
              "<style scoped>\n",
              "    .dataframe tbody tr th:only-of-type {\n",
              "        vertical-align: middle;\n",
              "    }\n",
              "\n",
              "    .dataframe tbody tr th {\n",
              "        vertical-align: top;\n",
              "    }\n",
              "\n",
              "    .dataframe thead th {\n",
              "        text-align: right;\n",
              "    }\n",
              "</style>\n",
              "<table border=\"1\" class=\"dataframe\">\n",
              "  <thead>\n",
              "    <tr style=\"text-align: right;\">\n",
              "      <th></th>\n",
              "      <th>Borough</th>\n",
              "      <th>Neighborhood</th>\n",
              "      <th>Latitude</th>\n",
              "      <th>Longitude</th>\n",
              "    </tr>\n",
              "  </thead>\n",
              "  <tbody>\n",
              "    <tr>\n",
              "      <th>0</th>\n",
              "      <td>Bronx</td>\n",
              "      <td>Wakefield</td>\n",
              "      <td>40.894705</td>\n",
              "      <td>-73.847201</td>\n",
              "    </tr>\n",
              "    <tr>\n",
              "      <th>1</th>\n",
              "      <td>Bronx</td>\n",
              "      <td>Co-op City</td>\n",
              "      <td>40.874294</td>\n",
              "      <td>-73.829939</td>\n",
              "    </tr>\n",
              "    <tr>\n",
              "      <th>2</th>\n",
              "      <td>Bronx</td>\n",
              "      <td>Eastchester</td>\n",
              "      <td>40.887556</td>\n",
              "      <td>-73.827806</td>\n",
              "    </tr>\n",
              "    <tr>\n",
              "      <th>3</th>\n",
              "      <td>Bronx</td>\n",
              "      <td>Fieldston</td>\n",
              "      <td>40.895437</td>\n",
              "      <td>-73.905643</td>\n",
              "    </tr>\n",
              "    <tr>\n",
              "      <th>4</th>\n",
              "      <td>Bronx</td>\n",
              "      <td>Riverdale</td>\n",
              "      <td>40.890834</td>\n",
              "      <td>-73.912585</td>\n",
              "    </tr>\n",
              "    <tr>\n",
              "      <th>5</th>\n",
              "      <td>Bronx</td>\n",
              "      <td>Kingsbridge</td>\n",
              "      <td>40.881687</td>\n",
              "      <td>-73.902818</td>\n",
              "    </tr>\n",
              "    <tr>\n",
              "      <th>6</th>\n",
              "      <td>Manhattan</td>\n",
              "      <td>Marble Hill</td>\n",
              "      <td>40.876551</td>\n",
              "      <td>-73.910660</td>\n",
              "    </tr>\n",
              "    <tr>\n",
              "      <th>7</th>\n",
              "      <td>Bronx</td>\n",
              "      <td>Woodlawn</td>\n",
              "      <td>40.898273</td>\n",
              "      <td>-73.867315</td>\n",
              "    </tr>\n",
              "    <tr>\n",
              "      <th>8</th>\n",
              "      <td>Bronx</td>\n",
              "      <td>Norwood</td>\n",
              "      <td>40.877224</td>\n",
              "      <td>-73.879391</td>\n",
              "    </tr>\n",
              "    <tr>\n",
              "      <th>9</th>\n",
              "      <td>Bronx</td>\n",
              "      <td>Williamsbridge</td>\n",
              "      <td>40.881039</td>\n",
              "      <td>-73.857446</td>\n",
              "    </tr>\n",
              "  </tbody>\n",
              "</table>\n",
              "</div>"
            ],
            "text/plain": [
              "     Borough    Neighborhood   Latitude  Longitude\n",
              "0      Bronx       Wakefield  40.894705 -73.847201\n",
              "1      Bronx      Co-op City  40.874294 -73.829939\n",
              "2      Bronx     Eastchester  40.887556 -73.827806\n",
              "3      Bronx       Fieldston  40.895437 -73.905643\n",
              "4      Bronx       Riverdale  40.890834 -73.912585\n",
              "5      Bronx     Kingsbridge  40.881687 -73.902818\n",
              "6  Manhattan     Marble Hill  40.876551 -73.910660\n",
              "7      Bronx        Woodlawn  40.898273 -73.867315\n",
              "8      Bronx         Norwood  40.877224 -73.879391\n",
              "9      Bronx  Williamsbridge  40.881039 -73.857446"
            ]
          },
          "metadata": {
            "tags": []
          },
          "execution_count": 10
        }
      ]
    },
    {
      "cell_type": "code",
      "metadata": {
        "id": "nMghQU5W8U7-",
        "colab_type": "code",
        "colab": {
          "base_uri": "https://localhost:8080/",
          "height": 34
        },
        "outputId": "7689e46c-f88e-48e7-cf73-60910793e539"
      },
      "source": [
        "new_york_data.shape"
      ],
      "execution_count": 11,
      "outputs": [
        {
          "output_type": "execute_result",
          "data": {
            "text/plain": [
              "(306, 4)"
            ]
          },
          "metadata": {
            "tags": []
          },
          "execution_count": 11
        }
      ]
    },
    {
      "cell_type": "markdown",
      "metadata": {
        "id": "MIlM4UNE8gHc",
        "colab_type": "text"
      },
      "source": [
        "The results above show that there are 306 different Neighborhoods in New York city."
      ]
    },
    {
      "cell_type": "code",
      "metadata": {
        "id": "LL-k1oU39UnD",
        "colab_type": "code",
        "colab": {}
      },
      "source": [
        "ny_borough = new_york_data.groupby('Borough')['Neighborhood'].count()\n",
        "ny_borough_df = pd.DataFrame(ny_borough)"
      ],
      "execution_count": 12,
      "outputs": []
    },
    {
      "cell_type": "code",
      "metadata": {
        "id": "bJEGwE4_-TQT",
        "colab_type": "code",
        "colab": {
          "base_uri": "https://localhost:8080/",
          "height": 542
        },
        "outputId": "98cdff57-8eda-4c5b-d4a1-be55cd7323fa"
      },
      "source": [
        "boroughs = ny_borough_df.reset_index().Borough\n",
        "count_neighborhoods = ny_borough_df.reset_index().Neighborhood\n",
        "fig = go.Figure([go.Bar(x = boroughs, y = count_neighborhoods, name ='Neighborhood')])\n",
        "fig.update_layout(title = 'Number of Neighborhoods for each Borough in New York City', title_x=0.5, plot_bgcolor='rgb(230, 230,230)', showlegend=True, font=dict( family=\"Calibri\", size=18, color=\"black\"))\n",
        "fig.update_xaxes(title_text='Boroughs', nticks=20)\n",
        "fig.update_yaxes(title_text='Number of Neighborhoods')\n",
        "fig.show()"
      ],
      "execution_count": 13,
      "outputs": [
        {
          "output_type": "display_data",
          "data": {
            "text/html": [
              "<html>\n",
              "<head><meta charset=\"utf-8\" /></head>\n",
              "<body>\n",
              "    <div>\n",
              "            <script src=\"https://cdnjs.cloudflare.com/ajax/libs/mathjax/2.7.5/MathJax.js?config=TeX-AMS-MML_SVG\"></script><script type=\"text/javascript\">if (window.MathJax) {MathJax.Hub.Config({SVG: {font: \"STIX-Web\"}});}</script>\n",
              "                <script type=\"text/javascript\">window.PlotlyConfig = {MathJaxConfig: 'local'};</script>\n",
              "        <script src=\"https://cdn.plot.ly/plotly-latest.min.js\"></script>    \n",
              "            <div id=\"962482d1-ac77-4592-89b8-f5846738d4f4\" class=\"plotly-graph-div\" style=\"height:525px; width:100%;\"></div>\n",
              "            <script type=\"text/javascript\">\n",
              "                \n",
              "                    window.PLOTLYENV=window.PLOTLYENV || {};\n",
              "                    \n",
              "                if (document.getElementById(\"962482d1-ac77-4592-89b8-f5846738d4f4\")) {\n",
              "                    Plotly.newPlot(\n",
              "                        '962482d1-ac77-4592-89b8-f5846738d4f4',\n",
              "                        [{\"name\": \"Neighborhood\", \"type\": \"bar\", \"x\": [\"Bronx\", \"Brooklyn\", \"Manhattan\", \"Queens\", \"Staten Island\"], \"y\": [52, 70, 40, 81, 63]}],\n",
              "                        {\"font\": {\"color\": \"black\", \"family\": \"Calibri\", \"size\": 18}, \"plot_bgcolor\": \"rgb(230, 230,230)\", \"showlegend\": true, \"template\": {\"data\": {\"bar\": [{\"error_x\": {\"color\": \"#2a3f5f\"}, \"error_y\": {\"color\": \"#2a3f5f\"}, \"marker\": {\"line\": {\"color\": \"#E5ECF6\", \"width\": 0.5}}, \"type\": \"bar\"}], \"barpolar\": [{\"marker\": {\"line\": {\"color\": \"#E5ECF6\", \"width\": 0.5}}, \"type\": \"barpolar\"}], \"carpet\": [{\"aaxis\": {\"endlinecolor\": \"#2a3f5f\", \"gridcolor\": \"white\", \"linecolor\": \"white\", \"minorgridcolor\": \"white\", \"startlinecolor\": \"#2a3f5f\"}, \"baxis\": {\"endlinecolor\": \"#2a3f5f\", \"gridcolor\": \"white\", \"linecolor\": \"white\", \"minorgridcolor\": \"white\", \"startlinecolor\": \"#2a3f5f\"}, \"type\": \"carpet\"}], \"choropleth\": [{\"colorbar\": {\"outlinewidth\": 0, \"ticks\": \"\"}, \"type\": \"choropleth\"}], \"contour\": [{\"colorbar\": {\"outlinewidth\": 0, \"ticks\": \"\"}, \"colorscale\": [[0.0, \"#0d0887\"], [0.1111111111111111, \"#46039f\"], [0.2222222222222222, \"#7201a8\"], [0.3333333333333333, \"#9c179e\"], [0.4444444444444444, \"#bd3786\"], [0.5555555555555556, \"#d8576b\"], [0.6666666666666666, \"#ed7953\"], [0.7777777777777778, \"#fb9f3a\"], [0.8888888888888888, \"#fdca26\"], [1.0, \"#f0f921\"]], \"type\": \"contour\"}], \"contourcarpet\": [{\"colorbar\": {\"outlinewidth\": 0, \"ticks\": \"\"}, \"type\": \"contourcarpet\"}], \"heatmap\": [{\"colorbar\": {\"outlinewidth\": 0, \"ticks\": \"\"}, \"colorscale\": [[0.0, \"#0d0887\"], [0.1111111111111111, \"#46039f\"], [0.2222222222222222, \"#7201a8\"], [0.3333333333333333, \"#9c179e\"], [0.4444444444444444, \"#bd3786\"], [0.5555555555555556, \"#d8576b\"], [0.6666666666666666, \"#ed7953\"], [0.7777777777777778, \"#fb9f3a\"], [0.8888888888888888, \"#fdca26\"], [1.0, \"#f0f921\"]], \"type\": \"heatmap\"}], \"heatmapgl\": [{\"colorbar\": {\"outlinewidth\": 0, \"ticks\": \"\"}, \"colorscale\": [[0.0, \"#0d0887\"], [0.1111111111111111, \"#46039f\"], [0.2222222222222222, \"#7201a8\"], [0.3333333333333333, \"#9c179e\"], [0.4444444444444444, \"#bd3786\"], [0.5555555555555556, \"#d8576b\"], [0.6666666666666666, \"#ed7953\"], [0.7777777777777778, \"#fb9f3a\"], [0.8888888888888888, \"#fdca26\"], [1.0, \"#f0f921\"]], \"type\": \"heatmapgl\"}], \"histogram\": [{\"marker\": {\"colorbar\": {\"outlinewidth\": 0, \"ticks\": \"\"}}, \"type\": \"histogram\"}], \"histogram2d\": [{\"colorbar\": {\"outlinewidth\": 0, \"ticks\": \"\"}, \"colorscale\": [[0.0, \"#0d0887\"], [0.1111111111111111, \"#46039f\"], [0.2222222222222222, \"#7201a8\"], [0.3333333333333333, \"#9c179e\"], [0.4444444444444444, \"#bd3786\"], [0.5555555555555556, \"#d8576b\"], [0.6666666666666666, \"#ed7953\"], [0.7777777777777778, \"#fb9f3a\"], [0.8888888888888888, \"#fdca26\"], [1.0, \"#f0f921\"]], \"type\": \"histogram2d\"}], \"histogram2dcontour\": [{\"colorbar\": {\"outlinewidth\": 0, \"ticks\": \"\"}, \"colorscale\": [[0.0, \"#0d0887\"], [0.1111111111111111, \"#46039f\"], [0.2222222222222222, \"#7201a8\"], [0.3333333333333333, \"#9c179e\"], [0.4444444444444444, \"#bd3786\"], [0.5555555555555556, \"#d8576b\"], [0.6666666666666666, \"#ed7953\"], [0.7777777777777778, \"#fb9f3a\"], [0.8888888888888888, \"#fdca26\"], [1.0, \"#f0f921\"]], \"type\": \"histogram2dcontour\"}], \"mesh3d\": [{\"colorbar\": {\"outlinewidth\": 0, \"ticks\": \"\"}, \"type\": \"mesh3d\"}], \"parcoords\": [{\"line\": {\"colorbar\": {\"outlinewidth\": 0, \"ticks\": \"\"}}, \"type\": \"parcoords\"}], \"pie\": [{\"automargin\": true, \"type\": \"pie\"}], \"scatter\": [{\"marker\": {\"colorbar\": {\"outlinewidth\": 0, \"ticks\": \"\"}}, \"type\": \"scatter\"}], \"scatter3d\": [{\"line\": {\"colorbar\": {\"outlinewidth\": 0, \"ticks\": \"\"}}, \"marker\": {\"colorbar\": {\"outlinewidth\": 0, \"ticks\": \"\"}}, \"type\": \"scatter3d\"}], \"scattercarpet\": [{\"marker\": {\"colorbar\": {\"outlinewidth\": 0, \"ticks\": \"\"}}, \"type\": \"scattercarpet\"}], \"scattergeo\": [{\"marker\": {\"colorbar\": {\"outlinewidth\": 0, \"ticks\": \"\"}}, \"type\": \"scattergeo\"}], \"scattergl\": [{\"marker\": {\"colorbar\": {\"outlinewidth\": 0, \"ticks\": \"\"}}, \"type\": \"scattergl\"}], \"scattermapbox\": [{\"marker\": {\"colorbar\": {\"outlinewidth\": 0, \"ticks\": \"\"}}, \"type\": \"scattermapbox\"}], \"scatterpolar\": [{\"marker\": {\"colorbar\": {\"outlinewidth\": 0, \"ticks\": \"\"}}, \"type\": \"scatterpolar\"}], \"scatterpolargl\": [{\"marker\": {\"colorbar\": {\"outlinewidth\": 0, \"ticks\": \"\"}}, \"type\": \"scatterpolargl\"}], \"scatterternary\": [{\"marker\": {\"colorbar\": {\"outlinewidth\": 0, \"ticks\": \"\"}}, \"type\": \"scatterternary\"}], \"surface\": [{\"colorbar\": {\"outlinewidth\": 0, \"ticks\": \"\"}, \"colorscale\": [[0.0, \"#0d0887\"], [0.1111111111111111, \"#46039f\"], [0.2222222222222222, \"#7201a8\"], [0.3333333333333333, \"#9c179e\"], [0.4444444444444444, \"#bd3786\"], [0.5555555555555556, \"#d8576b\"], [0.6666666666666666, \"#ed7953\"], [0.7777777777777778, \"#fb9f3a\"], [0.8888888888888888, \"#fdca26\"], [1.0, \"#f0f921\"]], \"type\": \"surface\"}], \"table\": [{\"cells\": {\"fill\": {\"color\": \"#EBF0F8\"}, \"line\": {\"color\": \"white\"}}, \"header\": {\"fill\": {\"color\": \"#C8D4E3\"}, \"line\": {\"color\": \"white\"}}, \"type\": \"table\"}]}, \"layout\": {\"annotationdefaults\": {\"arrowcolor\": \"#2a3f5f\", \"arrowhead\": 0, \"arrowwidth\": 1}, \"coloraxis\": {\"colorbar\": {\"outlinewidth\": 0, \"ticks\": \"\"}}, \"colorscale\": {\"diverging\": [[0, \"#8e0152\"], [0.1, \"#c51b7d\"], [0.2, \"#de77ae\"], [0.3, \"#f1b6da\"], [0.4, \"#fde0ef\"], [0.5, \"#f7f7f7\"], [0.6, \"#e6f5d0\"], [0.7, \"#b8e186\"], [0.8, \"#7fbc41\"], [0.9, \"#4d9221\"], [1, \"#276419\"]], \"sequential\": [[0.0, \"#0d0887\"], [0.1111111111111111, \"#46039f\"], [0.2222222222222222, \"#7201a8\"], [0.3333333333333333, \"#9c179e\"], [0.4444444444444444, \"#bd3786\"], [0.5555555555555556, \"#d8576b\"], [0.6666666666666666, \"#ed7953\"], [0.7777777777777778, \"#fb9f3a\"], [0.8888888888888888, \"#fdca26\"], [1.0, \"#f0f921\"]], \"sequentialminus\": [[0.0, \"#0d0887\"], [0.1111111111111111, \"#46039f\"], [0.2222222222222222, \"#7201a8\"], [0.3333333333333333, \"#9c179e\"], [0.4444444444444444, \"#bd3786\"], [0.5555555555555556, \"#d8576b\"], [0.6666666666666666, \"#ed7953\"], [0.7777777777777778, \"#fb9f3a\"], [0.8888888888888888, \"#fdca26\"], [1.0, \"#f0f921\"]]}, \"colorway\": [\"#636efa\", \"#EF553B\", \"#00cc96\", \"#ab63fa\", \"#FFA15A\", \"#19d3f3\", \"#FF6692\", \"#B6E880\", \"#FF97FF\", \"#FECB52\"], \"font\": {\"color\": \"#2a3f5f\"}, \"geo\": {\"bgcolor\": \"white\", \"lakecolor\": \"white\", \"landcolor\": \"#E5ECF6\", \"showlakes\": true, \"showland\": true, \"subunitcolor\": \"white\"}, \"hoverlabel\": {\"align\": \"left\"}, \"hovermode\": \"closest\", \"mapbox\": {\"style\": \"light\"}, \"paper_bgcolor\": \"white\", \"plot_bgcolor\": \"#E5ECF6\", \"polar\": {\"angularaxis\": {\"gridcolor\": \"white\", \"linecolor\": \"white\", \"ticks\": \"\"}, \"bgcolor\": \"#E5ECF6\", \"radialaxis\": {\"gridcolor\": \"white\", \"linecolor\": \"white\", \"ticks\": \"\"}}, \"scene\": {\"xaxis\": {\"backgroundcolor\": \"#E5ECF6\", \"gridcolor\": \"white\", \"gridwidth\": 2, \"linecolor\": \"white\", \"showbackground\": true, \"ticks\": \"\", \"zerolinecolor\": \"white\"}, \"yaxis\": {\"backgroundcolor\": \"#E5ECF6\", \"gridcolor\": \"white\", \"gridwidth\": 2, \"linecolor\": \"white\", \"showbackground\": true, \"ticks\": \"\", \"zerolinecolor\": \"white\"}, \"zaxis\": {\"backgroundcolor\": \"#E5ECF6\", \"gridcolor\": \"white\", \"gridwidth\": 2, \"linecolor\": \"white\", \"showbackground\": true, \"ticks\": \"\", \"zerolinecolor\": \"white\"}}, \"shapedefaults\": {\"line\": {\"color\": \"#2a3f5f\"}}, \"ternary\": {\"aaxis\": {\"gridcolor\": \"white\", \"linecolor\": \"white\", \"ticks\": \"\"}, \"baxis\": {\"gridcolor\": \"white\", \"linecolor\": \"white\", \"ticks\": \"\"}, \"bgcolor\": \"#E5ECF6\", \"caxis\": {\"gridcolor\": \"white\", \"linecolor\": \"white\", \"ticks\": \"\"}}, \"title\": {\"x\": 0.05}, \"xaxis\": {\"automargin\": true, \"gridcolor\": \"white\", \"linecolor\": \"white\", \"ticks\": \"\", \"title\": {\"standoff\": 15}, \"zerolinecolor\": \"white\", \"zerolinewidth\": 2}, \"yaxis\": {\"automargin\": true, \"gridcolor\": \"white\", \"linecolor\": \"white\", \"ticks\": \"\", \"title\": {\"standoff\": 15}, \"zerolinecolor\": \"white\", \"zerolinewidth\": 2}}}, \"title\": {\"text\": \"Number of Neighborhoods for each Borough in New York City\", \"x\": 0.5}, \"xaxis\": {\"nticks\": 20, \"title\": {\"text\": \"Boroughs\"}}, \"yaxis\": {\"title\": {\"text\": \"Number of Neighborhoods\"}}},\n",
              "                        {\"responsive\": true}\n",
              "                    ).then(function(){\n",
              "                            \n",
              "var gd = document.getElementById('962482d1-ac77-4592-89b8-f5846738d4f4');\n",
              "var x = new MutationObserver(function (mutations, observer) {{\n",
              "        var display = window.getComputedStyle(gd).display;\n",
              "        if (!display || display === 'none') {{\n",
              "            console.log([gd, 'removed!']);\n",
              "            Plotly.purge(gd);\n",
              "            observer.disconnect();\n",
              "        }}\n",
              "}});\n",
              "\n",
              "// Listen for the removal of the full notebook cells\n",
              "var notebookContainer = gd.closest('#notebook-container');\n",
              "if (notebookContainer) {{\n",
              "    x.observe(notebookContainer, {childList: true});\n",
              "}}\n",
              "\n",
              "// Listen for the clearing of the current output cell\n",
              "var outputEl = gd.closest('.output');\n",
              "if (outputEl) {{\n",
              "    x.observe(outputEl, {childList: true});\n",
              "}}\n",
              "\n",
              "                        })\n",
              "                };\n",
              "                \n",
              "            </script>\n",
              "        </div>\n",
              "</body>\n",
              "</html>"
            ]
          },
          "metadata": {
            "tags": []
          }
        }
      ]
    },
    {
      "cell_type": "markdown",
      "metadata": {
        "id": "8kw6yFtYDFTC",
        "colab_type": "text"
      },
      "source": [
        "\n",
        "From the above bar plot, we can see that Queens has the highest number of neighborhoods."
      ]
    },
    {
      "cell_type": "code",
      "metadata": {
        "id": "GfJgD1k19E8O",
        "colab_type": "code",
        "colab": {
          "base_uri": "https://localhost:8080/",
          "height": 1000
        },
        "outputId": "4c061b80-f062-4c1f-d1ea-5fd6dafc18d3"
      },
      "source": [
        "# prepare neighborhood list that contains French resturants\n",
        "column_names=['Borough', 'Neighborhood', 'ID','Name']\n",
        "french_rest_ny=pd.DataFrame(columns=column_names)\n",
        "count=1\n",
        "for row in new_york_data.values.tolist():\n",
        "    Borough, Neighborhood, Latitude, Longitude=row\n",
        "    venues = get_venues(Latitude,Longitude)\n",
        "    french_resturants=venues[venues['Category']=='French Restaurant']   \n",
        "    print('(',count,'/',len(new_york_data),')','French Resturants in '+Neighborhood+', '+Borough+':'+str(len(french_resturants)))\n",
        "    for resturant_detail in french_resturants.values.tolist():\n",
        "        id, name , category=resturant_detail\n",
        "        french_rest_ny = french_rest_ny.append({'Borough': Borough,\n",
        "                                                'Neighborhood': Neighborhood, \n",
        "                                                'ID': id,\n",
        "                                                'Name' : name\n",
        "                                               }, ignore_index=True)\n",
        "    count+=1"
      ],
      "execution_count": 12,
      "outputs": [
        {
          "output_type": "stream",
          "text": [
            "( 1 / 306 ) French Resturants in Wakefield, Bronx:0\n",
            "( 2 / 306 ) French Resturants in Co-op City, Bronx:0\n",
            "( 3 / 306 ) French Resturants in Eastchester, Bronx:0\n",
            "( 4 / 306 ) French Resturants in Fieldston, Bronx:0\n",
            "( 5 / 306 ) French Resturants in Riverdale, Bronx:0\n",
            "( 6 / 306 ) French Resturants in Kingsbridge, Bronx:0\n",
            "( 7 / 306 ) French Resturants in Marble Hill, Manhattan:0\n",
            "( 8 / 306 ) French Resturants in Woodlawn, Bronx:0\n",
            "( 9 / 306 ) French Resturants in Norwood, Bronx:0\n",
            "( 10 / 306 ) French Resturants in Williamsbridge, Bronx:0\n",
            "( 11 / 306 ) French Resturants in Baychester, Bronx:0\n",
            "( 12 / 306 ) French Resturants in Pelham Parkway, Bronx:0\n",
            "( 13 / 306 ) French Resturants in City Island, Bronx:1\n",
            "( 14 / 306 ) French Resturants in Bedford Park, Bronx:0\n",
            "( 15 / 306 ) French Resturants in University Heights, Bronx:0\n",
            "( 16 / 306 ) French Resturants in Morris Heights, Bronx:0\n",
            "( 17 / 306 ) French Resturants in Fordham, Bronx:0\n",
            "( 18 / 306 ) French Resturants in East Tremont, Bronx:0\n",
            "( 19 / 306 ) French Resturants in West Farms, Bronx:0\n",
            "( 20 / 306 ) French Resturants in High  Bridge, Bronx:0\n",
            "( 21 / 306 ) French Resturants in Melrose, Bronx:0\n",
            "( 22 / 306 ) French Resturants in Mott Haven, Bronx:0\n",
            "( 23 / 306 ) French Resturants in Port Morris, Bronx:0\n",
            "( 24 / 306 ) French Resturants in Longwood, Bronx:0\n",
            "( 25 / 306 ) French Resturants in Hunts Point, Bronx:0\n",
            "( 26 / 306 ) French Resturants in Morrisania, Bronx:0\n",
            "( 27 / 306 ) French Resturants in Soundview, Bronx:0\n",
            "( 28 / 306 ) French Resturants in Clason Point, Bronx:0\n",
            "( 29 / 306 ) French Resturants in Throgs Neck, Bronx:0\n",
            "( 30 / 306 ) French Resturants in Country Club, Bronx:0\n",
            "( 31 / 306 ) French Resturants in Parkchester, Bronx:0\n",
            "( 32 / 306 ) French Resturants in Westchester Square, Bronx:0\n",
            "( 33 / 306 ) French Resturants in Van Nest, Bronx:0\n",
            "( 34 / 306 ) French Resturants in Morris Park, Bronx:0\n",
            "( 35 / 306 ) French Resturants in Belmont, Bronx:0\n",
            "( 36 / 306 ) French Resturants in Spuyten Duyvil, Bronx:0\n",
            "( 37 / 306 ) French Resturants in North Riverdale, Bronx:0\n",
            "( 38 / 306 ) French Resturants in Pelham Bay, Bronx:0\n",
            "( 39 / 306 ) French Resturants in Schuylerville, Bronx:0\n",
            "( 40 / 306 ) French Resturants in Edgewater Park, Bronx:0\n",
            "( 41 / 306 ) French Resturants in Castle Hill, Bronx:0\n",
            "( 42 / 306 ) French Resturants in Olinville, Bronx:0\n",
            "( 43 / 306 ) French Resturants in Pelham Gardens, Bronx:0\n",
            "( 44 / 306 ) French Resturants in Concourse, Bronx:0\n",
            "( 45 / 306 ) French Resturants in Unionport, Bronx:0\n",
            "( 46 / 306 ) French Resturants in Edenwald, Bronx:0\n",
            "( 47 / 306 ) French Resturants in Bay Ridge, Brooklyn:0\n",
            "( 48 / 306 ) French Resturants in Bensonhurst, Brooklyn:0\n",
            "( 49 / 306 ) French Resturants in Sunset Park, Brooklyn:0\n",
            "( 50 / 306 ) French Resturants in Greenpoint, Brooklyn:3\n",
            "( 51 / 306 ) French Resturants in Gravesend, Brooklyn:0\n",
            "( 52 / 306 ) French Resturants in Brighton Beach, Brooklyn:0\n",
            "( 53 / 306 ) French Resturants in Sheepshead Bay, Brooklyn:0\n",
            "( 54 / 306 ) French Resturants in Manhattan Terrace, Brooklyn:0\n",
            "( 55 / 306 ) French Resturants in Flatbush, Brooklyn:0\n",
            "( 56 / 306 ) French Resturants in Crown Heights, Brooklyn:0\n",
            "( 57 / 306 ) French Resturants in East Flatbush, Brooklyn:0\n",
            "( 58 / 306 ) French Resturants in Kensington, Brooklyn:0\n",
            "( 59 / 306 ) French Resturants in Windsor Terrace, Brooklyn:2\n",
            "( 60 / 306 ) French Resturants in Prospect Heights, Brooklyn:0\n",
            "( 61 / 306 ) French Resturants in Brownsville, Brooklyn:0\n",
            "( 62 / 306 ) French Resturants in Williamsburg, Brooklyn:0\n",
            "( 63 / 306 ) French Resturants in Bushwick, Brooklyn:1\n",
            "( 64 / 306 ) French Resturants in Bedford Stuyvesant, Brooklyn:1\n",
            "( 65 / 306 ) French Resturants in Brooklyn Heights, Brooklyn:1\n",
            "( 66 / 306 ) French Resturants in Cobble Hill, Brooklyn:1\n",
            "( 67 / 306 ) French Resturants in Carroll Gardens, Brooklyn:2\n",
            "( 68 / 306 ) French Resturants in Red Hook, Brooklyn:0\n",
            "( 69 / 306 ) French Resturants in Gowanus, Brooklyn:1\n",
            "( 70 / 306 ) French Resturants in Fort Greene, Brooklyn:2\n",
            "( 71 / 306 ) French Resturants in Park Slope, Brooklyn:0\n",
            "( 72 / 306 ) French Resturants in Cypress Hills, Brooklyn:0\n",
            "( 73 / 306 ) French Resturants in East New York, Brooklyn:0\n",
            "( 74 / 306 ) French Resturants in Starrett City, Brooklyn:0\n",
            "( 75 / 306 ) French Resturants in Canarsie, Brooklyn:0\n",
            "( 76 / 306 ) French Resturants in Flatlands, Brooklyn:0\n",
            "( 77 / 306 ) French Resturants in Mill Island, Brooklyn:0\n",
            "( 78 / 306 ) French Resturants in Manhattan Beach, Brooklyn:0\n",
            "( 79 / 306 ) French Resturants in Coney Island, Brooklyn:0\n",
            "( 80 / 306 ) French Resturants in Bath Beach, Brooklyn:0\n",
            "( 81 / 306 ) French Resturants in Borough Park, Brooklyn:0\n",
            "( 82 / 306 ) French Resturants in Dyker Heights, Brooklyn:0\n",
            "( 83 / 306 ) French Resturants in Gerritsen Beach, Brooklyn:0\n",
            "( 84 / 306 ) French Resturants in Marine Park, Brooklyn:0\n",
            "( 85 / 306 ) French Resturants in Clinton Hill, Brooklyn:2\n",
            "( 86 / 306 ) French Resturants in Sea Gate, Brooklyn:0\n",
            "( 87 / 306 ) French Resturants in Downtown, Brooklyn:4\n",
            "( 88 / 306 ) French Resturants in Boerum Hill, Brooklyn:2\n",
            "( 89 / 306 ) French Resturants in Prospect Lefferts Gardens, Brooklyn:0\n",
            "( 90 / 306 ) French Resturants in Ocean Hill, Brooklyn:0\n",
            "( 91 / 306 ) French Resturants in City Line, Brooklyn:0\n",
            "( 92 / 306 ) French Resturants in Bergen Beach, Brooklyn:0\n",
            "( 93 / 306 ) French Resturants in Midwood, Brooklyn:0\n",
            "( 94 / 306 ) French Resturants in Prospect Park South, Brooklyn:0\n",
            "( 95 / 306 ) French Resturants in Georgetown, Brooklyn:0\n",
            "( 96 / 306 ) French Resturants in East Williamsburg, Brooklyn:0\n",
            "( 97 / 306 ) French Resturants in North Side, Brooklyn:2\n",
            "( 98 / 306 ) French Resturants in South Side, Brooklyn:1\n",
            "( 99 / 306 ) French Resturants in Ocean Parkway, Brooklyn:0\n",
            "( 100 / 306 ) French Resturants in Fort Hamilton, Brooklyn:0\n",
            "( 101 / 306 ) French Resturants in Chinatown, Manhattan:2\n",
            "( 102 / 306 ) French Resturants in Washington Heights, Manhattan:0\n",
            "( 103 / 306 ) French Resturants in Inwood, Manhattan:0\n",
            "( 104 / 306 ) French Resturants in Hamilton Heights, Manhattan:0\n",
            "( 105 / 306 ) French Resturants in Manhattanville, Manhattan:1\n",
            "( 106 / 306 ) French Resturants in Central Harlem, Manhattan:3\n",
            "( 107 / 306 ) French Resturants in East Harlem, Manhattan:1\n",
            "( 108 / 306 ) French Resturants in Upper East Side, Manhattan:2\n",
            "( 109 / 306 ) French Resturants in Yorkville, Manhattan:1\n",
            "( 110 / 306 ) French Resturants in Lenox Hill, Manhattan:3\n",
            "( 111 / 306 ) French Resturants in Roosevelt Island, Manhattan:1\n",
            "( 112 / 306 ) French Resturants in Upper West Side, Manhattan:0\n",
            "( 113 / 306 ) French Resturants in Lincoln Square, Manhattan:4\n",
            "( 114 / 306 ) French Resturants in Clinton, Manhattan:1\n",
            "( 115 / 306 ) French Resturants in Midtown, Manhattan:0\n",
            "( 116 / 306 ) French Resturants in Murray Hill, Manhattan:1\n",
            "( 117 / 306 ) French Resturants in Chelsea, Manhattan:1\n",
            "( 118 / 306 ) French Resturants in Greenwich Village, Manhattan:2\n",
            "( 119 / 306 ) French Resturants in East Village, Manhattan:0\n",
            "( 120 / 306 ) French Resturants in Lower East Side, Manhattan:2\n",
            "( 121 / 306 ) French Resturants in Tribeca, Manhattan:1\n",
            "( 122 / 306 ) French Resturants in Little Italy, Manhattan:1\n",
            "( 123 / 306 ) French Resturants in Soho, Manhattan:3\n",
            "( 124 / 306 ) French Resturants in West Village, Manhattan:1\n",
            "( 125 / 306 ) French Resturants in Manhattan Valley, Manhattan:1\n",
            "( 126 / 306 ) French Resturants in Morningside Heights, Manhattan:0\n",
            "( 127 / 306 ) French Resturants in Gramercy, Manhattan:0\n",
            "( 128 / 306 ) French Resturants in Battery Park City, Manhattan:1\n",
            "( 129 / 306 ) French Resturants in Financial District, Manhattan:1\n",
            "( 130 / 306 ) French Resturants in Astoria, Queens:0\n",
            "( 131 / 306 ) French Resturants in Woodside, Queens:0\n",
            "( 132 / 306 ) French Resturants in Jackson Heights, Queens:0\n",
            "( 133 / 306 ) French Resturants in Elmhurst, Queens:0\n",
            "( 134 / 306 ) French Resturants in Howard Beach, Queens:0\n",
            "( 135 / 306 ) French Resturants in Corona, Queens:0\n",
            "( 136 / 306 ) French Resturants in Forest Hills, Queens:0\n",
            "( 137 / 306 ) French Resturants in Kew Gardens, Queens:0\n",
            "( 138 / 306 ) French Resturants in Richmond Hill, Queens:0\n",
            "( 139 / 306 ) French Resturants in Flushing, Queens:0\n",
            "( 140 / 306 ) French Resturants in Long Island City, Queens:0\n",
            "( 141 / 306 ) French Resturants in Sunnyside, Queens:0\n",
            "( 142 / 306 ) French Resturants in East Elmhurst, Queens:0\n",
            "( 143 / 306 ) French Resturants in Maspeth, Queens:0\n",
            "( 144 / 306 ) French Resturants in Ridgewood, Queens:0\n",
            "( 145 / 306 ) French Resturants in Glendale, Queens:0\n",
            "( 146 / 306 ) French Resturants in Rego Park, Queens:0\n",
            "( 147 / 306 ) French Resturants in Woodhaven, Queens:0\n",
            "( 148 / 306 ) French Resturants in Ozone Park, Queens:0\n",
            "( 149 / 306 ) French Resturants in South Ozone Park, Queens:0\n",
            "( 150 / 306 ) French Resturants in College Point, Queens:0\n",
            "( 151 / 306 ) French Resturants in Whitestone, Queens:0\n",
            "( 152 / 306 ) French Resturants in Bayside, Queens:0\n",
            "( 153 / 306 ) French Resturants in Auburndale, Queens:0\n",
            "( 154 / 306 ) French Resturants in Little Neck, Queens:1\n",
            "( 155 / 306 ) French Resturants in Douglaston, Queens:1\n",
            "( 156 / 306 ) French Resturants in Glen Oaks, Queens:0\n",
            "( 157 / 306 ) French Resturants in Bellerose, Queens:0\n",
            "( 158 / 306 ) French Resturants in Kew Gardens Hills, Queens:0\n",
            "( 159 / 306 ) French Resturants in Fresh Meadows, Queens:0\n",
            "( 160 / 306 ) French Resturants in Briarwood, Queens:0\n",
            "( 161 / 306 ) French Resturants in Jamaica Center, Queens:0\n",
            "( 162 / 306 ) French Resturants in Oakland Gardens, Queens:0\n",
            "( 163 / 306 ) French Resturants in Queens Village, Queens:0\n",
            "( 164 / 306 ) French Resturants in Hollis, Queens:0\n",
            "( 165 / 306 ) French Resturants in South Jamaica, Queens:0\n",
            "( 166 / 306 ) French Resturants in St. Albans, Queens:0\n",
            "( 167 / 306 ) French Resturants in Rochdale, Queens:0\n",
            "( 168 / 306 ) French Resturants in Springfield Gardens, Queens:0\n",
            "( 169 / 306 ) French Resturants in Cambria Heights, Queens:0\n",
            "( 170 / 306 ) French Resturants in Rosedale, Queens:0\n",
            "( 171 / 306 ) French Resturants in Far Rockaway, Queens:0\n",
            "( 172 / 306 ) French Resturants in Broad Channel, Queens:0\n",
            "( 173 / 306 ) French Resturants in Breezy Point, Queens:0\n",
            "( 174 / 306 ) French Resturants in Steinway, Queens:0\n",
            "( 175 / 306 ) French Resturants in Beechhurst, Queens:0\n",
            "( 176 / 306 ) French Resturants in Bay Terrace, Queens:0\n",
            "( 177 / 306 ) French Resturants in Edgemere, Queens:0\n",
            "( 178 / 306 ) French Resturants in Arverne, Queens:0\n",
            "( 179 / 306 ) French Resturants in Rockaway Beach, Queens:0\n",
            "( 180 / 306 ) French Resturants in Neponsit, Queens:0\n",
            "( 181 / 306 ) French Resturants in Murray Hill, Queens:0\n",
            "( 182 / 306 ) French Resturants in Floral Park, Queens:0\n",
            "( 183 / 306 ) French Resturants in Holliswood, Queens:0\n",
            "( 184 / 306 ) French Resturants in Jamaica Estates, Queens:0\n",
            "( 185 / 306 ) French Resturants in Queensboro Hill, Queens:0\n",
            "( 186 / 306 ) French Resturants in Hillcrest, Queens:0\n",
            "( 187 / 306 ) French Resturants in Ravenswood, Queens:1\n",
            "( 188 / 306 ) French Resturants in Lindenwood, Queens:0\n",
            "( 189 / 306 ) French Resturants in Laurelton, Queens:0\n",
            "( 190 / 306 ) French Resturants in Lefrak City, Queens:0\n",
            "( 191 / 306 ) French Resturants in Belle Harbor, Queens:0\n",
            "( 192 / 306 ) French Resturants in Rockaway Park, Queens:1\n",
            "( 193 / 306 ) French Resturants in Somerville, Queens:0\n",
            "( 194 / 306 ) French Resturants in Brookville, Queens:0\n",
            "( 195 / 306 ) French Resturants in Bellaire, Queens:0\n",
            "( 196 / 306 ) French Resturants in North Corona, Queens:0\n",
            "( 197 / 306 ) French Resturants in Forest Hills Gardens, Queens:0\n",
            "( 198 / 306 ) French Resturants in St. George, Staten Island:0\n",
            "( 199 / 306 ) French Resturants in New Brighton, Staten Island:0\n",
            "( 200 / 306 ) French Resturants in Stapleton, Staten Island:0\n",
            "( 201 / 306 ) French Resturants in Rosebank, Staten Island:0\n",
            "( 202 / 306 ) French Resturants in West Brighton, Staten Island:0\n",
            "( 203 / 306 ) French Resturants in Grymes Hill, Staten Island:0\n",
            "( 204 / 306 ) French Resturants in Todt Hill, Staten Island:0\n",
            "( 205 / 306 ) French Resturants in South Beach, Staten Island:0\n",
            "( 206 / 306 ) French Resturants in Port Richmond, Staten Island:0\n",
            "( 207 / 306 ) French Resturants in Mariner's Harbor, Staten Island:0\n",
            "( 208 / 306 ) French Resturants in Port Ivory, Staten Island:0\n",
            "( 209 / 306 ) French Resturants in Castleton Corners, Staten Island:0\n",
            "( 210 / 306 ) French Resturants in New Springville, Staten Island:0\n",
            "( 211 / 306 ) French Resturants in Travis, Staten Island:0\n",
            "( 212 / 306 ) French Resturants in New Dorp, Staten Island:1\n",
            "( 213 / 306 ) French Resturants in Oakwood, Staten Island:0\n",
            "( 214 / 306 ) French Resturants in Great Kills, Staten Island:0\n",
            "( 215 / 306 ) French Resturants in Eltingville, Staten Island:0\n",
            "( 216 / 306 ) French Resturants in Annadale, Staten Island:0\n",
            "( 217 / 306 ) French Resturants in Woodrow, Staten Island:0\n",
            "( 218 / 306 ) French Resturants in Tottenville, Staten Island:0\n",
            "( 219 / 306 ) French Resturants in Tompkinsville, Staten Island:0\n",
            "( 220 / 306 ) French Resturants in Silver Lake, Staten Island:0\n",
            "( 221 / 306 ) French Resturants in Sunnyside, Staten Island:0\n",
            "( 222 / 306 ) French Resturants in Ditmas Park, Brooklyn:0\n",
            "( 223 / 306 ) French Resturants in Wingate, Brooklyn:0\n",
            "( 224 / 306 ) French Resturants in Rugby, Brooklyn:0\n",
            "( 225 / 306 ) French Resturants in Park Hill, Staten Island:0\n",
            "( 226 / 306 ) French Resturants in Westerleigh, Staten Island:0\n",
            "( 227 / 306 ) French Resturants in Graniteville, Staten Island:0\n",
            "( 228 / 306 ) French Resturants in Arlington, Staten Island:0\n",
            "( 229 / 306 ) French Resturants in Arrochar, Staten Island:0\n",
            "( 230 / 306 ) French Resturants in Grasmere, Staten Island:0\n",
            "( 231 / 306 ) French Resturants in Old Town, Staten Island:0\n",
            "( 232 / 306 ) French Resturants in Dongan Hills, Staten Island:0\n",
            "( 233 / 306 ) French Resturants in Midland Beach, Staten Island:0\n",
            "( 234 / 306 ) French Resturants in Grant City, Staten Island:1\n",
            "( 235 / 306 ) French Resturants in New Dorp Beach, Staten Island:0\n",
            "( 236 / 306 ) French Resturants in Bay Terrace, Staten Island:0\n",
            "( 237 / 306 ) French Resturants in Huguenot, Staten Island:0\n",
            "( 238 / 306 ) French Resturants in Pleasant Plains, Staten Island:0\n",
            "( 239 / 306 ) French Resturants in Butler Manor, Staten Island:0\n",
            "( 240 / 306 ) French Resturants in Charleston, Staten Island:0\n",
            "( 241 / 306 ) French Resturants in Rossville, Staten Island:0\n",
            "( 242 / 306 ) French Resturants in Arden Heights, Staten Island:0\n",
            "( 243 / 306 ) French Resturants in Greenridge, Staten Island:0\n",
            "( 244 / 306 ) French Resturants in Heartland Village, Staten Island:0\n",
            "( 245 / 306 ) French Resturants in Chelsea, Staten Island:0\n",
            "( 246 / 306 ) French Resturants in Bloomfield, Staten Island:0\n",
            "( 247 / 306 ) French Resturants in Bulls Head, Staten Island:0\n",
            "( 248 / 306 ) French Resturants in Carnegie Hill, Manhattan:2\n",
            "( 249 / 306 ) French Resturants in Noho, Manhattan:3\n",
            "( 250 / 306 ) French Resturants in Civic Center, Manhattan:2\n",
            "( 251 / 306 ) French Resturants in Midtown South, Manhattan:0\n",
            "( 252 / 306 ) French Resturants in Richmond Town, Staten Island:0\n",
            "( 253 / 306 ) French Resturants in Shore Acres, Staten Island:0\n",
            "( 254 / 306 ) French Resturants in Clifton, Staten Island:0\n",
            "( 255 / 306 ) French Resturants in Concord, Staten Island:0\n",
            "( 256 / 306 ) French Resturants in Emerson Hill, Staten Island:0\n",
            "( 257 / 306 ) French Resturants in Randall Manor, Staten Island:0\n",
            "( 258 / 306 ) French Resturants in Howland Hook, Staten Island:0\n",
            "( 259 / 306 ) French Resturants in Elm Park, Staten Island:0\n",
            "( 260 / 306 ) French Resturants in Remsen Village, Brooklyn:0\n",
            "( 261 / 306 ) French Resturants in New Lots, Brooklyn:0\n",
            "( 262 / 306 ) French Resturants in Paerdegat Basin, Brooklyn:0\n",
            "( 263 / 306 ) French Resturants in Mill Basin, Brooklyn:0\n",
            "( 264 / 306 ) French Resturants in Jamaica Hills, Queens:0\n",
            "( 265 / 306 ) French Resturants in Utopia, Queens:0\n",
            "( 266 / 306 ) French Resturants in Pomonok, Queens:0\n",
            "( 267 / 306 ) French Resturants in Astoria Heights, Queens:0\n",
            "( 268 / 306 ) French Resturants in Claremont Village, Bronx:0\n",
            "( 269 / 306 ) French Resturants in Concourse Village, Bronx:0\n",
            "( 270 / 306 ) French Resturants in Mount Eden, Bronx:0\n",
            "( 271 / 306 ) French Resturants in Mount Hope, Bronx:0\n",
            "( 272 / 306 ) French Resturants in Sutton Place, Manhattan:3\n",
            "( 273 / 306 ) French Resturants in Hunters Point, Queens:1\n",
            "( 274 / 306 ) French Resturants in Turtle Bay, Manhattan:1\n",
            "( 275 / 306 ) French Resturants in Tudor City, Manhattan:1\n",
            "( 276 / 306 ) French Resturants in Stuyvesant Town, Manhattan:0\n",
            "( 277 / 306 ) French Resturants in Flatiron, Manhattan:0\n",
            "( 278 / 306 ) French Resturants in Sunnyside Gardens, Queens:1\n",
            "( 279 / 306 ) French Resturants in Blissville, Queens:0\n",
            "( 280 / 306 ) French Resturants in Fulton Ferry, Brooklyn:0\n",
            "( 281 / 306 ) French Resturants in Vinegar Hill, Brooklyn:0\n",
            "( 282 / 306 ) French Resturants in Weeksville, Brooklyn:1\n",
            "( 283 / 306 ) French Resturants in Broadway Junction, Brooklyn:0\n",
            "( 284 / 306 ) French Resturants in Dumbo, Brooklyn:0\n",
            "( 285 / 306 ) French Resturants in Manor Heights, Staten Island:0\n",
            "( 286 / 306 ) French Resturants in Willowbrook, Staten Island:0\n",
            "( 287 / 306 ) French Resturants in Sandy Ground, Staten Island:0\n",
            "( 288 / 306 ) French Resturants in Egbertville, Staten Island:0\n",
            "( 289 / 306 ) French Resturants in Roxbury, Queens:0\n",
            "( 290 / 306 ) French Resturants in Homecrest, Brooklyn:0\n",
            "( 291 / 306 ) French Resturants in Middle Village, Queens:0\n",
            "( 292 / 306 ) French Resturants in Prince's Bay, Staten Island:0\n",
            "( 293 / 306 ) French Resturants in Lighthouse Hill, Staten Island:0\n",
            "( 294 / 306 ) French Resturants in Richmond Valley, Staten Island:0\n",
            "( 295 / 306 ) French Resturants in Malba, Queens:0\n",
            "( 296 / 306 ) French Resturants in Highland Park, Brooklyn:0\n",
            "( 297 / 306 ) French Resturants in Madison, Brooklyn:0\n",
            "( 298 / 306 ) French Resturants in Bronxdale, Bronx:0\n",
            "( 299 / 306 ) French Resturants in Allerton, Bronx:0\n",
            "( 300 / 306 ) French Resturants in Kingsbridge Heights, Bronx:0\n",
            "( 301 / 306 ) French Resturants in Erasmus, Brooklyn:0\n",
            "( 302 / 306 ) French Resturants in Hudson Yards, Manhattan:1\n",
            "( 303 / 306 ) French Resturants in Hammels, Queens:0\n",
            "( 304 / 306 ) French Resturants in Bayswater, Queens:0\n",
            "( 305 / 306 ) French Resturants in Queensbridge, Queens:0\n",
            "( 306 / 306 ) French Resturants in Fox Hills, Staten Island:0\n"
          ],
          "name": "stdout"
        }
      ]
    },
    {
      "cell_type": "code",
      "metadata": {
        "id": "rwX4O4H0eoOf",
        "colab_type": "code",
        "colab": {}
      },
      "source": [
        "french_rest_ny.to_csv('french_rest_ny.csv',index=False)"
      ],
      "execution_count": 13,
      "outputs": []
    },
    {
      "cell_type": "code",
      "metadata": {
        "id": "Zc2amzcL92mC",
        "colab_type": "code",
        "colab": {}
      },
      "source": [
        "french_rest_ny = pd.read_csv('french_rest_ny.csv')"
      ],
      "execution_count": 14,
      "outputs": []
    },
    {
      "cell_type": "code",
      "metadata": {
        "id": "2jBXUrJtQosp",
        "colab_type": "code",
        "colab": {
          "base_uri": "https://localhost:8080/",
          "height": 204
        },
        "outputId": "c57d803e-7096-4e30-feda-59de7ccc8557"
      },
      "source": [
        "french_rest_ny.head()"
      ],
      "execution_count": 15,
      "outputs": [
        {
          "output_type": "execute_result",
          "data": {
            "text/html": [
              "<div>\n",
              "<style scoped>\n",
              "    .dataframe tbody tr th:only-of-type {\n",
              "        vertical-align: middle;\n",
              "    }\n",
              "\n",
              "    .dataframe tbody tr th {\n",
              "        vertical-align: top;\n",
              "    }\n",
              "\n",
              "    .dataframe thead th {\n",
              "        text-align: right;\n",
              "    }\n",
              "</style>\n",
              "<table border=\"1\" class=\"dataframe\">\n",
              "  <thead>\n",
              "    <tr style=\"text-align: right;\">\n",
              "      <th></th>\n",
              "      <th>Borough</th>\n",
              "      <th>Neighborhood</th>\n",
              "      <th>ID</th>\n",
              "      <th>Name</th>\n",
              "    </tr>\n",
              "  </thead>\n",
              "  <tbody>\n",
              "    <tr>\n",
              "      <th>0</th>\n",
              "      <td>Bronx</td>\n",
              "      <td>City Island</td>\n",
              "      <td>4d7aa83ee540f04d66ba16dc</td>\n",
              "      <td>Bistro SK</td>\n",
              "    </tr>\n",
              "    <tr>\n",
              "      <th>1</th>\n",
              "      <td>Brooklyn</td>\n",
              "      <td>Greenpoint</td>\n",
              "      <td>5bf358689fca56002c251a87</td>\n",
              "      <td>Citroën</td>\n",
              "    </tr>\n",
              "    <tr>\n",
              "      <th>2</th>\n",
              "      <td>Brooklyn</td>\n",
              "      <td>Greenpoint</td>\n",
              "      <td>58fd34584382ab70ad90083e</td>\n",
              "      <td>Chez Ma Tante</td>\n",
              "    </tr>\n",
              "    <tr>\n",
              "      <th>3</th>\n",
              "      <td>Brooklyn</td>\n",
              "      <td>Greenpoint</td>\n",
              "      <td>4bcf1883c564ef3ba33beff0</td>\n",
              "      <td>Le Gamin</td>\n",
              "    </tr>\n",
              "    <tr>\n",
              "      <th>4</th>\n",
              "      <td>Brooklyn</td>\n",
              "      <td>Windsor Terrace</td>\n",
              "      <td>4e7d174cb6340a4da75a2cca</td>\n",
              "      <td>Le Paddock</td>\n",
              "    </tr>\n",
              "  </tbody>\n",
              "</table>\n",
              "</div>"
            ],
            "text/plain": [
              "    Borough     Neighborhood                        ID           Name\n",
              "0     Bronx      City Island  4d7aa83ee540f04d66ba16dc      Bistro SK\n",
              "1  Brooklyn       Greenpoint  5bf358689fca56002c251a87        Citroën\n",
              "2  Brooklyn       Greenpoint  58fd34584382ab70ad90083e  Chez Ma Tante\n",
              "3  Brooklyn       Greenpoint  4bcf1883c564ef3ba33beff0       Le Gamin\n",
              "4  Brooklyn  Windsor Terrace  4e7d174cb6340a4da75a2cca     Le Paddock"
            ]
          },
          "metadata": {
            "tags": []
          },
          "execution_count": 15
        }
      ]
    },
    {
      "cell_type": "code",
      "metadata": {
        "id": "yR0qglTfQq6T",
        "colab_type": "code",
        "colab": {
          "base_uri": "https://localhost:8080/",
          "height": 34
        },
        "outputId": "2cb60e89-2ed5-4a5a-ce57-f9f06c1eb445"
      },
      "source": [
        "french_rest_ny.shape"
      ],
      "execution_count": 16,
      "outputs": [
        {
          "output_type": "execute_result",
          "data": {
            "text/plain": [
              "(82, 4)"
            ]
          },
          "metadata": {
            "tags": []
          },
          "execution_count": 16
        }
      ]
    },
    {
      "cell_type": "markdown",
      "metadata": {
        "id": "XS6p-WwiQ6x_",
        "colab_type": "text"
      },
      "source": [
        "From the results above, we see that there are 82 French resturants across New York City"
      ]
    },
    {
      "cell_type": "code",
      "metadata": {
        "id": "pjZJr5cwQzJf",
        "colab_type": "code",
        "colab": {
          "base_uri": "https://localhost:8080/",
          "height": 235
        },
        "outputId": "a3353b68-a90a-49af-d3c3-4857576e0df9"
      },
      "source": [
        "ny_french_res_df = pd.DataFrame(french_rest_ny.groupby('Borough')['Name'].count())\n",
        "ny_french_res_df.head()"
      ],
      "execution_count": 17,
      "outputs": [
        {
          "output_type": "execute_result",
          "data": {
            "text/html": [
              "<div>\n",
              "<style scoped>\n",
              "    .dataframe tbody tr th:only-of-type {\n",
              "        vertical-align: middle;\n",
              "    }\n",
              "\n",
              "    .dataframe tbody tr th {\n",
              "        vertical-align: top;\n",
              "    }\n",
              "\n",
              "    .dataframe thead th {\n",
              "        text-align: right;\n",
              "    }\n",
              "</style>\n",
              "<table border=\"1\" class=\"dataframe\">\n",
              "  <thead>\n",
              "    <tr style=\"text-align: right;\">\n",
              "      <th></th>\n",
              "      <th>Name</th>\n",
              "    </tr>\n",
              "    <tr>\n",
              "      <th>Borough</th>\n",
              "      <th></th>\n",
              "    </tr>\n",
              "  </thead>\n",
              "  <tbody>\n",
              "    <tr>\n",
              "      <th>Bronx</th>\n",
              "      <td>1</td>\n",
              "    </tr>\n",
              "    <tr>\n",
              "      <th>Brooklyn</th>\n",
              "      <td>26</td>\n",
              "    </tr>\n",
              "    <tr>\n",
              "      <th>Manhattan</th>\n",
              "      <td>47</td>\n",
              "    </tr>\n",
              "    <tr>\n",
              "      <th>Queens</th>\n",
              "      <td>6</td>\n",
              "    </tr>\n",
              "    <tr>\n",
              "      <th>Staten Island</th>\n",
              "      <td>2</td>\n",
              "    </tr>\n",
              "  </tbody>\n",
              "</table>\n",
              "</div>"
            ],
            "text/plain": [
              "               Name\n",
              "Borough            \n",
              "Bronx             1\n",
              "Brooklyn         26\n",
              "Manhattan        47\n",
              "Queens            6\n",
              "Staten Island     2"
            ]
          },
          "metadata": {
            "tags": []
          },
          "execution_count": 17
        }
      ]
    },
    {
      "cell_type": "code",
      "metadata": {
        "id": "ehfo5FFwRi0m",
        "colab_type": "code",
        "colab": {
          "base_uri": "https://localhost:8080/",
          "height": 542
        },
        "outputId": "d84a2030-79db-447e-83df-6afa5f84cd4f"
      },
      "source": [
        "borough_rest = ny_french_res_df.reset_index().Borough\n",
        "count_rest = ny_french_res_df.reset_index().Name\n",
        "fig = go.Figure([go.Bar(x = borough_rest, y = count_rest, name ='Resturants')])\n",
        "fig.update_layout(title = 'Number of French Restaurants for each Borough in New York City', title_x=0.5, plot_bgcolor='rgb(230, 230,230)', showlegend=True, font=dict( family=\"Calibri\", size=18, color=\"black\"))\n",
        "fig.update_xaxes(title_text='Borough', nticks=20)\n",
        "fig.update_yaxes(title_text='Number of French Restaurants')\n",
        "fig.show()"
      ],
      "execution_count": 18,
      "outputs": [
        {
          "output_type": "display_data",
          "data": {
            "text/html": [
              "<html>\n",
              "<head><meta charset=\"utf-8\" /></head>\n",
              "<body>\n",
              "    <div>\n",
              "            <script src=\"https://cdnjs.cloudflare.com/ajax/libs/mathjax/2.7.5/MathJax.js?config=TeX-AMS-MML_SVG\"></script><script type=\"text/javascript\">if (window.MathJax) {MathJax.Hub.Config({SVG: {font: \"STIX-Web\"}});}</script>\n",
              "                <script type=\"text/javascript\">window.PlotlyConfig = {MathJaxConfig: 'local'};</script>\n",
              "        <script src=\"https://cdn.plot.ly/plotly-latest.min.js\"></script>    \n",
              "            <div id=\"922f46e5-d38e-4322-b34b-7e42250c7757\" class=\"plotly-graph-div\" style=\"height:525px; width:100%;\"></div>\n",
              "            <script type=\"text/javascript\">\n",
              "                \n",
              "                    window.PLOTLYENV=window.PLOTLYENV || {};\n",
              "                    \n",
              "                if (document.getElementById(\"922f46e5-d38e-4322-b34b-7e42250c7757\")) {\n",
              "                    Plotly.newPlot(\n",
              "                        '922f46e5-d38e-4322-b34b-7e42250c7757',\n",
              "                        [{\"name\": \"Resturants\", \"type\": \"bar\", \"x\": [\"Bronx\", \"Brooklyn\", \"Manhattan\", \"Queens\", \"Staten Island\"], \"y\": [1, 26, 47, 6, 2]}],\n",
              "                        {\"font\": {\"color\": \"black\", \"family\": \"Calibri\", \"size\": 18}, \"plot_bgcolor\": \"rgb(230, 230,230)\", \"showlegend\": true, \"template\": {\"data\": {\"bar\": [{\"error_x\": {\"color\": \"#2a3f5f\"}, \"error_y\": {\"color\": \"#2a3f5f\"}, \"marker\": {\"line\": {\"color\": \"#E5ECF6\", \"width\": 0.5}}, \"type\": \"bar\"}], \"barpolar\": [{\"marker\": {\"line\": {\"color\": \"#E5ECF6\", \"width\": 0.5}}, \"type\": \"barpolar\"}], \"carpet\": [{\"aaxis\": {\"endlinecolor\": \"#2a3f5f\", \"gridcolor\": \"white\", \"linecolor\": \"white\", \"minorgridcolor\": \"white\", \"startlinecolor\": \"#2a3f5f\"}, \"baxis\": {\"endlinecolor\": \"#2a3f5f\", \"gridcolor\": \"white\", \"linecolor\": \"white\", \"minorgridcolor\": \"white\", \"startlinecolor\": \"#2a3f5f\"}, \"type\": \"carpet\"}], \"choropleth\": [{\"colorbar\": {\"outlinewidth\": 0, \"ticks\": \"\"}, \"type\": \"choropleth\"}], \"contour\": [{\"colorbar\": {\"outlinewidth\": 0, \"ticks\": \"\"}, \"colorscale\": [[0.0, \"#0d0887\"], [0.1111111111111111, \"#46039f\"], [0.2222222222222222, \"#7201a8\"], [0.3333333333333333, \"#9c179e\"], [0.4444444444444444, \"#bd3786\"], [0.5555555555555556, \"#d8576b\"], [0.6666666666666666, \"#ed7953\"], [0.7777777777777778, \"#fb9f3a\"], [0.8888888888888888, \"#fdca26\"], [1.0, \"#f0f921\"]], \"type\": \"contour\"}], \"contourcarpet\": [{\"colorbar\": {\"outlinewidth\": 0, \"ticks\": \"\"}, \"type\": \"contourcarpet\"}], \"heatmap\": [{\"colorbar\": {\"outlinewidth\": 0, \"ticks\": \"\"}, \"colorscale\": [[0.0, \"#0d0887\"], [0.1111111111111111, \"#46039f\"], [0.2222222222222222, \"#7201a8\"], [0.3333333333333333, \"#9c179e\"], [0.4444444444444444, \"#bd3786\"], [0.5555555555555556, \"#d8576b\"], [0.6666666666666666, \"#ed7953\"], [0.7777777777777778, \"#fb9f3a\"], [0.8888888888888888, \"#fdca26\"], [1.0, \"#f0f921\"]], \"type\": \"heatmap\"}], \"heatmapgl\": [{\"colorbar\": {\"outlinewidth\": 0, \"ticks\": \"\"}, \"colorscale\": [[0.0, \"#0d0887\"], [0.1111111111111111, \"#46039f\"], [0.2222222222222222, \"#7201a8\"], [0.3333333333333333, \"#9c179e\"], [0.4444444444444444, \"#bd3786\"], [0.5555555555555556, \"#d8576b\"], [0.6666666666666666, \"#ed7953\"], [0.7777777777777778, \"#fb9f3a\"], [0.8888888888888888, \"#fdca26\"], [1.0, \"#f0f921\"]], \"type\": \"heatmapgl\"}], \"histogram\": [{\"marker\": {\"colorbar\": {\"outlinewidth\": 0, \"ticks\": \"\"}}, \"type\": \"histogram\"}], \"histogram2d\": [{\"colorbar\": {\"outlinewidth\": 0, \"ticks\": \"\"}, \"colorscale\": [[0.0, \"#0d0887\"], [0.1111111111111111, \"#46039f\"], [0.2222222222222222, \"#7201a8\"], [0.3333333333333333, \"#9c179e\"], [0.4444444444444444, \"#bd3786\"], [0.5555555555555556, \"#d8576b\"], [0.6666666666666666, \"#ed7953\"], [0.7777777777777778, \"#fb9f3a\"], [0.8888888888888888, \"#fdca26\"], [1.0, \"#f0f921\"]], \"type\": \"histogram2d\"}], \"histogram2dcontour\": [{\"colorbar\": {\"outlinewidth\": 0, \"ticks\": \"\"}, \"colorscale\": [[0.0, \"#0d0887\"], [0.1111111111111111, \"#46039f\"], [0.2222222222222222, \"#7201a8\"], [0.3333333333333333, \"#9c179e\"], [0.4444444444444444, \"#bd3786\"], [0.5555555555555556, \"#d8576b\"], [0.6666666666666666, \"#ed7953\"], [0.7777777777777778, \"#fb9f3a\"], [0.8888888888888888, \"#fdca26\"], [1.0, \"#f0f921\"]], \"type\": \"histogram2dcontour\"}], \"mesh3d\": [{\"colorbar\": {\"outlinewidth\": 0, \"ticks\": \"\"}, \"type\": \"mesh3d\"}], \"parcoords\": [{\"line\": {\"colorbar\": {\"outlinewidth\": 0, \"ticks\": \"\"}}, \"type\": \"parcoords\"}], \"pie\": [{\"automargin\": true, \"type\": \"pie\"}], \"scatter\": [{\"marker\": {\"colorbar\": {\"outlinewidth\": 0, \"ticks\": \"\"}}, \"type\": \"scatter\"}], \"scatter3d\": [{\"line\": {\"colorbar\": {\"outlinewidth\": 0, \"ticks\": \"\"}}, \"marker\": {\"colorbar\": {\"outlinewidth\": 0, \"ticks\": \"\"}}, \"type\": \"scatter3d\"}], \"scattercarpet\": [{\"marker\": {\"colorbar\": {\"outlinewidth\": 0, \"ticks\": \"\"}}, \"type\": \"scattercarpet\"}], \"scattergeo\": [{\"marker\": {\"colorbar\": {\"outlinewidth\": 0, \"ticks\": \"\"}}, \"type\": \"scattergeo\"}], \"scattergl\": [{\"marker\": {\"colorbar\": {\"outlinewidth\": 0, \"ticks\": \"\"}}, \"type\": \"scattergl\"}], \"scattermapbox\": [{\"marker\": {\"colorbar\": {\"outlinewidth\": 0, \"ticks\": \"\"}}, \"type\": \"scattermapbox\"}], \"scatterpolar\": [{\"marker\": {\"colorbar\": {\"outlinewidth\": 0, \"ticks\": \"\"}}, \"type\": \"scatterpolar\"}], \"scatterpolargl\": [{\"marker\": {\"colorbar\": {\"outlinewidth\": 0, \"ticks\": \"\"}}, \"type\": \"scatterpolargl\"}], \"scatterternary\": [{\"marker\": {\"colorbar\": {\"outlinewidth\": 0, \"ticks\": \"\"}}, \"type\": \"scatterternary\"}], \"surface\": [{\"colorbar\": {\"outlinewidth\": 0, \"ticks\": \"\"}, \"colorscale\": [[0.0, \"#0d0887\"], [0.1111111111111111, \"#46039f\"], [0.2222222222222222, \"#7201a8\"], [0.3333333333333333, \"#9c179e\"], [0.4444444444444444, \"#bd3786\"], [0.5555555555555556, \"#d8576b\"], [0.6666666666666666, \"#ed7953\"], [0.7777777777777778, \"#fb9f3a\"], [0.8888888888888888, \"#fdca26\"], [1.0, \"#f0f921\"]], \"type\": \"surface\"}], \"table\": [{\"cells\": {\"fill\": {\"color\": \"#EBF0F8\"}, \"line\": {\"color\": \"white\"}}, \"header\": {\"fill\": {\"color\": \"#C8D4E3\"}, \"line\": {\"color\": \"white\"}}, \"type\": \"table\"}]}, \"layout\": {\"annotationdefaults\": {\"arrowcolor\": \"#2a3f5f\", \"arrowhead\": 0, \"arrowwidth\": 1}, \"coloraxis\": {\"colorbar\": {\"outlinewidth\": 0, \"ticks\": \"\"}}, \"colorscale\": {\"diverging\": [[0, \"#8e0152\"], [0.1, \"#c51b7d\"], [0.2, \"#de77ae\"], [0.3, \"#f1b6da\"], [0.4, \"#fde0ef\"], [0.5, \"#f7f7f7\"], [0.6, \"#e6f5d0\"], [0.7, \"#b8e186\"], [0.8, \"#7fbc41\"], [0.9, \"#4d9221\"], [1, \"#276419\"]], \"sequential\": [[0.0, \"#0d0887\"], [0.1111111111111111, \"#46039f\"], [0.2222222222222222, \"#7201a8\"], [0.3333333333333333, \"#9c179e\"], [0.4444444444444444, \"#bd3786\"], [0.5555555555555556, \"#d8576b\"], [0.6666666666666666, \"#ed7953\"], [0.7777777777777778, \"#fb9f3a\"], [0.8888888888888888, \"#fdca26\"], [1.0, \"#f0f921\"]], \"sequentialminus\": [[0.0, \"#0d0887\"], [0.1111111111111111, \"#46039f\"], [0.2222222222222222, \"#7201a8\"], [0.3333333333333333, \"#9c179e\"], [0.4444444444444444, \"#bd3786\"], [0.5555555555555556, \"#d8576b\"], [0.6666666666666666, \"#ed7953\"], [0.7777777777777778, \"#fb9f3a\"], [0.8888888888888888, \"#fdca26\"], [1.0, \"#f0f921\"]]}, \"colorway\": [\"#636efa\", \"#EF553B\", \"#00cc96\", \"#ab63fa\", \"#FFA15A\", \"#19d3f3\", \"#FF6692\", \"#B6E880\", \"#FF97FF\", \"#FECB52\"], \"font\": {\"color\": \"#2a3f5f\"}, \"geo\": {\"bgcolor\": \"white\", \"lakecolor\": \"white\", \"landcolor\": \"#E5ECF6\", \"showlakes\": true, \"showland\": true, \"subunitcolor\": \"white\"}, \"hoverlabel\": {\"align\": \"left\"}, \"hovermode\": \"closest\", \"mapbox\": {\"style\": \"light\"}, \"paper_bgcolor\": \"white\", \"plot_bgcolor\": \"#E5ECF6\", \"polar\": {\"angularaxis\": {\"gridcolor\": \"white\", \"linecolor\": \"white\", \"ticks\": \"\"}, \"bgcolor\": \"#E5ECF6\", \"radialaxis\": {\"gridcolor\": \"white\", \"linecolor\": \"white\", \"ticks\": \"\"}}, \"scene\": {\"xaxis\": {\"backgroundcolor\": \"#E5ECF6\", \"gridcolor\": \"white\", \"gridwidth\": 2, \"linecolor\": \"white\", \"showbackground\": true, \"ticks\": \"\", \"zerolinecolor\": \"white\"}, \"yaxis\": {\"backgroundcolor\": \"#E5ECF6\", \"gridcolor\": \"white\", \"gridwidth\": 2, \"linecolor\": \"white\", \"showbackground\": true, \"ticks\": \"\", \"zerolinecolor\": \"white\"}, \"zaxis\": {\"backgroundcolor\": \"#E5ECF6\", \"gridcolor\": \"white\", \"gridwidth\": 2, \"linecolor\": \"white\", \"showbackground\": true, \"ticks\": \"\", \"zerolinecolor\": \"white\"}}, \"shapedefaults\": {\"line\": {\"color\": \"#2a3f5f\"}}, \"ternary\": {\"aaxis\": {\"gridcolor\": \"white\", \"linecolor\": \"white\", \"ticks\": \"\"}, \"baxis\": {\"gridcolor\": \"white\", \"linecolor\": \"white\", \"ticks\": \"\"}, \"bgcolor\": \"#E5ECF6\", \"caxis\": {\"gridcolor\": \"white\", \"linecolor\": \"white\", \"ticks\": \"\"}}, \"title\": {\"x\": 0.05}, \"xaxis\": {\"automargin\": true, \"gridcolor\": \"white\", \"linecolor\": \"white\", \"ticks\": \"\", \"title\": {\"standoff\": 15}, \"zerolinecolor\": \"white\", \"zerolinewidth\": 2}, \"yaxis\": {\"automargin\": true, \"gridcolor\": \"white\", \"linecolor\": \"white\", \"ticks\": \"\", \"title\": {\"standoff\": 15}, \"zerolinecolor\": \"white\", \"zerolinewidth\": 2}}}, \"title\": {\"text\": \"Number of French Restaurants for each Borough in New York City\", \"x\": 0.5}, \"xaxis\": {\"nticks\": 20, \"title\": {\"text\": \"Borough\"}}, \"yaxis\": {\"title\": {\"text\": \"Number of French Restaurants\"}}},\n",
              "                        {\"responsive\": true}\n",
              "                    ).then(function(){\n",
              "                            \n",
              "var gd = document.getElementById('922f46e5-d38e-4322-b34b-7e42250c7757');\n",
              "var x = new MutationObserver(function (mutations, observer) {{\n",
              "        var display = window.getComputedStyle(gd).display;\n",
              "        if (!display || display === 'none') {{\n",
              "            console.log([gd, 'removed!']);\n",
              "            Plotly.purge(gd);\n",
              "            observer.disconnect();\n",
              "        }}\n",
              "}});\n",
              "\n",
              "// Listen for the removal of the full notebook cells\n",
              "var notebookContainer = gd.closest('#notebook-container');\n",
              "if (notebookContainer) {{\n",
              "    x.observe(notebookContainer, {childList: true});\n",
              "}}\n",
              "\n",
              "// Listen for the clearing of the current output cell\n",
              "var outputEl = gd.closest('.output');\n",
              "if (outputEl) {{\n",
              "    x.observe(outputEl, {childList: true});\n",
              "}}\n",
              "\n",
              "                        })\n",
              "                };\n",
              "                \n",
              "            </script>\n",
              "        </div>\n",
              "</body>\n",
              "</html>"
            ]
          },
          "metadata": {
            "tags": []
          }
        }
      ]
    },
    {
      "cell_type": "markdown",
      "metadata": {
        "id": "lUzZtqn1boQn",
        "colab_type": "text"
      },
      "source": [
        "From the above Bar Plot, we can see that Manhattan has the highest number of French resturants."
      ]
    },
    {
      "cell_type": "code",
      "metadata": {
        "id": "l6j2RocObxR8",
        "colab_type": "code",
        "colab": {
          "base_uri": "https://localhost:8080/",
          "height": 204
        },
        "outputId": "97d5defd-e257-4a0e-f5f9-757d864cec19"
      },
      "source": [
        "ny_french_res_nh_df = pd.DataFrame(french_rest_ny.groupby('Neighborhood')['Name'].count().nlargest(5))\n",
        "ny_french_res_nh_df.reset_index()"
      ],
      "execution_count": 19,
      "outputs": [
        {
          "output_type": "execute_result",
          "data": {
            "text/html": [
              "<div>\n",
              "<style scoped>\n",
              "    .dataframe tbody tr th:only-of-type {\n",
              "        vertical-align: middle;\n",
              "    }\n",
              "\n",
              "    .dataframe tbody tr th {\n",
              "        vertical-align: top;\n",
              "    }\n",
              "\n",
              "    .dataframe thead th {\n",
              "        text-align: right;\n",
              "    }\n",
              "</style>\n",
              "<table border=\"1\" class=\"dataframe\">\n",
              "  <thead>\n",
              "    <tr style=\"text-align: right;\">\n",
              "      <th></th>\n",
              "      <th>Neighborhood</th>\n",
              "      <th>Name</th>\n",
              "    </tr>\n",
              "  </thead>\n",
              "  <tbody>\n",
              "    <tr>\n",
              "      <th>0</th>\n",
              "      <td>Downtown</td>\n",
              "      <td>4</td>\n",
              "    </tr>\n",
              "    <tr>\n",
              "      <th>1</th>\n",
              "      <td>Lincoln Square</td>\n",
              "      <td>4</td>\n",
              "    </tr>\n",
              "    <tr>\n",
              "      <th>2</th>\n",
              "      <td>Central Harlem</td>\n",
              "      <td>3</td>\n",
              "    </tr>\n",
              "    <tr>\n",
              "      <th>3</th>\n",
              "      <td>Greenpoint</td>\n",
              "      <td>3</td>\n",
              "    </tr>\n",
              "    <tr>\n",
              "      <th>4</th>\n",
              "      <td>Lenox Hill</td>\n",
              "      <td>3</td>\n",
              "    </tr>\n",
              "  </tbody>\n",
              "</table>\n",
              "</div>"
            ],
            "text/plain": [
              "     Neighborhood  Name\n",
              "0        Downtown     4\n",
              "1  Lincoln Square     4\n",
              "2  Central Harlem     3\n",
              "3      Greenpoint     3\n",
              "4      Lenox Hill     3"
            ]
          },
          "metadata": {
            "tags": []
          },
          "execution_count": 19
        }
      ]
    },
    {
      "cell_type": "code",
      "metadata": {
        "id": "Y1vtSX3pb7HM",
        "colab_type": "code",
        "colab": {
          "base_uri": "https://localhost:8080/",
          "height": 542
        },
        "outputId": "3fe271d1-cf7a-4ef4-f545-8f70d32c0509"
      },
      "source": [
        "neighborhood_rest = ny_french_res_nh_df.reset_index().Neighborhood\n",
        "count_rest_nh = ny_french_res_nh_df.reset_index().Name\n",
        "fig = go.Figure([go.Bar(x = neighborhood_rest, y = count_rest_nh, name ='Resturants')])\n",
        "fig.update_layout(title = 'Number of French Restaurants for each Neighborhood in New York City', title_x=0.5, plot_bgcolor='rgb(230, 230,230)', showlegend=True, font=dict( family=\"Calibri\", size=18, color=\"black\"))\n",
        "fig.update_xaxes(title_text='Neighborhood', nticks=20)\n",
        "fig.update_yaxes(title_text='Number of French Restaurants')\n",
        "fig.show()"
      ],
      "execution_count": 20,
      "outputs": [
        {
          "output_type": "display_data",
          "data": {
            "text/html": [
              "<html>\n",
              "<head><meta charset=\"utf-8\" /></head>\n",
              "<body>\n",
              "    <div>\n",
              "            <script src=\"https://cdnjs.cloudflare.com/ajax/libs/mathjax/2.7.5/MathJax.js?config=TeX-AMS-MML_SVG\"></script><script type=\"text/javascript\">if (window.MathJax) {MathJax.Hub.Config({SVG: {font: \"STIX-Web\"}});}</script>\n",
              "                <script type=\"text/javascript\">window.PlotlyConfig = {MathJaxConfig: 'local'};</script>\n",
              "        <script src=\"https://cdn.plot.ly/plotly-latest.min.js\"></script>    \n",
              "            <div id=\"c6ddb3b0-7424-40a5-88c7-0596b4b85bb4\" class=\"plotly-graph-div\" style=\"height:525px; width:100%;\"></div>\n",
              "            <script type=\"text/javascript\">\n",
              "                \n",
              "                    window.PLOTLYENV=window.PLOTLYENV || {};\n",
              "                    \n",
              "                if (document.getElementById(\"c6ddb3b0-7424-40a5-88c7-0596b4b85bb4\")) {\n",
              "                    Plotly.newPlot(\n",
              "                        'c6ddb3b0-7424-40a5-88c7-0596b4b85bb4',\n",
              "                        [{\"name\": \"Resturants\", \"type\": \"bar\", \"x\": [\"Downtown\", \"Lincoln Square\", \"Central Harlem\", \"Greenpoint\", \"Lenox Hill\"], \"y\": [4, 4, 3, 3, 3]}],\n",
              "                        {\"font\": {\"color\": \"black\", \"family\": \"Calibri\", \"size\": 18}, \"plot_bgcolor\": \"rgb(230, 230,230)\", \"showlegend\": true, \"template\": {\"data\": {\"bar\": [{\"error_x\": {\"color\": \"#2a3f5f\"}, \"error_y\": {\"color\": \"#2a3f5f\"}, \"marker\": {\"line\": {\"color\": \"#E5ECF6\", \"width\": 0.5}}, \"type\": \"bar\"}], \"barpolar\": [{\"marker\": {\"line\": {\"color\": \"#E5ECF6\", \"width\": 0.5}}, \"type\": \"barpolar\"}], \"carpet\": [{\"aaxis\": {\"endlinecolor\": \"#2a3f5f\", \"gridcolor\": \"white\", \"linecolor\": \"white\", \"minorgridcolor\": \"white\", \"startlinecolor\": \"#2a3f5f\"}, \"baxis\": {\"endlinecolor\": \"#2a3f5f\", \"gridcolor\": \"white\", \"linecolor\": \"white\", \"minorgridcolor\": \"white\", \"startlinecolor\": \"#2a3f5f\"}, \"type\": \"carpet\"}], \"choropleth\": [{\"colorbar\": {\"outlinewidth\": 0, \"ticks\": \"\"}, \"type\": \"choropleth\"}], \"contour\": [{\"colorbar\": {\"outlinewidth\": 0, \"ticks\": \"\"}, \"colorscale\": [[0.0, \"#0d0887\"], [0.1111111111111111, \"#46039f\"], [0.2222222222222222, \"#7201a8\"], [0.3333333333333333, \"#9c179e\"], [0.4444444444444444, \"#bd3786\"], [0.5555555555555556, \"#d8576b\"], [0.6666666666666666, \"#ed7953\"], [0.7777777777777778, \"#fb9f3a\"], [0.8888888888888888, \"#fdca26\"], [1.0, \"#f0f921\"]], \"type\": \"contour\"}], \"contourcarpet\": [{\"colorbar\": {\"outlinewidth\": 0, \"ticks\": \"\"}, \"type\": \"contourcarpet\"}], \"heatmap\": [{\"colorbar\": {\"outlinewidth\": 0, \"ticks\": \"\"}, \"colorscale\": [[0.0, \"#0d0887\"], [0.1111111111111111, \"#46039f\"], [0.2222222222222222, \"#7201a8\"], [0.3333333333333333, \"#9c179e\"], [0.4444444444444444, \"#bd3786\"], [0.5555555555555556, \"#d8576b\"], [0.6666666666666666, \"#ed7953\"], [0.7777777777777778, \"#fb9f3a\"], [0.8888888888888888, \"#fdca26\"], [1.0, \"#f0f921\"]], \"type\": \"heatmap\"}], \"heatmapgl\": [{\"colorbar\": {\"outlinewidth\": 0, \"ticks\": \"\"}, \"colorscale\": [[0.0, \"#0d0887\"], [0.1111111111111111, \"#46039f\"], [0.2222222222222222, \"#7201a8\"], [0.3333333333333333, \"#9c179e\"], [0.4444444444444444, \"#bd3786\"], [0.5555555555555556, \"#d8576b\"], [0.6666666666666666, \"#ed7953\"], [0.7777777777777778, \"#fb9f3a\"], [0.8888888888888888, \"#fdca26\"], [1.0, \"#f0f921\"]], \"type\": \"heatmapgl\"}], \"histogram\": [{\"marker\": {\"colorbar\": {\"outlinewidth\": 0, \"ticks\": \"\"}}, \"type\": \"histogram\"}], \"histogram2d\": [{\"colorbar\": {\"outlinewidth\": 0, \"ticks\": \"\"}, \"colorscale\": [[0.0, \"#0d0887\"], [0.1111111111111111, \"#46039f\"], [0.2222222222222222, \"#7201a8\"], [0.3333333333333333, \"#9c179e\"], [0.4444444444444444, \"#bd3786\"], [0.5555555555555556, \"#d8576b\"], [0.6666666666666666, \"#ed7953\"], [0.7777777777777778, \"#fb9f3a\"], [0.8888888888888888, \"#fdca26\"], [1.0, \"#f0f921\"]], \"type\": \"histogram2d\"}], \"histogram2dcontour\": [{\"colorbar\": {\"outlinewidth\": 0, \"ticks\": \"\"}, \"colorscale\": [[0.0, \"#0d0887\"], [0.1111111111111111, \"#46039f\"], [0.2222222222222222, \"#7201a8\"], [0.3333333333333333, \"#9c179e\"], [0.4444444444444444, \"#bd3786\"], [0.5555555555555556, \"#d8576b\"], [0.6666666666666666, \"#ed7953\"], [0.7777777777777778, \"#fb9f3a\"], [0.8888888888888888, \"#fdca26\"], [1.0, \"#f0f921\"]], \"type\": \"histogram2dcontour\"}], \"mesh3d\": [{\"colorbar\": {\"outlinewidth\": 0, \"ticks\": \"\"}, \"type\": \"mesh3d\"}], \"parcoords\": [{\"line\": {\"colorbar\": {\"outlinewidth\": 0, \"ticks\": \"\"}}, \"type\": \"parcoords\"}], \"pie\": [{\"automargin\": true, \"type\": \"pie\"}], \"scatter\": [{\"marker\": {\"colorbar\": {\"outlinewidth\": 0, \"ticks\": \"\"}}, \"type\": \"scatter\"}], \"scatter3d\": [{\"line\": {\"colorbar\": {\"outlinewidth\": 0, \"ticks\": \"\"}}, \"marker\": {\"colorbar\": {\"outlinewidth\": 0, \"ticks\": \"\"}}, \"type\": \"scatter3d\"}], \"scattercarpet\": [{\"marker\": {\"colorbar\": {\"outlinewidth\": 0, \"ticks\": \"\"}}, \"type\": \"scattercarpet\"}], \"scattergeo\": [{\"marker\": {\"colorbar\": {\"outlinewidth\": 0, \"ticks\": \"\"}}, \"type\": \"scattergeo\"}], \"scattergl\": [{\"marker\": {\"colorbar\": {\"outlinewidth\": 0, \"ticks\": \"\"}}, \"type\": \"scattergl\"}], \"scattermapbox\": [{\"marker\": {\"colorbar\": {\"outlinewidth\": 0, \"ticks\": \"\"}}, \"type\": \"scattermapbox\"}], \"scatterpolar\": [{\"marker\": {\"colorbar\": {\"outlinewidth\": 0, \"ticks\": \"\"}}, \"type\": \"scatterpolar\"}], \"scatterpolargl\": [{\"marker\": {\"colorbar\": {\"outlinewidth\": 0, \"ticks\": \"\"}}, \"type\": \"scatterpolargl\"}], \"scatterternary\": [{\"marker\": {\"colorbar\": {\"outlinewidth\": 0, \"ticks\": \"\"}}, \"type\": \"scatterternary\"}], \"surface\": [{\"colorbar\": {\"outlinewidth\": 0, \"ticks\": \"\"}, \"colorscale\": [[0.0, \"#0d0887\"], [0.1111111111111111, \"#46039f\"], [0.2222222222222222, \"#7201a8\"], [0.3333333333333333, \"#9c179e\"], [0.4444444444444444, \"#bd3786\"], [0.5555555555555556, \"#d8576b\"], [0.6666666666666666, \"#ed7953\"], [0.7777777777777778, \"#fb9f3a\"], [0.8888888888888888, \"#fdca26\"], [1.0, \"#f0f921\"]], \"type\": \"surface\"}], \"table\": [{\"cells\": {\"fill\": {\"color\": \"#EBF0F8\"}, \"line\": {\"color\": \"white\"}}, \"header\": {\"fill\": {\"color\": \"#C8D4E3\"}, \"line\": {\"color\": \"white\"}}, \"type\": \"table\"}]}, \"layout\": {\"annotationdefaults\": {\"arrowcolor\": \"#2a3f5f\", \"arrowhead\": 0, \"arrowwidth\": 1}, \"coloraxis\": {\"colorbar\": {\"outlinewidth\": 0, \"ticks\": \"\"}}, \"colorscale\": {\"diverging\": [[0, \"#8e0152\"], [0.1, \"#c51b7d\"], [0.2, \"#de77ae\"], [0.3, \"#f1b6da\"], [0.4, \"#fde0ef\"], [0.5, \"#f7f7f7\"], [0.6, \"#e6f5d0\"], [0.7, \"#b8e186\"], [0.8, \"#7fbc41\"], [0.9, \"#4d9221\"], [1, \"#276419\"]], \"sequential\": [[0.0, \"#0d0887\"], [0.1111111111111111, \"#46039f\"], [0.2222222222222222, \"#7201a8\"], [0.3333333333333333, \"#9c179e\"], [0.4444444444444444, \"#bd3786\"], [0.5555555555555556, \"#d8576b\"], [0.6666666666666666, \"#ed7953\"], [0.7777777777777778, \"#fb9f3a\"], [0.8888888888888888, \"#fdca26\"], [1.0, \"#f0f921\"]], \"sequentialminus\": [[0.0, \"#0d0887\"], [0.1111111111111111, \"#46039f\"], [0.2222222222222222, \"#7201a8\"], [0.3333333333333333, \"#9c179e\"], [0.4444444444444444, \"#bd3786\"], [0.5555555555555556, \"#d8576b\"], [0.6666666666666666, \"#ed7953\"], [0.7777777777777778, \"#fb9f3a\"], [0.8888888888888888, \"#fdca26\"], [1.0, \"#f0f921\"]]}, \"colorway\": [\"#636efa\", \"#EF553B\", \"#00cc96\", \"#ab63fa\", \"#FFA15A\", \"#19d3f3\", \"#FF6692\", \"#B6E880\", \"#FF97FF\", \"#FECB52\"], \"font\": {\"color\": \"#2a3f5f\"}, \"geo\": {\"bgcolor\": \"white\", \"lakecolor\": \"white\", \"landcolor\": \"#E5ECF6\", \"showlakes\": true, \"showland\": true, \"subunitcolor\": \"white\"}, \"hoverlabel\": {\"align\": \"left\"}, \"hovermode\": \"closest\", \"mapbox\": {\"style\": \"light\"}, \"paper_bgcolor\": \"white\", \"plot_bgcolor\": \"#E5ECF6\", \"polar\": {\"angularaxis\": {\"gridcolor\": \"white\", \"linecolor\": \"white\", \"ticks\": \"\"}, \"bgcolor\": \"#E5ECF6\", \"radialaxis\": {\"gridcolor\": \"white\", \"linecolor\": \"white\", \"ticks\": \"\"}}, \"scene\": {\"xaxis\": {\"backgroundcolor\": \"#E5ECF6\", \"gridcolor\": \"white\", \"gridwidth\": 2, \"linecolor\": \"white\", \"showbackground\": true, \"ticks\": \"\", \"zerolinecolor\": \"white\"}, \"yaxis\": {\"backgroundcolor\": \"#E5ECF6\", \"gridcolor\": \"white\", \"gridwidth\": 2, \"linecolor\": \"white\", \"showbackground\": true, \"ticks\": \"\", \"zerolinecolor\": \"white\"}, \"zaxis\": {\"backgroundcolor\": \"#E5ECF6\", \"gridcolor\": \"white\", \"gridwidth\": 2, \"linecolor\": \"white\", \"showbackground\": true, \"ticks\": \"\", \"zerolinecolor\": \"white\"}}, \"shapedefaults\": {\"line\": {\"color\": \"#2a3f5f\"}}, \"ternary\": {\"aaxis\": {\"gridcolor\": \"white\", \"linecolor\": \"white\", \"ticks\": \"\"}, \"baxis\": {\"gridcolor\": \"white\", \"linecolor\": \"white\", \"ticks\": \"\"}, \"bgcolor\": \"#E5ECF6\", \"caxis\": {\"gridcolor\": \"white\", \"linecolor\": \"white\", \"ticks\": \"\"}}, \"title\": {\"x\": 0.05}, \"xaxis\": {\"automargin\": true, \"gridcolor\": \"white\", \"linecolor\": \"white\", \"ticks\": \"\", \"title\": {\"standoff\": 15}, \"zerolinecolor\": \"white\", \"zerolinewidth\": 2}, \"yaxis\": {\"automargin\": true, \"gridcolor\": \"white\", \"linecolor\": \"white\", \"ticks\": \"\", \"title\": {\"standoff\": 15}, \"zerolinecolor\": \"white\", \"zerolinewidth\": 2}}}, \"title\": {\"text\": \"Number of French Restaurants for each Neighborhood in New York City\", \"x\": 0.5}, \"xaxis\": {\"nticks\": 20, \"title\": {\"text\": \"Neighborhood\"}}, \"yaxis\": {\"title\": {\"text\": \"Number of French Restaurants\"}}},\n",
              "                        {\"responsive\": true}\n",
              "                    ).then(function(){\n",
              "                            \n",
              "var gd = document.getElementById('c6ddb3b0-7424-40a5-88c7-0596b4b85bb4');\n",
              "var x = new MutationObserver(function (mutations, observer) {{\n",
              "        var display = window.getComputedStyle(gd).display;\n",
              "        if (!display || display === 'none') {{\n",
              "            console.log([gd, 'removed!']);\n",
              "            Plotly.purge(gd);\n",
              "            observer.disconnect();\n",
              "        }}\n",
              "}});\n",
              "\n",
              "// Listen for the removal of the full notebook cells\n",
              "var notebookContainer = gd.closest('#notebook-container');\n",
              "if (notebookContainer) {{\n",
              "    x.observe(notebookContainer, {childList: true});\n",
              "}}\n",
              "\n",
              "// Listen for the clearing of the current output cell\n",
              "var outputEl = gd.closest('.output');\n",
              "if (outputEl) {{\n",
              "    x.observe(outputEl, {childList: true});\n",
              "}}\n",
              "\n",
              "                        })\n",
              "                };\n",
              "                \n",
              "            </script>\n",
              "        </div>\n",
              "</body>\n",
              "</html>"
            ]
          },
          "metadata": {
            "tags": []
          }
        }
      ]
    },
    {
      "cell_type": "markdown",
      "metadata": {
        "id": "CPlzRpZm110-",
        "colab_type": "text"
      },
      "source": [
        "Based on the above results, Downtown and Lincoln Square have the highest number of French Resturants with a total count of 4."
      ]
    },
    {
      "cell_type": "code",
      "metadata": {
        "id": "k1dRXwAB1ZmO",
        "colab_type": "code",
        "colab": {
          "base_uri": "https://localhost:8080/",
          "height": 204
        },
        "outputId": "1dcbc3b9-8197-4c43-a91e-bb25bb9810c9"
      },
      "source": [
        "french_rest_manh = french_rest_ny[french_rest_ny['Borough']=='Manhattan'].reset_index().drop(columns='index')\n",
        "french_rest_manh.head()"
      ],
      "execution_count": 21,
      "outputs": [
        {
          "output_type": "execute_result",
          "data": {
            "text/html": [
              "<div>\n",
              "<style scoped>\n",
              "    .dataframe tbody tr th:only-of-type {\n",
              "        vertical-align: middle;\n",
              "    }\n",
              "\n",
              "    .dataframe tbody tr th {\n",
              "        vertical-align: top;\n",
              "    }\n",
              "\n",
              "    .dataframe thead th {\n",
              "        text-align: right;\n",
              "    }\n",
              "</style>\n",
              "<table border=\"1\" class=\"dataframe\">\n",
              "  <thead>\n",
              "    <tr style=\"text-align: right;\">\n",
              "      <th></th>\n",
              "      <th>Borough</th>\n",
              "      <th>Neighborhood</th>\n",
              "      <th>ID</th>\n",
              "      <th>Name</th>\n",
              "    </tr>\n",
              "  </thead>\n",
              "  <tbody>\n",
              "    <tr>\n",
              "      <th>0</th>\n",
              "      <td>Manhattan</td>\n",
              "      <td>Chinatown</td>\n",
              "      <td>57583641498e90001a32e13e</td>\n",
              "      <td>Le Coucou</td>\n",
              "    </tr>\n",
              "    <tr>\n",
              "      <th>1</th>\n",
              "      <td>Manhattan</td>\n",
              "      <td>Chinatown</td>\n",
              "      <td>558ddcbe498e892dbe0d3a8b</td>\n",
              "      <td>Les Enfants de Bohème</td>\n",
              "    </tr>\n",
              "    <tr>\n",
              "      <th>2</th>\n",
              "      <td>Manhattan</td>\n",
              "      <td>Manhattanville</td>\n",
              "      <td>511a937ee88968b8acbba54b</td>\n",
              "      <td>Maison Harlem</td>\n",
              "    </tr>\n",
              "    <tr>\n",
              "      <th>3</th>\n",
              "      <td>Manhattan</td>\n",
              "      <td>Central Harlem</td>\n",
              "      <td>4b80389ff964a520e95d30e3</td>\n",
              "      <td>Yatenga</td>\n",
              "    </tr>\n",
              "    <tr>\n",
              "      <th>4</th>\n",
              "      <td>Manhattan</td>\n",
              "      <td>Central Harlem</td>\n",
              "      <td>59cc6158c0af57432b9fd02b</td>\n",
              "      <td>Renaissance Harlem</td>\n",
              "    </tr>\n",
              "  </tbody>\n",
              "</table>\n",
              "</div>"
            ],
            "text/plain": [
              "     Borough    Neighborhood                        ID                   Name\n",
              "0  Manhattan       Chinatown  57583641498e90001a32e13e              Le Coucou\n",
              "1  Manhattan       Chinatown  558ddcbe498e892dbe0d3a8b  Les Enfants de Bohème\n",
              "2  Manhattan  Manhattanville  511a937ee88968b8acbba54b          Maison Harlem\n",
              "3  Manhattan  Central Harlem  4b80389ff964a520e95d30e3                Yatenga\n",
              "4  Manhattan  Central Harlem  59cc6158c0af57432b9fd02b     Renaissance Harlem"
            ]
          },
          "metadata": {
            "tags": []
          },
          "execution_count": 21
        }
      ]
    },
    {
      "cell_type": "code",
      "metadata": {
        "id": "az5jzhncYMHi",
        "colab_type": "code",
        "colab": {
          "base_uri": "https://localhost:8080/",
          "height": 34
        },
        "outputId": "1a6f5662-1ea0-4b24-ba3e-bd2954cf11c8"
      },
      "source": [
        "french_rest_manh.shape"
      ],
      "execution_count": 22,
      "outputs": [
        {
          "output_type": "execute_result",
          "data": {
            "text/plain": [
              "(47, 4)"
            ]
          },
          "metadata": {
            "tags": []
          },
          "execution_count": 22
        }
      ]
    },
    {
      "cell_type": "markdown",
      "metadata": {
        "id": "hgP0-B2T2TQv",
        "colab_type": "text"
      },
      "source": [
        "Now we will get the ranking of each resturant for further analysis."
      ]
    },
    {
      "cell_type": "code",
      "metadata": {
        "id": "zmOY-44Q2T5I",
        "colab_type": "code",
        "colab": {
          "base_uri": "https://localhost:8080/",
          "height": 1000
        },
        "outputId": "ccd89cc1-5656-4f9e-d22e-1f10528d587a"
      },
      "source": [
        "# prepare neighborhood list that contains French resturants\n",
        "column_names=['Borough', 'Neighborhood', 'ID','Name','Likes','Rating','Tips']\n",
        "french_rest_stats_manh = pd.DataFrame(columns=column_names)\n",
        "count=1\n",
        "\n",
        "for row in french_rest_manh.values.tolist():\n",
        "    Borough,Neighborhood,ID,Name=row\n",
        "    try:\n",
        "        venue_details = get_venue_details(ID)\n",
        "        print(venue_details)\n",
        "        id,name,likes,rating,tips=venue_details.values.tolist()[0]\n",
        "    except IndexError:\n",
        "        print('No data available for id=',ID)\n",
        "        # we will assign 0 value for these resturants as they may have been \n",
        "        #recently opened or details does not exist in FourSquare Database\n",
        "        id,name,likes,rating,tips=[0]*5\n",
        "    print('(',count,'/',len(french_rest_manh),')','processed')\n",
        "    french_rest_stats_manh = french_rest_stats_manh.append({'Borough': Borough,\n",
        "                                                'Neighborhood': Neighborhood, \n",
        "                                                'ID': id,\n",
        "                                                'Name' : name,\n",
        "                                                'Likes' : likes,\n",
        "                                                'Rating' : rating,\n",
        "                                                'Tips' : tips\n",
        "                                               }, ignore_index=True)\n",
        "    count+=1"
      ],
      "execution_count": 23,
      "outputs": [
        {
          "output_type": "stream",
          "text": [
            "                         ID       Name  Likes  Rating  Tips\n",
            "0  57583641498e90001a32e13e  Le Coucou    394     9.3    90\n",
            "( 1 / 47 ) processed\n",
            "                         ID                   Name  Likes  Rating  Tips\n",
            "0  558ddcbe498e892dbe0d3a8b  Les Enfants de Bohème     88     8.5    19\n",
            "( 2 / 47 ) processed\n",
            "                         ID           Name  Likes  Rating  Tips\n",
            "0  511a937ee88968b8acbba54b  Maison Harlem    291     8.6    88\n",
            "( 3 / 47 ) processed\n",
            "                         ID     Name  Likes  Rating  Tips\n",
            "0  4b80389ff964a520e95d30e3  Yatenga    104     8.7    62\n",
            "( 4 / 47 ) processed\n",
            "                         ID                Name  Likes  Rating  Tips\n",
            "0  59cc6158c0af57432b9fd02b  Renaissance Harlem     14     8.0     2\n",
            "( 5 / 47 ) processed\n",
            "                         ID           Name  Likes  Rating  Tips\n",
            "0  511a937ee88968b8acbba54b  Maison Harlem    291     8.6    88\n",
            "( 6 / 47 ) processed\n",
            "                         ID           Name  Likes  Rating  Tips\n",
            "0  553c1b00498e7eb81316bf1b  Mountain Bird     80     9.1    18\n",
            "( 7 / 47 ) processed\n",
            "                         ID         Name  Likes  Rating  Tips\n",
            "0  3fd66200f964a5207fe91ee3  Café Boulud    260     8.8    93\n",
            "( 8 / 47 ) processed\n",
            "                         ID   Name  Likes  Rating  Tips\n",
            "0  4408540af964a52055301fe3  Orsay    149     8.4    45\n",
            "( 9 / 47 ) processed\n",
            "                         ID           Name  Likes  Rating  Tips\n",
            "0  467ffefcf964a52019481fe3  Cafe D'Alsace    521     8.8   172\n",
            "( 10 / 47 ) processed\n",
            "                         ID   Name  Likes  Rating  Tips\n",
            "0  4408540af964a52055301fe3  Orsay    149     8.4    45\n",
            "( 11 / 47 ) processed\n",
            "                         ID              Name  Likes  Rating  Tips\n",
            "0  4d8e49c36174a0935ff2c4e3  Le Moulin A Cafe    152     8.5    63\n",
            "( 12 / 47 ) processed\n",
            "                         ID    Name  Likes  Rating  Tips\n",
            "0  3fd66200f964a520dee71ee3  Daniel    479     9.1   186\n",
            "( 13 / 47 ) processed\n",
            "                         ID              Name  Likes  Rating  Tips\n",
            "0  4d8e49c36174a0935ff2c4e3  Le Moulin A Cafe    152     8.5    63\n",
            "( 14 / 47 ) processed\n",
            "                         ID        Name  Likes  Rating  Tips\n",
            "0  478cd1f3f964a520444d1fe3  Bar Boulud    380     8.0   184\n",
            "( 15 / 47 ) processed\n",
            "                         ID             Name  Likes  Rating  Tips\n",
            "0  414ccc00f964a520d21c1fe3  Cafe Luxembourg    299     8.4    98\n",
            "( 16 / 47 ) processed\n",
            "                         ID          Name  Likes  Rating  Tips\n",
            "0  3fd66200f964a520bee91ee3  Jean-Georges    553     8.9   283\n",
            "( 17 / 47 ) processed\n",
            "                         ID                       Name  Likes  Rating  Tips\n",
            "0  49e7897ff964a520b6641fe3  Nougatine at Jean Georges    274     8.8   101\n",
            "( 18 / 47 ) processed\n",
            "                         ID            Name  Likes  Rating  Tips\n",
            "0  3fd66200f964a5208de91ee3  Chez Josephine    107     8.2    54\n",
            "( 19 / 47 ) processed\n",
            "                         ID         Name  Likes  Rating  Tips\n",
            "0  4c408f9e6c1a95216050b96a  Le Parisien    131     8.2    66\n",
            "( 20 / 47 ) processed\n",
            "                         ID    Name  Likes  Rating  Tips\n",
            "0  5ce5b1f1f5e9d7002c4ad547  Pastis    109     9.0    16\n",
            "( 21 / 47 ) processed\n",
            "                         ID                Name  Likes  Rating  Tips\n",
            "0  3fd66200f964a52006e61ee3  Raoul's Restaurant    386     9.0   155\n",
            "( 22 / 47 ) processed\n",
            "                         ID     Name  Likes  Rating  Tips\n",
            "0  50899082e4b0645d657eb40f  Cocotte    232     8.7    70\n",
            "( 23 / 47 ) processed\n",
            "                         ID      Name  Likes  Rating  Tips\n",
            "0  5b63aefffe63bd0039d0c297  Windmill     16     8.9     2\n",
            "( 24 / 47 ) processed\n",
            "                         ID             Name  Likes  Rating  Tips\n",
            "0  5303f306498ebbca8f7e1158  Le French Diner     68     8.9    21\n",
            "( 25 / 47 ) processed\n",
            "                         ID       Name  Likes  Rating  Tips\n",
            "0  3fd66200f964a52083e61ee3  The Odeon    718     8.6   210\n",
            "( 26 / 47 ) processed\n",
            "                         ID       Name  Likes  Rating  Tips\n",
            "0  57583641498e90001a32e13e  Le Coucou    394     9.3    90\n",
            "( 27 / 47 ) processed\n",
            "                         ID       Name  Likes  Rating  Tips\n",
            "0  57583641498e90001a32e13e  Le Coucou    394     9.3    90\n",
            "( 28 / 47 ) processed\n",
            "                         ID     Name  Likes  Rating  Tips\n",
            "0  50899082e4b0645d657eb40f  Cocotte    232     8.7    70\n",
            "( 29 / 47 ) processed\n",
            "                         ID                Name  Likes  Rating  Tips\n",
            "0  3fd66200f964a52006e61ee3  Raoul's Restaurant    386     9.0   155\n",
            "( 30 / 47 ) processed\n",
            "                         ID     Name  Likes  Rating  Tips\n",
            "0  4d0bf7e3f29c236ac675bfe7  Buvette   1849     9.2   521\n",
            "( 31 / 47 ) processed\n",
            "                         ID            Name  Likes  Rating  Tips\n",
            "0  44e86a78f964a5209c371fe3  Cafe du Soleil     83     7.6    55\n",
            "( 32 / 47 ) processed\n",
            "                         ID           Name  Likes  Rating  Tips\n",
            "0  5a47a5e4e679bc7b226989ca  La Parisienne     57     8.6    14\n",
            "( 33 / 47 ) processed\n",
            "                         ID           Name  Likes  Rating  Tips\n",
            "0  5a47a5e4e679bc7b226989ca  La Parisienne     57     8.6    14\n",
            "( 34 / 47 ) processed\n",
            "                         ID          Name  Likes  Rating  Tips\n",
            "0  4b9d2218f964a5207e9236e3  Table d'Hote     45     8.4    20\n",
            "( 35 / 47 ) processed\n",
            "                         ID           Name  Likes  Rating  Tips\n",
            "0  467ffefcf964a52019481fe3  Cafe D'Alsace    521     8.8   172\n",
            "( 36 / 47 ) processed\n",
            "                         ID    Name  Likes  Rating  Tips\n",
            "0  3fd66200f964a5202de51ee3  Lucien    209     9.0    77\n",
            "( 37 / 47 ) processed\n",
            "                         ID             Name  Likes  Rating  Tips\n",
            "0  5303f306498ebbca8f7e1158  Le French Diner     68     8.9    21\n",
            "( 38 / 47 ) processed\n",
            "                         ID      Name  Likes  Rating  Tips\n",
            "0  5b63aefffe63bd0039d0c297  Windmill     16     8.9     2\n",
            "( 39 / 47 ) processed\n",
            "                         ID       Name  Likes  Rating  Tips\n",
            "0  3fd66200f964a52083e61ee3  The Odeon    718     8.6   210\n",
            "( 40 / 47 ) processed\n",
            "                         ID       Name  Likes  Rating  Tips\n",
            "0  57583641498e90001a32e13e  Le Coucou    394     9.3    90\n",
            "( 41 / 47 ) processed\n",
            "                         ID            Name  Likes  Rating  Tips\n",
            "0  4b70825df964a520e01e2de3  Bistro Vendome     30     8.2    10\n",
            "( 42 / 47 ) processed\n",
            "                         ID  Name  Likes  Rating  Tips\n",
            "0  437bc800f964a520a22a1fe3  JoJo    130     8.4    59\n",
            "( 43 / 47 ) processed\n",
            "                         ID            Name  Likes  Rating  Tips\n",
            "0  3fd66200f964a5200ae81ee3  Le Bateau Ivre    118     8.6    76\n",
            "( 44 / 47 ) processed\n",
            "                         ID            Name  Likes  Rating  Tips\n",
            "0  3fd66200f964a5200ae81ee3  Le Bateau Ivre    118     8.6    76\n",
            "( 45 / 47 ) processed\n",
            "                         ID         Name  Likes  Rating  Tips\n",
            "0  4c408f9e6c1a95216050b96a  Le Parisien    131     8.2    66\n",
            "( 46 / 47 ) processed\n",
            "                         ID            Name  Likes  Rating  Tips\n",
            "0  3fd66200f964a5208de91ee3  Chez Josephine    107     8.2    54\n",
            "( 47 / 47 ) processed\n"
          ],
          "name": "stdout"
        }
      ]
    },
    {
      "cell_type": "code",
      "metadata": {
        "id": "nWpSTZSEADlN",
        "colab_type": "code",
        "colab": {
          "base_uri": "https://localhost:8080/",
          "height": 34
        },
        "outputId": "12d0b2b3-24a3-4d57-800b-4b51d2d79fe5"
      },
      "source": [
        "french_rest_stats_manh.shape"
      ],
      "execution_count": 24,
      "outputs": [
        {
          "output_type": "execute_result",
          "data": {
            "text/plain": [
              "(47, 7)"
            ]
          },
          "metadata": {
            "tags": []
          },
          "execution_count": 24
        }
      ]
    },
    {
      "cell_type": "code",
      "metadata": {
        "id": "uHMyhGWtAFuf",
        "colab_type": "code",
        "colab": {
          "base_uri": "https://localhost:8080/",
          "height": 34
        },
        "outputId": "b0c5f8cb-f2c7-460f-88de-77941f1cb2a0"
      },
      "source": [
        "french_rest_manh.shape\n"
      ],
      "execution_count": 25,
      "outputs": [
        {
          "output_type": "execute_result",
          "data": {
            "text/plain": [
              "(47, 4)"
            ]
          },
          "metadata": {
            "tags": []
          },
          "execution_count": 25
        }
      ]
    },
    {
      "cell_type": "code",
      "metadata": {
        "id": "805Ib5ZpZYEg",
        "colab_type": "code",
        "colab": {}
      },
      "source": [
        "french_rest_stats_manh.to_csv('french_rest_stats_manh.csv', index=False)"
      ],
      "execution_count": 26,
      "outputs": []
    },
    {
      "cell_type": "code",
      "metadata": {
        "id": "OuApqheDaIsY",
        "colab_type": "code",
        "colab": {
          "base_uri": "https://localhost:8080/",
          "height": 204
        },
        "outputId": "96aae6ad-dd43-4812-890f-bd2914512ed3"
      },
      "source": [
        "french_rest_stats_manh.head()"
      ],
      "execution_count": 27,
      "outputs": [
        {
          "output_type": "execute_result",
          "data": {
            "text/html": [
              "<div>\n",
              "<style scoped>\n",
              "    .dataframe tbody tr th:only-of-type {\n",
              "        vertical-align: middle;\n",
              "    }\n",
              "\n",
              "    .dataframe tbody tr th {\n",
              "        vertical-align: top;\n",
              "    }\n",
              "\n",
              "    .dataframe thead th {\n",
              "        text-align: right;\n",
              "    }\n",
              "</style>\n",
              "<table border=\"1\" class=\"dataframe\">\n",
              "  <thead>\n",
              "    <tr style=\"text-align: right;\">\n",
              "      <th></th>\n",
              "      <th>Borough</th>\n",
              "      <th>Neighborhood</th>\n",
              "      <th>ID</th>\n",
              "      <th>Name</th>\n",
              "      <th>Likes</th>\n",
              "      <th>Rating</th>\n",
              "      <th>Tips</th>\n",
              "    </tr>\n",
              "  </thead>\n",
              "  <tbody>\n",
              "    <tr>\n",
              "      <th>0</th>\n",
              "      <td>Manhattan</td>\n",
              "      <td>Chinatown</td>\n",
              "      <td>57583641498e90001a32e13e</td>\n",
              "      <td>Le Coucou</td>\n",
              "      <td>394</td>\n",
              "      <td>9.3</td>\n",
              "      <td>90</td>\n",
              "    </tr>\n",
              "    <tr>\n",
              "      <th>1</th>\n",
              "      <td>Manhattan</td>\n",
              "      <td>Chinatown</td>\n",
              "      <td>558ddcbe498e892dbe0d3a8b</td>\n",
              "      <td>Les Enfants de Bohème</td>\n",
              "      <td>88</td>\n",
              "      <td>8.5</td>\n",
              "      <td>19</td>\n",
              "    </tr>\n",
              "    <tr>\n",
              "      <th>2</th>\n",
              "      <td>Manhattan</td>\n",
              "      <td>Manhattanville</td>\n",
              "      <td>511a937ee88968b8acbba54b</td>\n",
              "      <td>Maison Harlem</td>\n",
              "      <td>291</td>\n",
              "      <td>8.6</td>\n",
              "      <td>88</td>\n",
              "    </tr>\n",
              "    <tr>\n",
              "      <th>3</th>\n",
              "      <td>Manhattan</td>\n",
              "      <td>Central Harlem</td>\n",
              "      <td>4b80389ff964a520e95d30e3</td>\n",
              "      <td>Yatenga</td>\n",
              "      <td>104</td>\n",
              "      <td>8.7</td>\n",
              "      <td>62</td>\n",
              "    </tr>\n",
              "    <tr>\n",
              "      <th>4</th>\n",
              "      <td>Manhattan</td>\n",
              "      <td>Central Harlem</td>\n",
              "      <td>59cc6158c0af57432b9fd02b</td>\n",
              "      <td>Renaissance Harlem</td>\n",
              "      <td>14</td>\n",
              "      <td>8.0</td>\n",
              "      <td>2</td>\n",
              "    </tr>\n",
              "  </tbody>\n",
              "</table>\n",
              "</div>"
            ],
            "text/plain": [
              "     Borough    Neighborhood                        ID                   Name  \\\n",
              "0  Manhattan       Chinatown  57583641498e90001a32e13e              Le Coucou   \n",
              "1  Manhattan       Chinatown  558ddcbe498e892dbe0d3a8b  Les Enfants de Bohème   \n",
              "2  Manhattan  Manhattanville  511a937ee88968b8acbba54b          Maison Harlem   \n",
              "3  Manhattan  Central Harlem  4b80389ff964a520e95d30e3                Yatenga   \n",
              "4  Manhattan  Central Harlem  59cc6158c0af57432b9fd02b     Renaissance Harlem   \n",
              "\n",
              "  Likes  Rating Tips  \n",
              "0   394     9.3   90  \n",
              "1    88     8.5   19  \n",
              "2   291     8.6   88  \n",
              "3   104     8.7   62  \n",
              "4    14     8.0    2  "
            ]
          },
          "metadata": {
            "tags": []
          },
          "execution_count": 27
        }
      ]
    },
    {
      "cell_type": "code",
      "metadata": {
        "id": "vD_TNDPLaSOS",
        "colab_type": "code",
        "colab": {
          "base_uri": "https://localhost:8080/",
          "height": 255
        },
        "outputId": "82baa90f-1306-4a9a-9e5b-53c035a76171"
      },
      "source": [
        "french_rest_stats_manh.info()"
      ],
      "execution_count": 28,
      "outputs": [
        {
          "output_type": "stream",
          "text": [
            "<class 'pandas.core.frame.DataFrame'>\n",
            "RangeIndex: 47 entries, 0 to 46\n",
            "Data columns (total 7 columns):\n",
            " #   Column        Non-Null Count  Dtype  \n",
            "---  ------        --------------  -----  \n",
            " 0   Borough       47 non-null     object \n",
            " 1   Neighborhood  47 non-null     object \n",
            " 2   ID            47 non-null     object \n",
            " 3   Name          47 non-null     object \n",
            " 4   Likes         47 non-null     object \n",
            " 5   Rating        47 non-null     float64\n",
            " 6   Tips          47 non-null     object \n",
            "dtypes: float64(1), object(6)\n",
            "memory usage: 2.7+ KB\n"
          ],
          "name": "stdout"
        }
      ]
    },
    {
      "cell_type": "code",
      "metadata": {
        "id": "11m8Ynzkag_O",
        "colab_type": "code",
        "colab": {}
      },
      "source": [
        "french_rest_stats_manh.Likes = french_rest_stats_manh.Likes.astype('float64')\n",
        "french_rest_stats_manh.Tips = french_rest_stats_manh.Tips.astype('float64')"
      ],
      "execution_count": 29,
      "outputs": []
    },
    {
      "cell_type": "code",
      "metadata": {
        "id": "BXk0HtfwbzkK",
        "colab_type": "code",
        "colab": {
          "base_uri": "https://localhost:8080/",
          "height": 255
        },
        "outputId": "7ace9547-afcf-477e-947d-e3cc4d710b7d"
      },
      "source": [
        "french_rest_stats_manh.info()"
      ],
      "execution_count": 30,
      "outputs": [
        {
          "output_type": "stream",
          "text": [
            "<class 'pandas.core.frame.DataFrame'>\n",
            "RangeIndex: 47 entries, 0 to 46\n",
            "Data columns (total 7 columns):\n",
            " #   Column        Non-Null Count  Dtype  \n",
            "---  ------        --------------  -----  \n",
            " 0   Borough       47 non-null     object \n",
            " 1   Neighborhood  47 non-null     object \n",
            " 2   ID            47 non-null     object \n",
            " 3   Name          47 non-null     object \n",
            " 4   Likes         47 non-null     float64\n",
            " 5   Rating        47 non-null     float64\n",
            " 6   Tips          47 non-null     float64\n",
            "dtypes: float64(3), object(4)\n",
            "memory usage: 2.7+ KB\n"
          ],
          "name": "stdout"
        }
      ]
    },
    {
      "cell_type": "markdown",
      "metadata": {
        "id": "xs-dggb3dh5o",
        "colab_type": "text"
      },
      "source": [
        "\n",
        "Lets find the French restuarants with Maximum Likes, Maximum Ratings and Maximum Tips."
      ]
    },
    {
      "cell_type": "code",
      "metadata": {
        "id": "nETqtbPFdffY",
        "colab_type": "code",
        "colab": {
          "base_uri": "https://localhost:8080/",
          "height": 153
        },
        "outputId": "3293ec36-e2b0-4bb1-88c0-d43e266b0b33"
      },
      "source": [
        "# Resturant with maximum Likes\n",
        "french_rest_stats_manh.iloc[french_rest_stats_manh['Likes'].idxmax()]"
      ],
      "execution_count": 31,
      "outputs": [
        {
          "output_type": "execute_result",
          "data": {
            "text/plain": [
              "Borough                        Manhattan\n",
              "Neighborhood                West Village\n",
              "ID              4d0bf7e3f29c236ac675bfe7\n",
              "Name                             Buvette\n",
              "Likes                               1849\n",
              "Rating                               9.2\n",
              "Tips                                 521\n",
              "Name: 30, dtype: object"
            ]
          },
          "metadata": {
            "tags": []
          },
          "execution_count": 31
        }
      ]
    },
    {
      "cell_type": "code",
      "metadata": {
        "id": "ccnMtbb0d2jF",
        "colab_type": "code",
        "colab": {
          "base_uri": "https://localhost:8080/",
          "height": 153
        },
        "outputId": "ea31f706-b0dc-46de-f3af-8fc5157ad52c"
      },
      "source": [
        "# Resturant with maximum Rating\n",
        "french_rest_stats_manh.iloc[french_rest_stats_manh['Rating'].idxmax()]"
      ],
      "execution_count": 32,
      "outputs": [
        {
          "output_type": "execute_result",
          "data": {
            "text/plain": [
              "Borough                        Manhattan\n",
              "Neighborhood                   Chinatown\n",
              "ID              57583641498e90001a32e13e\n",
              "Name                           Le Coucou\n",
              "Likes                                394\n",
              "Rating                               9.3\n",
              "Tips                                  90\n",
              "Name: 0, dtype: object"
            ]
          },
          "metadata": {
            "tags": []
          },
          "execution_count": 32
        }
      ]
    },
    {
      "cell_type": "code",
      "metadata": {
        "id": "fXrYuuvieF0R",
        "colab_type": "code",
        "colab": {
          "base_uri": "https://localhost:8080/",
          "height": 153
        },
        "outputId": "d545b27b-d566-4a1d-9a3b-3aa0f3d4473a"
      },
      "source": [
        "# Resturant with maximum Tips\n",
        "french_rest_stats_manh.iloc[french_rest_stats_manh['Tips'].idxmax()]"
      ],
      "execution_count": 33,
      "outputs": [
        {
          "output_type": "execute_result",
          "data": {
            "text/plain": [
              "Borough                        Manhattan\n",
              "Neighborhood                West Village\n",
              "ID              4d0bf7e3f29c236ac675bfe7\n",
              "Name                             Buvette\n",
              "Likes                               1849\n",
              "Rating                               9.2\n",
              "Tips                                 521\n",
              "Name: 30, dtype: object"
            ]
          },
          "metadata": {
            "tags": []
          },
          "execution_count": 33
        }
      ]
    },
    {
      "cell_type": "markdown",
      "metadata": {
        "id": "3NjGYy67eWIH",
        "colab_type": "text"
      },
      "source": [
        "Lets visualize neighborhood with maximum average rating of resturants."
      ]
    },
    {
      "cell_type": "code",
      "metadata": {
        "id": "rdtOADSVeQ6l",
        "colab_type": "code",
        "colab": {
          "base_uri": "https://localhost:8080/",
          "height": 359
        },
        "outputId": "44517be4-21e2-4806-b8c7-176b1ed79f8f"
      },
      "source": [
        "ny_neighborhood_stats = french_rest_stats_manh.groupby('Neighborhood',as_index=False).mean()[['Neighborhood','Rating']]\n",
        "ny_neighborhood_stats.columns=['Neighborhood','Average Rating']\n",
        "ny_neighborhood_stats.sort_values(['Average Rating'],ascending=False).head(10)"
      ],
      "execution_count": 34,
      "outputs": [
        {
          "output_type": "execute_result",
          "data": {
            "text/html": [
              "<div>\n",
              "<style scoped>\n",
              "    .dataframe tbody tr th:only-of-type {\n",
              "        vertical-align: middle;\n",
              "    }\n",
              "\n",
              "    .dataframe tbody tr th {\n",
              "        vertical-align: top;\n",
              "    }\n",
              "\n",
              "    .dataframe thead th {\n",
              "        text-align: right;\n",
              "    }\n",
              "</style>\n",
              "<table border=\"1\" class=\"dataframe\">\n",
              "  <thead>\n",
              "    <tr style=\"text-align: right;\">\n",
              "      <th></th>\n",
              "      <th>Neighborhood</th>\n",
              "      <th>Average Rating</th>\n",
              "    </tr>\n",
              "  </thead>\n",
              "  <tbody>\n",
              "    <tr>\n",
              "      <th>13</th>\n",
              "      <td>Little Italy</td>\n",
              "      <td>9.300000</td>\n",
              "    </tr>\n",
              "    <tr>\n",
              "      <th>26</th>\n",
              "      <td>West Village</td>\n",
              "      <td>9.200000</td>\n",
              "    </tr>\n",
              "    <tr>\n",
              "      <th>7</th>\n",
              "      <td>East Harlem</td>\n",
              "      <td>9.100000</td>\n",
              "    </tr>\n",
              "    <tr>\n",
              "      <th>3</th>\n",
              "      <td>Chelsea</td>\n",
              "      <td>9.000000</td>\n",
              "    </tr>\n",
              "    <tr>\n",
              "      <th>20</th>\n",
              "      <td>Soho</td>\n",
              "      <td>9.000000</td>\n",
              "    </tr>\n",
              "    <tr>\n",
              "      <th>5</th>\n",
              "      <td>Civic Center</td>\n",
              "      <td>8.950000</td>\n",
              "    </tr>\n",
              "    <tr>\n",
              "      <th>18</th>\n",
              "      <td>Noho</td>\n",
              "      <td>8.933333</td>\n",
              "    </tr>\n",
              "    <tr>\n",
              "      <th>14</th>\n",
              "      <td>Lower East Side</td>\n",
              "      <td>8.900000</td>\n",
              "    </tr>\n",
              "    <tr>\n",
              "      <th>4</th>\n",
              "      <td>Chinatown</td>\n",
              "      <td>8.900000</td>\n",
              "    </tr>\n",
              "    <tr>\n",
              "      <th>9</th>\n",
              "      <td>Greenwich Village</td>\n",
              "      <td>8.850000</td>\n",
              "    </tr>\n",
              "  </tbody>\n",
              "</table>\n",
              "</div>"
            ],
            "text/plain": [
              "         Neighborhood  Average Rating\n",
              "13       Little Italy        9.300000\n",
              "26       West Village        9.200000\n",
              "7         East Harlem        9.100000\n",
              "3             Chelsea        9.000000\n",
              "20               Soho        9.000000\n",
              "5        Civic Center        8.950000\n",
              "18               Noho        8.933333\n",
              "14    Lower East Side        8.900000\n",
              "4           Chinatown        8.900000\n",
              "9   Greenwich Village        8.850000"
            ]
          },
          "metadata": {
            "tags": []
          },
          "execution_count": 34
        }
      ]
    },
    {
      "cell_type": "markdown",
      "metadata": {
        "id": "fECclnkcfZy4",
        "colab_type": "text"
      },
      "source": [
        "Above are the top neighborhoods with top average rating of French resturants."
      ]
    },
    {
      "cell_type": "markdown",
      "metadata": {
        "id": "vF8RFuZifhQj",
        "colab_type": "text"
      },
      "source": [
        "Same way lets find the average number of likes for French Resturants for each Borough."
      ]
    },
    {
      "cell_type": "code",
      "metadata": {
        "id": "HUJ0RQl5fwqv",
        "colab_type": "code",
        "colab": {
          "base_uri": "https://localhost:8080/",
          "height": 359
        },
        "outputId": "f6117641-160b-452e-a359-49faa76b0e8b"
      },
      "source": [
        "ny_neighborhood_like_stats = french_rest_stats_manh.groupby('Neighborhood',as_index=False).mean()[['Neighborhood','Likes']]\n",
        "ny_neighborhood_like_stats.columns=['Neighborhood','Average num. of Likes']\n",
        "ny_neighborhood_like_stats.sort_values(['Average num. of Likes'],ascending=False).head(10)"
      ],
      "execution_count": 35,
      "outputs": [
        {
          "output_type": "execute_result",
          "data": {
            "text/html": [
              "<div>\n",
              "<style scoped>\n",
              "    .dataframe tbody tr th:only-of-type {\n",
              "        vertical-align: middle;\n",
              "    }\n",
              "\n",
              "    .dataframe tbody tr th {\n",
              "        vertical-align: top;\n",
              "    }\n",
              "\n",
              "    .dataframe thead th {\n",
              "        text-align: right;\n",
              "    }\n",
              "</style>\n",
              "<table border=\"1\" class=\"dataframe\">\n",
              "  <thead>\n",
              "    <tr style=\"text-align: right;\">\n",
              "      <th></th>\n",
              "      <th>Neighborhood</th>\n",
              "      <th>Average num. of Likes</th>\n",
              "    </tr>\n",
              "  </thead>\n",
              "  <tbody>\n",
              "    <tr>\n",
              "      <th>26</th>\n",
              "      <td>West Village</td>\n",
              "      <td>1849.000000</td>\n",
              "    </tr>\n",
              "    <tr>\n",
              "      <th>22</th>\n",
              "      <td>Tribeca</td>\n",
              "      <td>718.000000</td>\n",
              "    </tr>\n",
              "    <tr>\n",
              "      <th>5</th>\n",
              "      <td>Civic Center</td>\n",
              "      <td>556.000000</td>\n",
              "    </tr>\n",
              "    <tr>\n",
              "      <th>27</th>\n",
              "      <td>Yorkville</td>\n",
              "      <td>521.000000</td>\n",
              "    </tr>\n",
              "    <tr>\n",
              "      <th>13</th>\n",
              "      <td>Little Italy</td>\n",
              "      <td>394.000000</td>\n",
              "    </tr>\n",
              "    <tr>\n",
              "      <th>12</th>\n",
              "      <td>Lincoln Square</td>\n",
              "      <td>376.500000</td>\n",
              "    </tr>\n",
              "    <tr>\n",
              "      <th>20</th>\n",
              "      <td>Soho</td>\n",
              "      <td>337.333333</td>\n",
              "    </tr>\n",
              "    <tr>\n",
              "      <th>9</th>\n",
              "      <td>Greenwich Village</td>\n",
              "      <td>309.000000</td>\n",
              "    </tr>\n",
              "    <tr>\n",
              "      <th>16</th>\n",
              "      <td>Manhattanville</td>\n",
              "      <td>291.000000</td>\n",
              "    </tr>\n",
              "    <tr>\n",
              "      <th>1</th>\n",
              "      <td>Carnegie Hill</td>\n",
              "      <td>283.000000</td>\n",
              "    </tr>\n",
              "  </tbody>\n",
              "</table>\n",
              "</div>"
            ],
            "text/plain": [
              "         Neighborhood  Average num. of Likes\n",
              "26       West Village            1849.000000\n",
              "22            Tribeca             718.000000\n",
              "5        Civic Center             556.000000\n",
              "27          Yorkville             521.000000\n",
              "13       Little Italy             394.000000\n",
              "12     Lincoln Square             376.500000\n",
              "20               Soho             337.333333\n",
              "9   Greenwich Village             309.000000\n",
              "16     Manhattanville             291.000000\n",
              "1       Carnegie Hill             283.000000"
            ]
          },
          "metadata": {
            "tags": []
          },
          "execution_count": 35
        }
      ]
    },
    {
      "cell_type": "code",
      "metadata": {
        "id": "FXY6Z1CFihE0",
        "colab_type": "code",
        "colab": {
          "base_uri": "https://localhost:8080/",
          "height": 917
        },
        "outputId": "79721569-40ab-4d39-9592-98b78680106f"
      },
      "source": [
        "ny_neighborhood_stats = french_rest_stats_manh.groupby('Neighborhood',as_index=False).mean()[['Neighborhood','Rating']]\n",
        "ny_neighborhood_stats"
      ],
      "execution_count": 56,
      "outputs": [
        {
          "output_type": "execute_result",
          "data": {
            "text/html": [
              "<div>\n",
              "<style scoped>\n",
              "    .dataframe tbody tr th:only-of-type {\n",
              "        vertical-align: middle;\n",
              "    }\n",
              "\n",
              "    .dataframe tbody tr th {\n",
              "        vertical-align: top;\n",
              "    }\n",
              "\n",
              "    .dataframe thead th {\n",
              "        text-align: right;\n",
              "    }\n",
              "</style>\n",
              "<table border=\"1\" class=\"dataframe\">\n",
              "  <thead>\n",
              "    <tr style=\"text-align: right;\">\n",
              "      <th></th>\n",
              "      <th>Neighborhood</th>\n",
              "      <th>Rating</th>\n",
              "    </tr>\n",
              "  </thead>\n",
              "  <tbody>\n",
              "    <tr>\n",
              "      <th>0</th>\n",
              "      <td>Battery Park City</td>\n",
              "      <td>8.600000</td>\n",
              "    </tr>\n",
              "    <tr>\n",
              "      <th>1</th>\n",
              "      <td>Carnegie Hill</td>\n",
              "      <td>8.600000</td>\n",
              "    </tr>\n",
              "    <tr>\n",
              "      <th>2</th>\n",
              "      <td>Central Harlem</td>\n",
              "      <td>8.433333</td>\n",
              "    </tr>\n",
              "    <tr>\n",
              "      <th>3</th>\n",
              "      <td>Chelsea</td>\n",
              "      <td>9.000000</td>\n",
              "    </tr>\n",
              "    <tr>\n",
              "      <th>4</th>\n",
              "      <td>Chinatown</td>\n",
              "      <td>8.900000</td>\n",
              "    </tr>\n",
              "    <tr>\n",
              "      <th>5</th>\n",
              "      <td>Civic Center</td>\n",
              "      <td>8.950000</td>\n",
              "    </tr>\n",
              "    <tr>\n",
              "      <th>6</th>\n",
              "      <td>Clinton</td>\n",
              "      <td>8.200000</td>\n",
              "    </tr>\n",
              "    <tr>\n",
              "      <th>7</th>\n",
              "      <td>East Harlem</td>\n",
              "      <td>9.100000</td>\n",
              "    </tr>\n",
              "    <tr>\n",
              "      <th>8</th>\n",
              "      <td>Financial District</td>\n",
              "      <td>8.600000</td>\n",
              "    </tr>\n",
              "    <tr>\n",
              "      <th>9</th>\n",
              "      <td>Greenwich Village</td>\n",
              "      <td>8.850000</td>\n",
              "    </tr>\n",
              "    <tr>\n",
              "      <th>10</th>\n",
              "      <td>Hudson Yards</td>\n",
              "      <td>8.200000</td>\n",
              "    </tr>\n",
              "    <tr>\n",
              "      <th>11</th>\n",
              "      <td>Lenox Hill</td>\n",
              "      <td>8.666667</td>\n",
              "    </tr>\n",
              "    <tr>\n",
              "      <th>12</th>\n",
              "      <td>Lincoln Square</td>\n",
              "      <td>8.525000</td>\n",
              "    </tr>\n",
              "    <tr>\n",
              "      <th>13</th>\n",
              "      <td>Little Italy</td>\n",
              "      <td>9.300000</td>\n",
              "    </tr>\n",
              "    <tr>\n",
              "      <th>14</th>\n",
              "      <td>Lower East Side</td>\n",
              "      <td>8.900000</td>\n",
              "    </tr>\n",
              "    <tr>\n",
              "      <th>15</th>\n",
              "      <td>Manhattan Valley</td>\n",
              "      <td>7.600000</td>\n",
              "    </tr>\n",
              "    <tr>\n",
              "      <th>16</th>\n",
              "      <td>Manhattanville</td>\n",
              "      <td>8.600000</td>\n",
              "    </tr>\n",
              "    <tr>\n",
              "      <th>17</th>\n",
              "      <td>Murray Hill</td>\n",
              "      <td>8.200000</td>\n",
              "    </tr>\n",
              "    <tr>\n",
              "      <th>18</th>\n",
              "      <td>Noho</td>\n",
              "      <td>8.933333</td>\n",
              "    </tr>\n",
              "    <tr>\n",
              "      <th>19</th>\n",
              "      <td>Roosevelt Island</td>\n",
              "      <td>8.500000</td>\n",
              "    </tr>\n",
              "    <tr>\n",
              "      <th>20</th>\n",
              "      <td>Soho</td>\n",
              "      <td>9.000000</td>\n",
              "    </tr>\n",
              "    <tr>\n",
              "      <th>21</th>\n",
              "      <td>Sutton Place</td>\n",
              "      <td>8.400000</td>\n",
              "    </tr>\n",
              "    <tr>\n",
              "      <th>22</th>\n",
              "      <td>Tribeca</td>\n",
              "      <td>8.600000</td>\n",
              "    </tr>\n",
              "    <tr>\n",
              "      <th>23</th>\n",
              "      <td>Tudor City</td>\n",
              "      <td>8.200000</td>\n",
              "    </tr>\n",
              "    <tr>\n",
              "      <th>24</th>\n",
              "      <td>Turtle Bay</td>\n",
              "      <td>8.600000</td>\n",
              "    </tr>\n",
              "    <tr>\n",
              "      <th>25</th>\n",
              "      <td>Upper East Side</td>\n",
              "      <td>8.600000</td>\n",
              "    </tr>\n",
              "    <tr>\n",
              "      <th>26</th>\n",
              "      <td>West Village</td>\n",
              "      <td>9.200000</td>\n",
              "    </tr>\n",
              "    <tr>\n",
              "      <th>27</th>\n",
              "      <td>Yorkville</td>\n",
              "      <td>8.800000</td>\n",
              "    </tr>\n",
              "  </tbody>\n",
              "</table>\n",
              "</div>"
            ],
            "text/plain": [
              "          Neighborhood    Rating\n",
              "0    Battery Park City  8.600000\n",
              "1        Carnegie Hill  8.600000\n",
              "2       Central Harlem  8.433333\n",
              "3              Chelsea  9.000000\n",
              "4            Chinatown  8.900000\n",
              "5         Civic Center  8.950000\n",
              "6              Clinton  8.200000\n",
              "7          East Harlem  9.100000\n",
              "8   Financial District  8.600000\n",
              "9    Greenwich Village  8.850000\n",
              "10        Hudson Yards  8.200000\n",
              "11          Lenox Hill  8.666667\n",
              "12      Lincoln Square  8.525000\n",
              "13        Little Italy  9.300000\n",
              "14     Lower East Side  8.900000\n",
              "15    Manhattan Valley  7.600000\n",
              "16      Manhattanville  8.600000\n",
              "17         Murray Hill  8.200000\n",
              "18                Noho  8.933333\n",
              "19    Roosevelt Island  8.500000\n",
              "20                Soho  9.000000\n",
              "21        Sutton Place  8.400000\n",
              "22             Tribeca  8.600000\n",
              "23          Tudor City  8.200000\n",
              "24          Turtle Bay  8.600000\n",
              "25     Upper East Side  8.600000\n",
              "26        West Village  9.200000\n",
              "27           Yorkville  8.800000"
            ]
          },
          "metadata": {
            "tags": []
          },
          "execution_count": 56
        }
      ]
    },
    {
      "cell_type": "code",
      "metadata": {
        "id": "jFd4JNrbjP3K",
        "colab_type": "code",
        "colab": {
          "base_uri": "https://localhost:8080/",
          "height": 542
        },
        "outputId": "d3d2e77e-71b8-4a58-ca18-a932b3604a29"
      },
      "source": [
        "neighborhood_manh = ny_neighborhood_stats.Neighborhood\n",
        "count_rest_rating = ny_neighborhood_stats.Rating\n",
        "fig = go.Figure([go.Bar(x = neighborhood_manh, y = count_rest_rating, name ='Rating')])\n",
        "fig.update_layout(title = 'Average rating of French Restaurants for each Manhattan neighborhood', title_x=0.5, plot_bgcolor='rgb(230, 230,230)', showlegend=True, font=dict( family=\"Calibri\", size=18, color=\"black\"))\n",
        "fig.update_xaxes(title_text='Neighborhood', nticks=30)\n",
        "fig.update_yaxes(title_text='Average rating of French Restaurants', nticks=15)\n",
        "fig.show()"
      ],
      "execution_count": 57,
      "outputs": [
        {
          "output_type": "display_data",
          "data": {
            "text/html": [
              "<html>\n",
              "<head><meta charset=\"utf-8\" /></head>\n",
              "<body>\n",
              "    <div>\n",
              "            <script src=\"https://cdnjs.cloudflare.com/ajax/libs/mathjax/2.7.5/MathJax.js?config=TeX-AMS-MML_SVG\"></script><script type=\"text/javascript\">if (window.MathJax) {MathJax.Hub.Config({SVG: {font: \"STIX-Web\"}});}</script>\n",
              "                <script type=\"text/javascript\">window.PlotlyConfig = {MathJaxConfig: 'local'};</script>\n",
              "        <script src=\"https://cdn.plot.ly/plotly-latest.min.js\"></script>    \n",
              "            <div id=\"a262c657-ea3f-4f3a-9a6b-389eef5f0057\" class=\"plotly-graph-div\" style=\"height:525px; width:100%;\"></div>\n",
              "            <script type=\"text/javascript\">\n",
              "                \n",
              "                    window.PLOTLYENV=window.PLOTLYENV || {};\n",
              "                    \n",
              "                if (document.getElementById(\"a262c657-ea3f-4f3a-9a6b-389eef5f0057\")) {\n",
              "                    Plotly.newPlot(\n",
              "                        'a262c657-ea3f-4f3a-9a6b-389eef5f0057',\n",
              "                        [{\"name\": \"Rating\", \"type\": \"bar\", \"x\": [\"Battery Park City\", \"Carnegie Hill\", \"Central Harlem\", \"Chelsea\", \"Chinatown\", \"Civic Center\", \"Clinton\", \"East Harlem\", \"Financial District\", \"Greenwich Village\", \"Hudson Yards\", \"Lenox Hill\", \"Lincoln Square\", \"Little Italy\", \"Lower East Side\", \"Manhattan Valley\", \"Manhattanville\", \"Murray Hill\", \"Noho\", \"Roosevelt Island\", \"Soho\", \"Sutton Place\", \"Tribeca\", \"Tudor City\", \"Turtle Bay\", \"Upper East Side\", \"West Village\", \"Yorkville\"], \"y\": [8.6, 8.600000000000001, 8.433333333333332, 9.0, 8.9, 8.95, 8.2, 9.1, 8.6, 8.85, 8.2, 8.666666666666666, 8.524999999999999, 9.3, 8.9, 7.6, 8.6, 8.2, 8.933333333333332, 8.5, 9.0, 8.4, 8.6, 8.2, 8.6, 8.600000000000001, 9.2, 8.8]}],\n",
              "                        {\"font\": {\"color\": \"black\", \"family\": \"Calibri\", \"size\": 18}, \"plot_bgcolor\": \"rgb(230, 230,230)\", \"showlegend\": true, \"template\": {\"data\": {\"bar\": [{\"error_x\": {\"color\": \"#2a3f5f\"}, \"error_y\": {\"color\": \"#2a3f5f\"}, \"marker\": {\"line\": {\"color\": \"#E5ECF6\", \"width\": 0.5}}, \"type\": \"bar\"}], \"barpolar\": [{\"marker\": {\"line\": {\"color\": \"#E5ECF6\", \"width\": 0.5}}, \"type\": \"barpolar\"}], \"carpet\": [{\"aaxis\": {\"endlinecolor\": \"#2a3f5f\", \"gridcolor\": \"white\", \"linecolor\": \"white\", \"minorgridcolor\": \"white\", \"startlinecolor\": \"#2a3f5f\"}, \"baxis\": {\"endlinecolor\": \"#2a3f5f\", \"gridcolor\": \"white\", \"linecolor\": \"white\", \"minorgridcolor\": \"white\", \"startlinecolor\": \"#2a3f5f\"}, \"type\": \"carpet\"}], \"choropleth\": [{\"colorbar\": {\"outlinewidth\": 0, \"ticks\": \"\"}, \"type\": \"choropleth\"}], \"contour\": [{\"colorbar\": {\"outlinewidth\": 0, \"ticks\": \"\"}, \"colorscale\": [[0.0, \"#0d0887\"], [0.1111111111111111, \"#46039f\"], [0.2222222222222222, \"#7201a8\"], [0.3333333333333333, \"#9c179e\"], [0.4444444444444444, \"#bd3786\"], [0.5555555555555556, \"#d8576b\"], [0.6666666666666666, \"#ed7953\"], [0.7777777777777778, \"#fb9f3a\"], [0.8888888888888888, \"#fdca26\"], [1.0, \"#f0f921\"]], \"type\": \"contour\"}], \"contourcarpet\": [{\"colorbar\": {\"outlinewidth\": 0, \"ticks\": \"\"}, \"type\": \"contourcarpet\"}], \"heatmap\": [{\"colorbar\": {\"outlinewidth\": 0, \"ticks\": \"\"}, \"colorscale\": [[0.0, \"#0d0887\"], [0.1111111111111111, \"#46039f\"], [0.2222222222222222, \"#7201a8\"], [0.3333333333333333, \"#9c179e\"], [0.4444444444444444, \"#bd3786\"], [0.5555555555555556, \"#d8576b\"], [0.6666666666666666, \"#ed7953\"], [0.7777777777777778, \"#fb9f3a\"], [0.8888888888888888, \"#fdca26\"], [1.0, \"#f0f921\"]], \"type\": \"heatmap\"}], \"heatmapgl\": [{\"colorbar\": {\"outlinewidth\": 0, \"ticks\": \"\"}, \"colorscale\": [[0.0, \"#0d0887\"], [0.1111111111111111, \"#46039f\"], [0.2222222222222222, \"#7201a8\"], [0.3333333333333333, \"#9c179e\"], [0.4444444444444444, \"#bd3786\"], [0.5555555555555556, \"#d8576b\"], [0.6666666666666666, \"#ed7953\"], [0.7777777777777778, \"#fb9f3a\"], [0.8888888888888888, \"#fdca26\"], [1.0, \"#f0f921\"]], \"type\": \"heatmapgl\"}], \"histogram\": [{\"marker\": {\"colorbar\": {\"outlinewidth\": 0, \"ticks\": \"\"}}, \"type\": \"histogram\"}], \"histogram2d\": [{\"colorbar\": {\"outlinewidth\": 0, \"ticks\": \"\"}, \"colorscale\": [[0.0, \"#0d0887\"], [0.1111111111111111, \"#46039f\"], [0.2222222222222222, \"#7201a8\"], [0.3333333333333333, \"#9c179e\"], [0.4444444444444444, \"#bd3786\"], [0.5555555555555556, \"#d8576b\"], [0.6666666666666666, \"#ed7953\"], [0.7777777777777778, \"#fb9f3a\"], [0.8888888888888888, \"#fdca26\"], [1.0, \"#f0f921\"]], \"type\": \"histogram2d\"}], \"histogram2dcontour\": [{\"colorbar\": {\"outlinewidth\": 0, \"ticks\": \"\"}, \"colorscale\": [[0.0, \"#0d0887\"], [0.1111111111111111, \"#46039f\"], [0.2222222222222222, \"#7201a8\"], [0.3333333333333333, \"#9c179e\"], [0.4444444444444444, \"#bd3786\"], [0.5555555555555556, \"#d8576b\"], [0.6666666666666666, \"#ed7953\"], [0.7777777777777778, \"#fb9f3a\"], [0.8888888888888888, \"#fdca26\"], [1.0, \"#f0f921\"]], \"type\": \"histogram2dcontour\"}], \"mesh3d\": [{\"colorbar\": {\"outlinewidth\": 0, \"ticks\": \"\"}, \"type\": \"mesh3d\"}], \"parcoords\": [{\"line\": {\"colorbar\": {\"outlinewidth\": 0, \"ticks\": \"\"}}, \"type\": \"parcoords\"}], \"pie\": [{\"automargin\": true, \"type\": \"pie\"}], \"scatter\": [{\"marker\": {\"colorbar\": {\"outlinewidth\": 0, \"ticks\": \"\"}}, \"type\": \"scatter\"}], \"scatter3d\": [{\"line\": {\"colorbar\": {\"outlinewidth\": 0, \"ticks\": \"\"}}, \"marker\": {\"colorbar\": {\"outlinewidth\": 0, \"ticks\": \"\"}}, \"type\": \"scatter3d\"}], \"scattercarpet\": [{\"marker\": {\"colorbar\": {\"outlinewidth\": 0, \"ticks\": \"\"}}, \"type\": \"scattercarpet\"}], \"scattergeo\": [{\"marker\": {\"colorbar\": {\"outlinewidth\": 0, \"ticks\": \"\"}}, \"type\": \"scattergeo\"}], \"scattergl\": [{\"marker\": {\"colorbar\": {\"outlinewidth\": 0, \"ticks\": \"\"}}, \"type\": \"scattergl\"}], \"scattermapbox\": [{\"marker\": {\"colorbar\": {\"outlinewidth\": 0, \"ticks\": \"\"}}, \"type\": \"scattermapbox\"}], \"scatterpolar\": [{\"marker\": {\"colorbar\": {\"outlinewidth\": 0, \"ticks\": \"\"}}, \"type\": \"scatterpolar\"}], \"scatterpolargl\": [{\"marker\": {\"colorbar\": {\"outlinewidth\": 0, \"ticks\": \"\"}}, \"type\": \"scatterpolargl\"}], \"scatterternary\": [{\"marker\": {\"colorbar\": {\"outlinewidth\": 0, \"ticks\": \"\"}}, \"type\": \"scatterternary\"}], \"surface\": [{\"colorbar\": {\"outlinewidth\": 0, \"ticks\": \"\"}, \"colorscale\": [[0.0, \"#0d0887\"], [0.1111111111111111, \"#46039f\"], [0.2222222222222222, \"#7201a8\"], [0.3333333333333333, \"#9c179e\"], [0.4444444444444444, \"#bd3786\"], [0.5555555555555556, \"#d8576b\"], [0.6666666666666666, \"#ed7953\"], [0.7777777777777778, \"#fb9f3a\"], [0.8888888888888888, \"#fdca26\"], [1.0, \"#f0f921\"]], \"type\": \"surface\"}], \"table\": [{\"cells\": {\"fill\": {\"color\": \"#EBF0F8\"}, \"line\": {\"color\": \"white\"}}, \"header\": {\"fill\": {\"color\": \"#C8D4E3\"}, \"line\": {\"color\": \"white\"}}, \"type\": \"table\"}]}, \"layout\": {\"annotationdefaults\": {\"arrowcolor\": \"#2a3f5f\", \"arrowhead\": 0, \"arrowwidth\": 1}, \"coloraxis\": {\"colorbar\": {\"outlinewidth\": 0, \"ticks\": \"\"}}, \"colorscale\": {\"diverging\": [[0, \"#8e0152\"], [0.1, \"#c51b7d\"], [0.2, \"#de77ae\"], [0.3, \"#f1b6da\"], [0.4, \"#fde0ef\"], [0.5, \"#f7f7f7\"], [0.6, \"#e6f5d0\"], [0.7, \"#b8e186\"], [0.8, \"#7fbc41\"], [0.9, \"#4d9221\"], [1, \"#276419\"]], \"sequential\": [[0.0, \"#0d0887\"], [0.1111111111111111, \"#46039f\"], [0.2222222222222222, \"#7201a8\"], [0.3333333333333333, \"#9c179e\"], [0.4444444444444444, \"#bd3786\"], [0.5555555555555556, \"#d8576b\"], [0.6666666666666666, \"#ed7953\"], [0.7777777777777778, \"#fb9f3a\"], [0.8888888888888888, \"#fdca26\"], [1.0, \"#f0f921\"]], \"sequentialminus\": [[0.0, \"#0d0887\"], [0.1111111111111111, \"#46039f\"], [0.2222222222222222, \"#7201a8\"], [0.3333333333333333, \"#9c179e\"], [0.4444444444444444, \"#bd3786\"], [0.5555555555555556, \"#d8576b\"], [0.6666666666666666, \"#ed7953\"], [0.7777777777777778, \"#fb9f3a\"], [0.8888888888888888, \"#fdca26\"], [1.0, \"#f0f921\"]]}, \"colorway\": [\"#636efa\", \"#EF553B\", \"#00cc96\", \"#ab63fa\", \"#FFA15A\", \"#19d3f3\", \"#FF6692\", \"#B6E880\", \"#FF97FF\", \"#FECB52\"], \"font\": {\"color\": \"#2a3f5f\"}, \"geo\": {\"bgcolor\": \"white\", \"lakecolor\": \"white\", \"landcolor\": \"#E5ECF6\", \"showlakes\": true, \"showland\": true, \"subunitcolor\": \"white\"}, \"hoverlabel\": {\"align\": \"left\"}, \"hovermode\": \"closest\", \"mapbox\": {\"style\": \"light\"}, \"paper_bgcolor\": \"white\", \"plot_bgcolor\": \"#E5ECF6\", \"polar\": {\"angularaxis\": {\"gridcolor\": \"white\", \"linecolor\": \"white\", \"ticks\": \"\"}, \"bgcolor\": \"#E5ECF6\", \"radialaxis\": {\"gridcolor\": \"white\", \"linecolor\": \"white\", \"ticks\": \"\"}}, \"scene\": {\"xaxis\": {\"backgroundcolor\": \"#E5ECF6\", \"gridcolor\": \"white\", \"gridwidth\": 2, \"linecolor\": \"white\", \"showbackground\": true, \"ticks\": \"\", \"zerolinecolor\": \"white\"}, \"yaxis\": {\"backgroundcolor\": \"#E5ECF6\", \"gridcolor\": \"white\", \"gridwidth\": 2, \"linecolor\": \"white\", \"showbackground\": true, \"ticks\": \"\", \"zerolinecolor\": \"white\"}, \"zaxis\": {\"backgroundcolor\": \"#E5ECF6\", \"gridcolor\": \"white\", \"gridwidth\": 2, \"linecolor\": \"white\", \"showbackground\": true, \"ticks\": \"\", \"zerolinecolor\": \"white\"}}, \"shapedefaults\": {\"line\": {\"color\": \"#2a3f5f\"}}, \"ternary\": {\"aaxis\": {\"gridcolor\": \"white\", \"linecolor\": \"white\", \"ticks\": \"\"}, \"baxis\": {\"gridcolor\": \"white\", \"linecolor\": \"white\", \"ticks\": \"\"}, \"bgcolor\": \"#E5ECF6\", \"caxis\": {\"gridcolor\": \"white\", \"linecolor\": \"white\", \"ticks\": \"\"}}, \"title\": {\"x\": 0.05}, \"xaxis\": {\"automargin\": true, \"gridcolor\": \"white\", \"linecolor\": \"white\", \"ticks\": \"\", \"title\": {\"standoff\": 15}, \"zerolinecolor\": \"white\", \"zerolinewidth\": 2}, \"yaxis\": {\"automargin\": true, \"gridcolor\": \"white\", \"linecolor\": \"white\", \"ticks\": \"\", \"title\": {\"standoff\": 15}, \"zerolinecolor\": \"white\", \"zerolinewidth\": 2}}}, \"title\": {\"text\": \"Average rating of French Restaurants for each Manhattan neighborhood\", \"x\": 0.5}, \"xaxis\": {\"nticks\": 30, \"title\": {\"text\": \"Neighborhood\"}}, \"yaxis\": {\"nticks\": 15, \"title\": {\"text\": \"Average rating of French Restaurants\"}}},\n",
              "                        {\"responsive\": true}\n",
              "                    ).then(function(){\n",
              "                            \n",
              "var gd = document.getElementById('a262c657-ea3f-4f3a-9a6b-389eef5f0057');\n",
              "var x = new MutationObserver(function (mutations, observer) {{\n",
              "        var display = window.getComputedStyle(gd).display;\n",
              "        if (!display || display === 'none') {{\n",
              "            console.log([gd, 'removed!']);\n",
              "            Plotly.purge(gd);\n",
              "            observer.disconnect();\n",
              "        }}\n",
              "}});\n",
              "\n",
              "// Listen for the removal of the full notebook cells\n",
              "var notebookContainer = gd.closest('#notebook-container');\n",
              "if (notebookContainer) {{\n",
              "    x.observe(notebookContainer, {childList: true});\n",
              "}}\n",
              "\n",
              "// Listen for the clearing of the current output cell\n",
              "var outputEl = gd.closest('.output');\n",
              "if (outputEl) {{\n",
              "    x.observe(outputEl, {childList: true});\n",
              "}}\n",
              "\n",
              "                        })\n",
              "                };\n",
              "                \n",
              "            </script>\n",
              "        </div>\n",
              "</body>\n",
              "</html>"
            ]
          },
          "metadata": {
            "tags": []
          }
        }
      ]
    },
    {
      "cell_type": "markdown",
      "metadata": {
        "id": "8_xTcm_-7sOx",
        "colab_type": "text"
      },
      "source": [
        "\n",
        "We will consider all the neighborhoods with average rating greater or equal 8.8 to visualize on map"
      ]
    },
    {
      "cell_type": "code",
      "metadata": {
        "id": "mA24EPippLl3",
        "colab_type": "code",
        "colab": {
          "base_uri": "https://localhost:8080/",
          "height": 390
        },
        "outputId": "529c18b9-d1b8-411e-cc98-a6783af4fa95"
      },
      "source": [
        "ny_neighborhood_stats=ny_neighborhood_stats[ny_neighborhood_stats['Rating']>=8.8]\n",
        "ny_neighborhood_stats\n"
      ],
      "execution_count": 58,
      "outputs": [
        {
          "output_type": "execute_result",
          "data": {
            "text/html": [
              "<div>\n",
              "<style scoped>\n",
              "    .dataframe tbody tr th:only-of-type {\n",
              "        vertical-align: middle;\n",
              "    }\n",
              "\n",
              "    .dataframe tbody tr th {\n",
              "        vertical-align: top;\n",
              "    }\n",
              "\n",
              "    .dataframe thead th {\n",
              "        text-align: right;\n",
              "    }\n",
              "</style>\n",
              "<table border=\"1\" class=\"dataframe\">\n",
              "  <thead>\n",
              "    <tr style=\"text-align: right;\">\n",
              "      <th></th>\n",
              "      <th>Neighborhood</th>\n",
              "      <th>Rating</th>\n",
              "    </tr>\n",
              "  </thead>\n",
              "  <tbody>\n",
              "    <tr>\n",
              "      <th>3</th>\n",
              "      <td>Chelsea</td>\n",
              "      <td>9.000000</td>\n",
              "    </tr>\n",
              "    <tr>\n",
              "      <th>4</th>\n",
              "      <td>Chinatown</td>\n",
              "      <td>8.900000</td>\n",
              "    </tr>\n",
              "    <tr>\n",
              "      <th>5</th>\n",
              "      <td>Civic Center</td>\n",
              "      <td>8.950000</td>\n",
              "    </tr>\n",
              "    <tr>\n",
              "      <th>7</th>\n",
              "      <td>East Harlem</td>\n",
              "      <td>9.100000</td>\n",
              "    </tr>\n",
              "    <tr>\n",
              "      <th>9</th>\n",
              "      <td>Greenwich Village</td>\n",
              "      <td>8.850000</td>\n",
              "    </tr>\n",
              "    <tr>\n",
              "      <th>13</th>\n",
              "      <td>Little Italy</td>\n",
              "      <td>9.300000</td>\n",
              "    </tr>\n",
              "    <tr>\n",
              "      <th>14</th>\n",
              "      <td>Lower East Side</td>\n",
              "      <td>8.900000</td>\n",
              "    </tr>\n",
              "    <tr>\n",
              "      <th>18</th>\n",
              "      <td>Noho</td>\n",
              "      <td>8.933333</td>\n",
              "    </tr>\n",
              "    <tr>\n",
              "      <th>20</th>\n",
              "      <td>Soho</td>\n",
              "      <td>9.000000</td>\n",
              "    </tr>\n",
              "    <tr>\n",
              "      <th>26</th>\n",
              "      <td>West Village</td>\n",
              "      <td>9.200000</td>\n",
              "    </tr>\n",
              "    <tr>\n",
              "      <th>27</th>\n",
              "      <td>Yorkville</td>\n",
              "      <td>8.800000</td>\n",
              "    </tr>\n",
              "  </tbody>\n",
              "</table>\n",
              "</div>"
            ],
            "text/plain": [
              "         Neighborhood    Rating\n",
              "3             Chelsea  9.000000\n",
              "4           Chinatown  8.900000\n",
              "5        Civic Center  8.950000\n",
              "7         East Harlem  9.100000\n",
              "9   Greenwich Village  8.850000\n",
              "13       Little Italy  9.300000\n",
              "14    Lower East Side  8.900000\n",
              "18               Noho  8.933333\n",
              "20               Soho  9.000000\n",
              "26       West Village  9.200000\n",
              "27          Yorkville  8.800000"
            ]
          },
          "metadata": {
            "tags": []
          },
          "execution_count": 58
        }
      ]
    },
    {
      "cell_type": "code",
      "metadata": {
        "id": "YlnR-_ty8-c-",
        "colab_type": "code",
        "colab": {
          "base_uri": "https://localhost:8080/",
          "height": 421
        },
        "outputId": "5ea0512f-f336-4eb5-93f9-53cfbb3f2178"
      },
      "source": [
        "ny_neighborhood_stats_merge = pd.merge(ny_neighborhood_stats,new_york_data, on='Neighborhood')"
      ],
      "execution_count": 59,
      "outputs": [
        {
          "output_type": "execute_result",
          "data": {
            "text/html": [
              "<div>\n",
              "<style scoped>\n",
              "    .dataframe tbody tr th:only-of-type {\n",
              "        vertical-align: middle;\n",
              "    }\n",
              "\n",
              "    .dataframe tbody tr th {\n",
              "        vertical-align: top;\n",
              "    }\n",
              "\n",
              "    .dataframe thead th {\n",
              "        text-align: right;\n",
              "    }\n",
              "</style>\n",
              "<table border=\"1\" class=\"dataframe\">\n",
              "  <thead>\n",
              "    <tr style=\"text-align: right;\">\n",
              "      <th></th>\n",
              "      <th>Neighborhood</th>\n",
              "      <th>Rating</th>\n",
              "      <th>Borough</th>\n",
              "      <th>Latitude</th>\n",
              "      <th>Longitude</th>\n",
              "    </tr>\n",
              "  </thead>\n",
              "  <tbody>\n",
              "    <tr>\n",
              "      <th>0</th>\n",
              "      <td>Chelsea</td>\n",
              "      <td>9.000000</td>\n",
              "      <td>Manhattan</td>\n",
              "      <td>40.744035</td>\n",
              "      <td>-74.003116</td>\n",
              "    </tr>\n",
              "    <tr>\n",
              "      <th>1</th>\n",
              "      <td>Chelsea</td>\n",
              "      <td>9.000000</td>\n",
              "      <td>Staten Island</td>\n",
              "      <td>40.594726</td>\n",
              "      <td>-74.189560</td>\n",
              "    </tr>\n",
              "    <tr>\n",
              "      <th>2</th>\n",
              "      <td>Chinatown</td>\n",
              "      <td>8.900000</td>\n",
              "      <td>Manhattan</td>\n",
              "      <td>40.715618</td>\n",
              "      <td>-73.994279</td>\n",
              "    </tr>\n",
              "    <tr>\n",
              "      <th>3</th>\n",
              "      <td>Civic Center</td>\n",
              "      <td>8.950000</td>\n",
              "      <td>Manhattan</td>\n",
              "      <td>40.715229</td>\n",
              "      <td>-74.005415</td>\n",
              "    </tr>\n",
              "    <tr>\n",
              "      <th>4</th>\n",
              "      <td>East Harlem</td>\n",
              "      <td>9.100000</td>\n",
              "      <td>Manhattan</td>\n",
              "      <td>40.792249</td>\n",
              "      <td>-73.944182</td>\n",
              "    </tr>\n",
              "    <tr>\n",
              "      <th>5</th>\n",
              "      <td>Greenwich Village</td>\n",
              "      <td>8.850000</td>\n",
              "      <td>Manhattan</td>\n",
              "      <td>40.726933</td>\n",
              "      <td>-73.999914</td>\n",
              "    </tr>\n",
              "    <tr>\n",
              "      <th>6</th>\n",
              "      <td>Little Italy</td>\n",
              "      <td>9.300000</td>\n",
              "      <td>Manhattan</td>\n",
              "      <td>40.719324</td>\n",
              "      <td>-73.997305</td>\n",
              "    </tr>\n",
              "    <tr>\n",
              "      <th>7</th>\n",
              "      <td>Lower East Side</td>\n",
              "      <td>8.900000</td>\n",
              "      <td>Manhattan</td>\n",
              "      <td>40.717807</td>\n",
              "      <td>-73.980890</td>\n",
              "    </tr>\n",
              "    <tr>\n",
              "      <th>8</th>\n",
              "      <td>Noho</td>\n",
              "      <td>8.933333</td>\n",
              "      <td>Manhattan</td>\n",
              "      <td>40.723259</td>\n",
              "      <td>-73.988434</td>\n",
              "    </tr>\n",
              "    <tr>\n",
              "      <th>9</th>\n",
              "      <td>Soho</td>\n",
              "      <td>9.000000</td>\n",
              "      <td>Manhattan</td>\n",
              "      <td>40.722184</td>\n",
              "      <td>-74.000657</td>\n",
              "    </tr>\n",
              "    <tr>\n",
              "      <th>10</th>\n",
              "      <td>West Village</td>\n",
              "      <td>9.200000</td>\n",
              "      <td>Manhattan</td>\n",
              "      <td>40.734434</td>\n",
              "      <td>-74.006180</td>\n",
              "    </tr>\n",
              "    <tr>\n",
              "      <th>11</th>\n",
              "      <td>Yorkville</td>\n",
              "      <td>8.800000</td>\n",
              "      <td>Manhattan</td>\n",
              "      <td>40.775930</td>\n",
              "      <td>-73.947118</td>\n",
              "    </tr>\n",
              "  </tbody>\n",
              "</table>\n",
              "</div>"
            ],
            "text/plain": [
              "         Neighborhood    Rating        Borough   Latitude  Longitude\n",
              "0             Chelsea  9.000000      Manhattan  40.744035 -74.003116\n",
              "1             Chelsea  9.000000  Staten Island  40.594726 -74.189560\n",
              "2           Chinatown  8.900000      Manhattan  40.715618 -73.994279\n",
              "3        Civic Center  8.950000      Manhattan  40.715229 -74.005415\n",
              "4         East Harlem  9.100000      Manhattan  40.792249 -73.944182\n",
              "5   Greenwich Village  8.850000      Manhattan  40.726933 -73.999914\n",
              "6        Little Italy  9.300000      Manhattan  40.719324 -73.997305\n",
              "7     Lower East Side  8.900000      Manhattan  40.717807 -73.980890\n",
              "8                Noho  8.933333      Manhattan  40.723259 -73.988434\n",
              "9                Soho  9.000000      Manhattan  40.722184 -74.000657\n",
              "10       West Village  9.200000      Manhattan  40.734434 -74.006180\n",
              "11          Yorkville  8.800000      Manhattan  40.775930 -73.947118"
            ]
          },
          "metadata": {
            "tags": []
          },
          "execution_count": 59
        }
      ]
    },
    {
      "cell_type": "code",
      "metadata": {
        "id": "G2DXgS2K-bt3",
        "colab_type": "code",
        "colab": {
          "base_uri": "https://localhost:8080/",
          "height": 390
        },
        "outputId": "5254ee55-8c8c-4d0f-e263-df91e013fe72"
      },
      "source": [
        "ny_neighborhood_stats_merge = ny_neighborhood_stats_merge[ny_neighborhood_stats_merge['Borough'] == 'Manhattan']\n",
        "ny_neighborhood_stats_merge"
      ],
      "execution_count": 62,
      "outputs": [
        {
          "output_type": "execute_result",
          "data": {
            "text/html": [
              "<div>\n",
              "<style scoped>\n",
              "    .dataframe tbody tr th:only-of-type {\n",
              "        vertical-align: middle;\n",
              "    }\n",
              "\n",
              "    .dataframe tbody tr th {\n",
              "        vertical-align: top;\n",
              "    }\n",
              "\n",
              "    .dataframe thead th {\n",
              "        text-align: right;\n",
              "    }\n",
              "</style>\n",
              "<table border=\"1\" class=\"dataframe\">\n",
              "  <thead>\n",
              "    <tr style=\"text-align: right;\">\n",
              "      <th></th>\n",
              "      <th>Neighborhood</th>\n",
              "      <th>Rating</th>\n",
              "      <th>Borough</th>\n",
              "      <th>Latitude</th>\n",
              "      <th>Longitude</th>\n",
              "    </tr>\n",
              "  </thead>\n",
              "  <tbody>\n",
              "    <tr>\n",
              "      <th>0</th>\n",
              "      <td>Chelsea</td>\n",
              "      <td>9.000000</td>\n",
              "      <td>Manhattan</td>\n",
              "      <td>40.744035</td>\n",
              "      <td>-74.003116</td>\n",
              "    </tr>\n",
              "    <tr>\n",
              "      <th>2</th>\n",
              "      <td>Chinatown</td>\n",
              "      <td>8.900000</td>\n",
              "      <td>Manhattan</td>\n",
              "      <td>40.715618</td>\n",
              "      <td>-73.994279</td>\n",
              "    </tr>\n",
              "    <tr>\n",
              "      <th>3</th>\n",
              "      <td>Civic Center</td>\n",
              "      <td>8.950000</td>\n",
              "      <td>Manhattan</td>\n",
              "      <td>40.715229</td>\n",
              "      <td>-74.005415</td>\n",
              "    </tr>\n",
              "    <tr>\n",
              "      <th>4</th>\n",
              "      <td>East Harlem</td>\n",
              "      <td>9.100000</td>\n",
              "      <td>Manhattan</td>\n",
              "      <td>40.792249</td>\n",
              "      <td>-73.944182</td>\n",
              "    </tr>\n",
              "    <tr>\n",
              "      <th>5</th>\n",
              "      <td>Greenwich Village</td>\n",
              "      <td>8.850000</td>\n",
              "      <td>Manhattan</td>\n",
              "      <td>40.726933</td>\n",
              "      <td>-73.999914</td>\n",
              "    </tr>\n",
              "    <tr>\n",
              "      <th>6</th>\n",
              "      <td>Little Italy</td>\n",
              "      <td>9.300000</td>\n",
              "      <td>Manhattan</td>\n",
              "      <td>40.719324</td>\n",
              "      <td>-73.997305</td>\n",
              "    </tr>\n",
              "    <tr>\n",
              "      <th>7</th>\n",
              "      <td>Lower East Side</td>\n",
              "      <td>8.900000</td>\n",
              "      <td>Manhattan</td>\n",
              "      <td>40.717807</td>\n",
              "      <td>-73.980890</td>\n",
              "    </tr>\n",
              "    <tr>\n",
              "      <th>8</th>\n",
              "      <td>Noho</td>\n",
              "      <td>8.933333</td>\n",
              "      <td>Manhattan</td>\n",
              "      <td>40.723259</td>\n",
              "      <td>-73.988434</td>\n",
              "    </tr>\n",
              "    <tr>\n",
              "      <th>9</th>\n",
              "      <td>Soho</td>\n",
              "      <td>9.000000</td>\n",
              "      <td>Manhattan</td>\n",
              "      <td>40.722184</td>\n",
              "      <td>-74.000657</td>\n",
              "    </tr>\n",
              "    <tr>\n",
              "      <th>10</th>\n",
              "      <td>West Village</td>\n",
              "      <td>9.200000</td>\n",
              "      <td>Manhattan</td>\n",
              "      <td>40.734434</td>\n",
              "      <td>-74.006180</td>\n",
              "    </tr>\n",
              "    <tr>\n",
              "      <th>11</th>\n",
              "      <td>Yorkville</td>\n",
              "      <td>8.800000</td>\n",
              "      <td>Manhattan</td>\n",
              "      <td>40.775930</td>\n",
              "      <td>-73.947118</td>\n",
              "    </tr>\n",
              "  </tbody>\n",
              "</table>\n",
              "</div>"
            ],
            "text/plain": [
              "         Neighborhood    Rating    Borough   Latitude  Longitude\n",
              "0             Chelsea  9.000000  Manhattan  40.744035 -74.003116\n",
              "2           Chinatown  8.900000  Manhattan  40.715618 -73.994279\n",
              "3        Civic Center  8.950000  Manhattan  40.715229 -74.005415\n",
              "4         East Harlem  9.100000  Manhattan  40.792249 -73.944182\n",
              "5   Greenwich Village  8.850000  Manhattan  40.726933 -73.999914\n",
              "6        Little Italy  9.300000  Manhattan  40.719324 -73.997305\n",
              "7     Lower East Side  8.900000  Manhattan  40.717807 -73.980890\n",
              "8                Noho  8.933333  Manhattan  40.723259 -73.988434\n",
              "9                Soho  9.000000  Manhattan  40.722184 -74.000657\n",
              "10       West Village  9.200000  Manhattan  40.734434 -74.006180\n",
              "11          Yorkville  8.800000  Manhattan  40.775930 -73.947118"
            ]
          },
          "metadata": {
            "tags": []
          },
          "execution_count": 62
        }
      ]
    },
    {
      "cell_type": "markdown",
      "metadata": {
        "id": "HyvbqEGP_O8c",
        "colab_type": "text"
      },
      "source": [
        "Let's visualize it on New York map"
      ]
    },
    {
      "cell_type": "code",
      "metadata": {
        "id": "7Qszsflo_OCs",
        "colab_type": "code",
        "colab": {}
      },
      "source": [
        "ny_map = folium.Map(location=geo_location('New York'), zoom_start=12)"
      ],
      "execution_count": 71,
      "outputs": []
    },
    {
      "cell_type": "code",
      "metadata": {
        "id": "lmEKyaA6_aOD",
        "colab_type": "code",
        "colab": {}
      },
      "source": [
        "# instantiate a feature group for the incidents in the dataframe\n",
        "incidents = folium.map.FeatureGroup()\n",
        "\n",
        "# loop through the neighborhood and add each to the feature group\n",
        "for lat, lng, in ny_neighborhood_stats_merge[['Latitude','Longitude']].values:\n",
        "    incidents.add_child(\n",
        "        folium.CircleMarker(\n",
        "            [lat, lng],\n",
        "            radius=10, # define how big you want the circle markers to be\n",
        "            color='red',\n",
        "            fill=True,\n",
        "            fill_color='blue',\n",
        "            fill_opacity=0.6\n",
        "        )\n",
        "    )"
      ],
      "execution_count": 68,
      "outputs": []
    },
    {
      "cell_type": "code",
      "metadata": {
        "id": "av_2I5aJ_6Ca",
        "colab_type": "code",
        "colab": {}
      },
      "source": [
        "ny_neighborhood_stats_merge['Label']=ny_neighborhood_stats_merge['Neighborhood']+', '+ny_neighborhood_stats_merge['Borough']+'('+ny_neighborhood_stats_merge['Rating'].map(str)+')'"
      ],
      "execution_count": 69,
      "outputs": []
    },
    {
      "cell_type": "code",
      "metadata": {
        "id": "6ftbpiWYAEy2",
        "colab_type": "code",
        "colab": {
          "base_uri": "https://localhost:8080/",
          "height": 915
        },
        "outputId": "672fa3b4-7d2d-4835-9866-d3b85a61e6b3"
      },
      "source": [
        "# add pop-up text to each marker on the map\n",
        "for lat, lng, label in ny_neighborhood_stats_merge[['Latitude','Longitude','Label']].values:\n",
        "    folium.Marker([lat, lng], popup=label).add_to(ny_map)        \n",
        "# add incidents to map\n",
        "ny_map.add_child(incidents)"
      ],
      "execution_count": 70,
      "outputs": [
        {
          "output_type": "execute_result",
          "data": {
            "text/html": [
              "<div style=\"width:100%;\"><div style=\"position:relative;width:100%;height:0;padding-bottom:60%;\"><span style=\"color:#565656\">Make this Notebook Trusted to load map: File -> Trust Notebook</span><iframe src=\"about:blank\" style=\"position:absolute;width:100%;height:100%;left:0;top:0;border:none !important;\" data-html=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 onload=\"this.contentDocument.open();this.contentDocument.write(atob(this.getAttribute('data-html')));this.contentDocument.close();\" allowfullscreen webkitallowfullscreen mozallowfullscreen></iframe></div></div>"
            ],
            "text/plain": [
              "<folium.folium.Map at 0x7f2a623e2f98>"
            ]
          },
          "metadata": {
            "tags": []
          },
          "execution_count": 70
        }
      ]
    },
    {
      "cell_type": "markdown",
      "metadata": {
        "id": "PBenQIW6A3LB",
        "colab_type": "text"
      },
      "source": [
        "Based on the above research we can answer the asked questions.\n",
        "\n",
        "1.  Manhatten is the best location in New York City for French Cuisine\n",
        "2.  Brooklyn has potential French Resturant Market.\n",
        "3.  Bronx ranks last in average rating of French Resturants.\n",
        "4.  Manhattan is the best place to stay if you love French Cuisine"
      ]
    },
    {
      "cell_type": "code",
      "metadata": {
        "id": "-_L9Nsf-CVJs",
        "colab_type": "code",
        "colab": {}
      },
      "source": [
        ""
      ],
      "execution_count": null,
      "outputs": []
    }
  ]
}