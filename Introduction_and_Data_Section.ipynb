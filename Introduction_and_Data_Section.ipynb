{
  "nbformat": 4,
  "nbformat_minor": 0,
  "metadata": {
    "colab": {
      "name": "Introduction_and_Data_Section.ipynb",
      "provenance": [],
      "collapsed_sections": []
    },
    "kernelspec": {
      "name": "python3",
      "display_name": "Python 3"
    }
  },
  "cells": [
    {
      "cell_type": "markdown",
      "metadata": {
        "id": "6wkmfIxkxLEw",
        "colab_type": "text"
      },
      "source": [
        "# Capstone Project - The Battle of Neighbourhoods (Part-1)"
      ]
    },
    {
      "cell_type": "markdown",
      "metadata": {
        "id": "_tK59YrQwzE7",
        "colab_type": "text"
      },
      "source": [
        "## Introduction"
      ]
    },
    {
      "cell_type": "markdown",
      "metadata": {
        "id": "ONEG_yTjv4r2",
        "colab_type": "text"
      },
      "source": [
        "New York City's demographics show that it is a large and ethnically diverse metropolis. It is the largest city in the United States with a long history of international immigration. New York City was home to nearly 8.5 million people in 2014, accounting for over 40% of the population of New York State and a slightly lower percentage of the New York metropolitan area, home to approximately 23.6 million. Over the last decade the city has been growing faster than the region. The New York region continues to be by far the leading metropolitan gateway for legal immigrants admitted into the United States.\n",
        "\n",
        "New York City has also been a major point of entry for immigrants; the term \"melting pot\" was coined to describe densely populated immigrant neighbourhoods on the Lower East Side. As many as 800 languages are spoken in New York, making it the most linguistically diverse city in the world. English remains the most widely spoken language, although there are areas in the outer boroughs in which up to 25% of people speak English as an alternate language, and/or have limited or no English language fluency. English is least spoken in neighbourhoods such as Flushing, Sunset Park, and Corona.\n",
        "\n",
        "With its diverse culture, comes diverse food items. There are many restaurants in New York City, each belonging to different categories like Chinese, Italian, and French etc."
      ]
    },
    {
      "cell_type": "markdown",
      "metadata": {
        "id": "IKeSqcE5w7a3",
        "colab_type": "text"
      },
      "source": [
        "## Questions to answer"
      ]
    },
    {
      "cell_type": "markdown",
      "metadata": {
        "id": "IKvx337tyDBn",
        "colab_type": "text"
      },
      "source": [
        "1.  What are best location in New York City for Italian Cuisine?\n",
        "2.  Which areas have potential Italian Restaurant Market?\n",
        "3.  Which areas lack Italian Restaurants?\n",
        "4.  Which is the best place to stay if you prefer Italian Cuisine?"
      ]
    },
    {
      "cell_type": "markdown",
      "metadata": {
        "id": "FC-AW2fmz0gK",
        "colab_type": "text"
      },
      "source": [
        "## Data Section"
      ]
    },
    {
      "cell_type": "markdown",
      "metadata": {
        "id": "Yj5mMAKu1TTW",
        "colab_type": "text"
      },
      "source": [
        "For this project we need the following data:"
      ]
    },
    {
      "cell_type": "markdown",
      "metadata": {
        "id": "IAoekALsz3GA",
        "colab_type": "text"
      },
      "source": [
        "New York City data that contains list Boroughs, Neighbourhoods along with their latitude and longitude.\n",
        "\n",
        "\n",
        "*   Data source : https://cocl.us/new_york_dataset\n",
        "*   Description: This data set contains the required information. And we will use this data set to explore various neighbourhoods of New York City\n",
        "\n",
        "Italian restaurants in each neighbourhood of New York City.\n",
        "\n",
        "\n",
        "*   Data source : Foursquare API\n",
        "*   Description: By using this API we will get all the venues in each neighbourhood. We can filter these venues to get only Italian restaurants.\n",
        "\n",
        "GeoSpace data\n",
        "\n",
        "\n",
        "*   Data source : https://data.cityofnewyork.us/City-Government/Borough-Boundaries/tqmj-j8zm\n",
        "*   Description: By using this geo space data we will get the New York Borough boundaries that will help us visualize choropleth map."
      ]
    },
    {
      "cell_type": "code",
      "metadata": {
        "id": "fi5a4Ctox_SH",
        "colab_type": "code",
        "colab": {}
      },
      "source": [
        ""
      ],
      "execution_count": null,
      "outputs": []
    }
  ]
}