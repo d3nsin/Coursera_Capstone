{
  "nbformat": 4,
  "nbformat_minor": 0,
  "metadata": {
    "kernelspec": {
      "display_name": "Python 3",
      "language": "python",
      "name": "python3"
    },
    "language_info": {
      "codemirror_mode": {
        "name": "ipython",
        "version": 3
      },
      "file_extension": ".py",
      "mimetype": "text/x-python",
      "name": "python",
      "nbconvert_exporter": "python",
      "pygments_lexer": "ipython3",
      "version": "3.7.6"
    },
    "colab": {
      "name": "Segmenting_and_Clustering_Neighborhoods_in_Toronto (4).ipynb",
      "provenance": [],
      "collapsed_sections": [],
      "toc_visible": true
    }
  },
  "cells": [
    {
      "cell_type": "markdown",
      "metadata": {
        "id": "bBme7Ys3Ng33",
        "colab_type": "text"
      },
      "source": [
        "# Scraping Wikipedia page and creating a Dataframe and Transforming the data on Wiki page into pandas dataframe."
      ]
    },
    {
      "cell_type": "markdown",
      "metadata": {
        "id": "OJnEje_RNg33",
        "colab_type": "text"
      },
      "source": [
        "## Part 1"
      ]
    },
    {
      "cell_type": "markdown",
      "metadata": {
        "id": "pP7ZaluqNg34",
        "colab_type": "text"
      },
      "source": [
        "### Install required libraries "
      ]
    },
    {
      "cell_type": "code",
      "metadata": {
        "id": "se9F-g-XNg34",
        "colab_type": "code",
        "colab": {
          "base_uri": "https://localhost:8080/",
          "height": 34
        },
        "outputId": "ad028efd-58e7-407a-ad09-951334246441"
      },
      "source": [
        "pip install BeautifulSoup4"
      ],
      "execution_count": 1,
      "outputs": [
        {
          "output_type": "stream",
          "text": [
            "Requirement already satisfied: BeautifulSoup4 in /usr/local/lib/python3.6/dist-packages (4.6.3)\n"
          ],
          "name": "stdout"
        }
      ]
    },
    {
      "cell_type": "code",
      "metadata": {
        "id": "XF2C_v_FNg38",
        "colab_type": "code",
        "colab": {
          "base_uri": "https://localhost:8080/",
          "height": 34
        },
        "outputId": "c6cc249d-829e-4640-85af-eac82b16b4bb"
      },
      "source": [
        "pip install lxml"
      ],
      "execution_count": 2,
      "outputs": [
        {
          "output_type": "stream",
          "text": [
            "Requirement already satisfied: lxml in /usr/local/lib/python3.6/dist-packages (4.2.6)\n"
          ],
          "name": "stdout"
        }
      ]
    },
    {
      "cell_type": "markdown",
      "metadata": {
        "id": "HVWzrwMPNg3-",
        "colab_type": "text"
      },
      "source": [
        "### Importing Libraries"
      ]
    },
    {
      "cell_type": "code",
      "metadata": {
        "id": "z-Ehbtb4Ng3-",
        "colab_type": "code",
        "colab": {
          "base_uri": "https://localhost:8080/",
          "height": 34
        },
        "outputId": "7b0dfe29-3a82-45a1-ed5e-9d7103342352"
      },
      "source": [
        "import pandas as pd\n",
        "import requests\n",
        "from bs4 import BeautifulSoup\n",
        "print('Done')"
      ],
      "execution_count": 3,
      "outputs": [
        {
          "output_type": "stream",
          "text": [
            "Done\n"
          ],
          "name": "stdout"
        }
      ]
    },
    {
      "cell_type": "markdown",
      "metadata": {
        "id": "8FhN6C2fNg4A",
        "colab_type": "text"
      },
      "source": [
        "#### Scraping list of postal codes from given Wikipedia page using BeautifulSoup4"
      ]
    },
    {
      "cell_type": "code",
      "metadata": {
        "id": "xGcWaASXNg4A",
        "colab_type": "code",
        "colab": {}
      },
      "source": [
        "url = \"https://en.wikipedia.org/wiki/List_of_postal_codes_of_Canada:_M\"\n",
        "extracting_data = requests.get(url).text\n",
        "wiki_data = BeautifulSoup(extracting_data, 'lxml')"
      ],
      "execution_count": 4,
      "outputs": []
    },
    {
      "cell_type": "markdown",
      "metadata": {
        "id": "qZDZVsu1Ng4C",
        "colab_type": "text"
      },
      "source": [
        "#### Converting content of PostalCode HTML table to dataframe"
      ]
    },
    {
      "cell_type": "code",
      "metadata": {
        "id": "-K8OPU1NNg4D",
        "colab_type": "code",
        "colab": {}
      },
      "source": [
        "column_names = ['Postalcode','Borough','Neighborhood']\n",
        "toronto = pd.DataFrame(columns = column_names)\n",
        "\n",
        "content = wiki_data.find('div', class_='mw-parser-output')\n",
        "table = content.table.tbody\n",
        "postcode = 0\n",
        "borough = 0\n",
        "neighborhood = 0\n",
        "\n",
        "for tr in table.find_all('tr'):\n",
        "    i = 0\n",
        "    for td in tr.find_all('td'):\n",
        "        if i == 0:\n",
        "            postcode = td.text\n",
        "            i = i + 1\n",
        "        elif i == 1:\n",
        "            borough = td.text\n",
        "            i = i + 1\n",
        "        elif i == 2: \n",
        "            neighborhood = td.text.strip('\\n').replace(']','')\n",
        "    toronto = toronto.append({'Postalcode': postcode,'Borough': borough,'Neighborhood': neighborhood},ignore_index=True)"
      ],
      "execution_count": 5,
      "outputs": []
    },
    {
      "cell_type": "code",
      "metadata": {
        "id": "wQOS2VbkNg4E",
        "colab_type": "code",
        "colab": {}
      },
      "source": [
        "# clean dataframe \n",
        "toronto = toronto[toronto.Borough!='Not assigned']\n",
        "toronto = toronto[toronto.Borough!= 0]\n",
        "toronto.reset_index(drop = True, inplace = True)\n",
        "i = 0\n",
        "for i in range(0,toronto.shape[0]):\n",
        "    if toronto.iloc[i][2] == 'Not assigned':\n",
        "        toronto.iloc[i][2] = toronto.iloc[i][1]\n",
        "        i = i+1"
      ],
      "execution_count": 7,
      "outputs": []
    },
    {
      "cell_type": "markdown",
      "metadata": {
        "id": "i6eVytfRNg4H",
        "colab_type": "text"
      },
      "source": [
        "#### Data Cleaning | Drop rows which contain 'Not assigned' value"
      ]
    },
    {
      "cell_type": "code",
      "metadata": {
        "id": "pj3uMw5HNg4H",
        "colab_type": "code",
        "colab": {
          "base_uri": "https://localhost:8080/",
          "height": 419
        },
        "outputId": "78aee1cc-5c35-4c88-aa8c-22e945367271"
      },
      "source": [
        "toronto_df = toronto.groupby(['Postalcode','Borough'])['Neighborhood'].apply(', '.join).reset_index()\n",
        "toronto_df = toronto_df.replace('\\n','',regex=True)\n",
        "toronto_df = toronto_df[(toronto_df.Borough != 'Not assigned') & (toronto_df.Neighborhood != 'Not assigned')].reset_index().drop(columns='index')\n",
        "toronto_df"
      ],
      "execution_count": 8,
      "outputs": [
        {
          "output_type": "execute_result",
          "data": {
            "text/html": [
              "<div>\n",
              "<style scoped>\n",
              "    .dataframe tbody tr th:only-of-type {\n",
              "        vertical-align: middle;\n",
              "    }\n",
              "\n",
              "    .dataframe tbody tr th {\n",
              "        vertical-align: top;\n",
              "    }\n",
              "\n",
              "    .dataframe thead th {\n",
              "        text-align: right;\n",
              "    }\n",
              "</style>\n",
              "<table border=\"1\" class=\"dataframe\">\n",
              "  <thead>\n",
              "    <tr style=\"text-align: right;\">\n",
              "      <th></th>\n",
              "      <th>Postalcode</th>\n",
              "      <th>Borough</th>\n",
              "      <th>Neighborhood</th>\n",
              "    </tr>\n",
              "  </thead>\n",
              "  <tbody>\n",
              "    <tr>\n",
              "      <th>0</th>\n",
              "      <td>M1B</td>\n",
              "      <td>Scarborough</td>\n",
              "      <td>Malvern, Rouge</td>\n",
              "    </tr>\n",
              "    <tr>\n",
              "      <th>1</th>\n",
              "      <td>M1C</td>\n",
              "      <td>Scarborough</td>\n",
              "      <td>Rouge Hill, Port Union, Highland Creek</td>\n",
              "    </tr>\n",
              "    <tr>\n",
              "      <th>2</th>\n",
              "      <td>M1E</td>\n",
              "      <td>Scarborough</td>\n",
              "      <td>Guildwood, Morningside, West Hill</td>\n",
              "    </tr>\n",
              "    <tr>\n",
              "      <th>3</th>\n",
              "      <td>M1G</td>\n",
              "      <td>Scarborough</td>\n",
              "      <td>Woburn</td>\n",
              "    </tr>\n",
              "    <tr>\n",
              "      <th>4</th>\n",
              "      <td>M1H</td>\n",
              "      <td>Scarborough</td>\n",
              "      <td>Cedarbrae</td>\n",
              "    </tr>\n",
              "    <tr>\n",
              "      <th>...</th>\n",
              "      <td>...</td>\n",
              "      <td>...</td>\n",
              "      <td>...</td>\n",
              "    </tr>\n",
              "    <tr>\n",
              "      <th>98</th>\n",
              "      <td>M9N</td>\n",
              "      <td>York</td>\n",
              "      <td>Weston</td>\n",
              "    </tr>\n",
              "    <tr>\n",
              "      <th>99</th>\n",
              "      <td>M9P</td>\n",
              "      <td>Etobicoke</td>\n",
              "      <td>Westmount</td>\n",
              "    </tr>\n",
              "    <tr>\n",
              "      <th>100</th>\n",
              "      <td>M9R</td>\n",
              "      <td>Etobicoke</td>\n",
              "      <td>Kingsview Village, St. Phillips, Martin Grove ...</td>\n",
              "    </tr>\n",
              "    <tr>\n",
              "      <th>101</th>\n",
              "      <td>M9V</td>\n",
              "      <td>Etobicoke</td>\n",
              "      <td>South Steeles, Silverstone, Humbergate, Jamest...</td>\n",
              "    </tr>\n",
              "    <tr>\n",
              "      <th>102</th>\n",
              "      <td>M9W</td>\n",
              "      <td>Etobicoke</td>\n",
              "      <td>Northwest, West Humber - Clairville</td>\n",
              "    </tr>\n",
              "  </tbody>\n",
              "</table>\n",
              "<p>103 rows × 3 columns</p>\n",
              "</div>"
            ],
            "text/plain": [
              "    Postalcode      Borough                                       Neighborhood\n",
              "0          M1B  Scarborough                                     Malvern, Rouge\n",
              "1          M1C  Scarborough             Rouge Hill, Port Union, Highland Creek\n",
              "2          M1E  Scarborough                  Guildwood, Morningside, West Hill\n",
              "3          M1G  Scarborough                                             Woburn\n",
              "4          M1H  Scarborough                                          Cedarbrae\n",
              "..         ...          ...                                                ...\n",
              "98         M9N         York                                             Weston\n",
              "99         M9P    Etobicoke                                          Westmount\n",
              "100        M9R    Etobicoke  Kingsview Village, St. Phillips, Martin Grove ...\n",
              "101        M9V    Etobicoke  South Steeles, Silverstone, Humbergate, Jamest...\n",
              "102        M9W    Etobicoke                Northwest, West Humber - Clairville\n",
              "\n",
              "[103 rows x 3 columns]"
            ]
          },
          "metadata": {
            "tags": []
          },
          "execution_count": 8
        }
      ]
    },
    {
      "cell_type": "code",
      "metadata": {
        "id": "gZeon2GhNg4J",
        "colab_type": "code",
        "colab": {
          "base_uri": "https://localhost:8080/",
          "height": 173
        },
        "outputId": "9f5c64d3-3b14-4940-a7ec-265ec4b85ef0"
      },
      "source": [
        "toronto_df.describe()"
      ],
      "execution_count": 9,
      "outputs": [
        {
          "output_type": "execute_result",
          "data": {
            "text/html": [
              "<div>\n",
              "<style scoped>\n",
              "    .dataframe tbody tr th:only-of-type {\n",
              "        vertical-align: middle;\n",
              "    }\n",
              "\n",
              "    .dataframe tbody tr th {\n",
              "        vertical-align: top;\n",
              "    }\n",
              "\n",
              "    .dataframe thead th {\n",
              "        text-align: right;\n",
              "    }\n",
              "</style>\n",
              "<table border=\"1\" class=\"dataframe\">\n",
              "  <thead>\n",
              "    <tr style=\"text-align: right;\">\n",
              "      <th></th>\n",
              "      <th>Postalcode</th>\n",
              "      <th>Borough</th>\n",
              "      <th>Neighborhood</th>\n",
              "    </tr>\n",
              "  </thead>\n",
              "  <tbody>\n",
              "    <tr>\n",
              "      <th>count</th>\n",
              "      <td>103</td>\n",
              "      <td>103</td>\n",
              "      <td>103</td>\n",
              "    </tr>\n",
              "    <tr>\n",
              "      <th>unique</th>\n",
              "      <td>103</td>\n",
              "      <td>10</td>\n",
              "      <td>99</td>\n",
              "    </tr>\n",
              "    <tr>\n",
              "      <th>top</th>\n",
              "      <td>M6R</td>\n",
              "      <td>North York</td>\n",
              "      <td>Downsview</td>\n",
              "    </tr>\n",
              "    <tr>\n",
              "      <th>freq</th>\n",
              "      <td>1</td>\n",
              "      <td>24</td>\n",
              "      <td>4</td>\n",
              "    </tr>\n",
              "  </tbody>\n",
              "</table>\n",
              "</div>"
            ],
            "text/plain": [
              "       Postalcode     Borough Neighborhood\n",
              "count         103         103          103\n",
              "unique        103          10           99\n",
              "top           M6R  North York    Downsview\n",
              "freq            1          24            4"
            ]
          },
          "metadata": {
            "tags": []
          },
          "execution_count": 9
        }
      ]
    },
    {
      "cell_type": "markdown",
      "metadata": {
        "id": "4ai-IatgNg4L",
        "colab_type": "text"
      },
      "source": [
        "## Part 2"
      ]
    },
    {
      "cell_type": "markdown",
      "metadata": {
        "id": "nv5jgHJKNg4L",
        "colab_type": "text"
      },
      "source": [
        "### Install required libraries "
      ]
    },
    {
      "cell_type": "code",
      "metadata": {
        "id": "m-3UK5RBNg4L",
        "colab_type": "code",
        "colab": {
          "base_uri": "https://localhost:8080/",
          "height": 289
        },
        "outputId": "f5b01f61-2a6e-46ca-fadb-b2c6c64140fc"
      },
      "source": [
        "pip install geocoder"
      ],
      "execution_count": 10,
      "outputs": [
        {
          "output_type": "stream",
          "text": [
            "Collecting geocoder\n",
            "\u001b[?25l  Downloading https://files.pythonhosted.org/packages/4f/6b/13166c909ad2f2d76b929a4227c952630ebaf0d729f6317eb09cbceccbab/geocoder-1.38.1-py2.py3-none-any.whl (98kB)\n",
            "\r\u001b[K     |███▎                            | 10kB 18.3MB/s eta 0:00:01\r\u001b[K     |██████▋                         | 20kB 6.3MB/s eta 0:00:01\r\u001b[K     |██████████                      | 30kB 7.7MB/s eta 0:00:01\r\u001b[K     |█████████████▎                  | 40kB 8.4MB/s eta 0:00:01\r\u001b[K     |████████████████▋               | 51kB 6.7MB/s eta 0:00:01\r\u001b[K     |████████████████████            | 61kB 7.3MB/s eta 0:00:01\r\u001b[K     |███████████████████████▎        | 71kB 7.7MB/s eta 0:00:01\r\u001b[K     |██████████████████████████▋     | 81kB 8.6MB/s eta 0:00:01\r\u001b[K     |██████████████████████████████  | 92kB 9.1MB/s eta 0:00:01\r\u001b[K     |████████████████████████████████| 102kB 5.8MB/s \n",
            "\u001b[?25hRequirement already satisfied: future in /usr/local/lib/python3.6/dist-packages (from geocoder) (0.16.0)\n",
            "Collecting ratelim\n",
            "  Downloading https://files.pythonhosted.org/packages/f2/98/7e6d147fd16a10a5f821db6e25f192265d6ecca3d82957a4fdd592cad49c/ratelim-0.1.6-py2.py3-none-any.whl\n",
            "Requirement already satisfied: six in /usr/local/lib/python3.6/dist-packages (from geocoder) (1.12.0)\n",
            "Requirement already satisfied: click in /usr/local/lib/python3.6/dist-packages (from geocoder) (7.1.2)\n",
            "Requirement already satisfied: requests in /usr/local/lib/python3.6/dist-packages (from geocoder) (2.23.0)\n",
            "Requirement already satisfied: decorator in /usr/local/lib/python3.6/dist-packages (from ratelim->geocoder) (4.4.2)\n",
            "Requirement already satisfied: certifi>=2017.4.17 in /usr/local/lib/python3.6/dist-packages (from requests->geocoder) (2020.6.20)\n",
            "Requirement already satisfied: idna<3,>=2.5 in /usr/local/lib/python3.6/dist-packages (from requests->geocoder) (2.10)\n",
            "Requirement already satisfied: urllib3!=1.25.0,!=1.25.1,<1.26,>=1.21.1 in /usr/local/lib/python3.6/dist-packages (from requests->geocoder) (1.24.3)\n",
            "Requirement already satisfied: chardet<4,>=3.0.2 in /usr/local/lib/python3.6/dist-packages (from requests->geocoder) (3.0.4)\n",
            "Installing collected packages: ratelim, geocoder\n",
            "Successfully installed geocoder-1.38.1 ratelim-0.1.6\n"
          ],
          "name": "stdout"
        }
      ]
    },
    {
      "cell_type": "markdown",
      "metadata": {
        "id": "Rhh0jwVPNg4N",
        "colab_type": "text"
      },
      "source": [
        "### Importing Libraries"
      ]
    },
    {
      "cell_type": "code",
      "metadata": {
        "id": "L4ES0ZovNg4N",
        "colab_type": "code",
        "colab": {
          "base_uri": "https://localhost:8080/",
          "height": 34
        },
        "outputId": "a9e9a082-7fb9-4d48-804c-94e445af7c27"
      },
      "source": [
        "import pandas as pd\n",
        "import numpy as np\n",
        "import geocoder\n",
        "print('Done')"
      ],
      "execution_count": 11,
      "outputs": [
        {
          "output_type": "stream",
          "text": [
            "Done\n"
          ],
          "name": "stdout"
        }
      ]
    },
    {
      "cell_type": "code",
      "metadata": {
        "id": "2FHKkPOPO_pf",
        "colab_type": "code",
        "colab": {
          "base_uri": "https://localhost:8080/",
          "height": 419
        },
        "outputId": "a4317281-2475-4eac-f7c3-fb86561043c0"
      },
      "source": [
        "# Adding Columns Latitude & Longitude\n",
        "df_co_ords = pd.DataFrame(columns=['Latitude', 'Longitude'])\n",
        "toronto_df['Latitude'] = df_co_ords['Latitude']\n",
        "toronto_df['Longitude'] = df_co_ords['Longitude']\n",
        "toronto_df"
      ],
      "execution_count": 12,
      "outputs": [
        {
          "output_type": "execute_result",
          "data": {
            "text/html": [
              "<div>\n",
              "<style scoped>\n",
              "    .dataframe tbody tr th:only-of-type {\n",
              "        vertical-align: middle;\n",
              "    }\n",
              "\n",
              "    .dataframe tbody tr th {\n",
              "        vertical-align: top;\n",
              "    }\n",
              "\n",
              "    .dataframe thead th {\n",
              "        text-align: right;\n",
              "    }\n",
              "</style>\n",
              "<table border=\"1\" class=\"dataframe\">\n",
              "  <thead>\n",
              "    <tr style=\"text-align: right;\">\n",
              "      <th></th>\n",
              "      <th>Postalcode</th>\n",
              "      <th>Borough</th>\n",
              "      <th>Neighborhood</th>\n",
              "      <th>Latitude</th>\n",
              "      <th>Longitude</th>\n",
              "    </tr>\n",
              "  </thead>\n",
              "  <tbody>\n",
              "    <tr>\n",
              "      <th>0</th>\n",
              "      <td>M1B</td>\n",
              "      <td>Scarborough</td>\n",
              "      <td>Malvern, Rouge</td>\n",
              "      <td>NaN</td>\n",
              "      <td>NaN</td>\n",
              "    </tr>\n",
              "    <tr>\n",
              "      <th>1</th>\n",
              "      <td>M1C</td>\n",
              "      <td>Scarborough</td>\n",
              "      <td>Rouge Hill, Port Union, Highland Creek</td>\n",
              "      <td>NaN</td>\n",
              "      <td>NaN</td>\n",
              "    </tr>\n",
              "    <tr>\n",
              "      <th>2</th>\n",
              "      <td>M1E</td>\n",
              "      <td>Scarborough</td>\n",
              "      <td>Guildwood, Morningside, West Hill</td>\n",
              "      <td>NaN</td>\n",
              "      <td>NaN</td>\n",
              "    </tr>\n",
              "    <tr>\n",
              "      <th>3</th>\n",
              "      <td>M1G</td>\n",
              "      <td>Scarborough</td>\n",
              "      <td>Woburn</td>\n",
              "      <td>NaN</td>\n",
              "      <td>NaN</td>\n",
              "    </tr>\n",
              "    <tr>\n",
              "      <th>4</th>\n",
              "      <td>M1H</td>\n",
              "      <td>Scarborough</td>\n",
              "      <td>Cedarbrae</td>\n",
              "      <td>NaN</td>\n",
              "      <td>NaN</td>\n",
              "    </tr>\n",
              "    <tr>\n",
              "      <th>...</th>\n",
              "      <td>...</td>\n",
              "      <td>...</td>\n",
              "      <td>...</td>\n",
              "      <td>...</td>\n",
              "      <td>...</td>\n",
              "    </tr>\n",
              "    <tr>\n",
              "      <th>98</th>\n",
              "      <td>M9N</td>\n",
              "      <td>York</td>\n",
              "      <td>Weston</td>\n",
              "      <td>NaN</td>\n",
              "      <td>NaN</td>\n",
              "    </tr>\n",
              "    <tr>\n",
              "      <th>99</th>\n",
              "      <td>M9P</td>\n",
              "      <td>Etobicoke</td>\n",
              "      <td>Westmount</td>\n",
              "      <td>NaN</td>\n",
              "      <td>NaN</td>\n",
              "    </tr>\n",
              "    <tr>\n",
              "      <th>100</th>\n",
              "      <td>M9R</td>\n",
              "      <td>Etobicoke</td>\n",
              "      <td>Kingsview Village, St. Phillips, Martin Grove ...</td>\n",
              "      <td>NaN</td>\n",
              "      <td>NaN</td>\n",
              "    </tr>\n",
              "    <tr>\n",
              "      <th>101</th>\n",
              "      <td>M9V</td>\n",
              "      <td>Etobicoke</td>\n",
              "      <td>South Steeles, Silverstone, Humbergate, Jamest...</td>\n",
              "      <td>NaN</td>\n",
              "      <td>NaN</td>\n",
              "    </tr>\n",
              "    <tr>\n",
              "      <th>102</th>\n",
              "      <td>M9W</td>\n",
              "      <td>Etobicoke</td>\n",
              "      <td>Northwest, West Humber - Clairville</td>\n",
              "      <td>NaN</td>\n",
              "      <td>NaN</td>\n",
              "    </tr>\n",
              "  </tbody>\n",
              "</table>\n",
              "<p>103 rows × 5 columns</p>\n",
              "</div>"
            ],
            "text/plain": [
              "    Postalcode      Borough  ... Latitude Longitude\n",
              "0          M1B  Scarborough  ...      NaN       NaN\n",
              "1          M1C  Scarborough  ...      NaN       NaN\n",
              "2          M1E  Scarborough  ...      NaN       NaN\n",
              "3          M1G  Scarborough  ...      NaN       NaN\n",
              "4          M1H  Scarborough  ...      NaN       NaN\n",
              "..         ...          ...  ...      ...       ...\n",
              "98         M9N         York  ...      NaN       NaN\n",
              "99         M9P    Etobicoke  ...      NaN       NaN\n",
              "100        M9R    Etobicoke  ...      NaN       NaN\n",
              "101        M9V    Etobicoke  ...      NaN       NaN\n",
              "102        M9W    Etobicoke  ...      NaN       NaN\n",
              "\n",
              "[103 rows x 5 columns]"
            ]
          },
          "metadata": {
            "tags": []
          },
          "execution_count": 12
        }
      ]
    },
    {
      "cell_type": "code",
      "metadata": {
        "id": "SsN5gNaONg4P",
        "colab_type": "code",
        "colab": {
          "base_uri": "https://localhost:8080/",
          "height": 35
        },
        "outputId": "826ce43a-8ffd-4f3a-9a5a-5cfb42bdcc14"
      },
      "source": [
        "def get_latilong(postal_code):\n",
        "    lati_long_coords = None\n",
        "    while(lati_long_coords is None):\n",
        "      g = geocoder.arcgis('{}, Toronto, Ontario'.format(postal_code), timeout=100)\n",
        "      lati_long_coords = g.latlng\n",
        "    return lati_long_coords\n",
        "    \n",
        "#et_latilong(toronto_df.Postalcode[102]) #example\n",
        "toronto_df.Postalcode[0]"
      ],
      "execution_count": 18,
      "outputs": [
        {
          "output_type": "execute_result",
          "data": {
            "application/vnd.google.colaboratory.intrinsic": {
              "type": "string"
            },
            "text/plain": [
              "'M1B'"
            ]
          },
          "metadata": {
            "tags": []
          },
          "execution_count": 18
        }
      ]
    },
    {
      "cell_type": "code",
      "metadata": {
        "id": "AHuexItJxIrI",
        "colab_type": "code",
        "colab": {
          "base_uri": "https://localhost:8080/",
          "height": 34
        },
        "outputId": "78360d7c-20d0-4997-cf22-4c974990442a"
      },
      "source": [
        "toronto_df.shape[0]"
      ],
      "execution_count": 21,
      "outputs": [
        {
          "output_type": "execute_result",
          "data": {
            "text/plain": [
              "103"
            ]
          },
          "metadata": {
            "tags": []
          },
          "execution_count": 21
        }
      ]
    },
    {
      "cell_type": "code",
      "metadata": {
        "id": "5Y5oWhP5PYYo",
        "colab_type": "code",
        "colab": {}
      },
      "source": [
        "df_list_coord = []\n",
        "for i in range(0, toronto_df.shape[0]):\n",
        "    df_list_coord.append(get_latilong(toronto_df.Postalcode[i]))"
      ],
      "execution_count": 22,
      "outputs": []
    },
    {
      "cell_type": "code",
      "metadata": {
        "id": "cCj16IIQqmAB",
        "colab_type": "code",
        "colab": {
          "base_uri": "https://localhost:8080/",
          "height": 1000
        },
        "outputId": "d8112c70-ad36-496c-be3c-d54619cf843c"
      },
      "source": [
        "df_list_coord"
      ],
      "execution_count": 28,
      "outputs": [
        {
          "output_type": "execute_result",
          "data": {
            "text/plain": [
              "[[43.81153000000006, -79.19551999999999],\n",
              " [43.78564000000006, -79.15870999999999],\n",
              " [43.765750000000025, -79.17519999999996],\n",
              " [43.768200000000036, -79.21760999999998],\n",
              " [43.769690000000026, -79.23943999999995],\n",
              " [43.74309000000005, -79.23525999999998],\n",
              " [43.72861000000006, -79.26366999999993],\n",
              " [43.714060000000075, -79.28411999999997],\n",
              " [43.72360000000003, -79.23495999999994],\n",
              " [43.69539000000003, -79.26193999999998],\n",
              " [43.75998000000004, -79.26836999999995],\n",
              " [43.750710000000026, -79.30055999999996],\n",
              " [43.79394000000008, -79.26710999999995],\n",
              " [43.784730000000025, -79.29936999999995],\n",
              " [43.817810000000065, -79.28023999999994],\n",
              " [43.80052000000006, -79.32073999999994],\n",
              " [43.83422000000007, -79.21669999999995],\n",
              " [43.802850000000035, -79.35620999999998],\n",
              " [43.780970000000025, -79.34780999999998],\n",
              " [43.78102000000007, -79.38059999999996],\n",
              " [43.757220000000075, -79.37973999999997],\n",
              " [43.79135000000008, -79.41355999999996],\n",
              " [43.76714000000004, -79.40706999999998],\n",
              " [43.747870000000034, -79.40028999999998],\n",
              " [43.77991000000003, -79.44677999999999],\n",
              " [43.75188000000003, -79.33035999999998],\n",
              " [43.74929000000003, -79.36168999999995],\n",
              " [43.72184000000004, -79.34339999999997],\n",
              " [43.74809000000005, -79.44400999999993],\n",
              " [43.76467000000008, -79.48717999999997],\n",
              " [43.73903000000007, -79.46731999999997],\n",
              " [43.741070000000036, -79.51079999999996],\n",
              " [43.73355000000004, -79.49679999999995],\n",
              " [43.75666000000007, -79.51971999999995],\n",
              " [43.73042000000004, -79.31281999999999],\n",
              " [43.707940000000065, -79.31159999999994],\n",
              " [43.68970000000007, -79.30679999999995],\n",
              " [43.67703000000006, -79.29541999999998],\n",
              " [43.70909000000006, -79.36409999999995],\n",
              " [43.70127000000008, -79.34979999999996],\n",
              " [43.68811000000005, -79.33417999999995],\n",
              " [43.68375000000003, -79.35527999999994],\n",
              " [43.667970000000025, -79.31467999999995],\n",
              " [43.66091000000006, -79.33502999999996],\n",
              " [43.728980000000035, -79.39172999999994],\n",
              " [43.71276000000006, -79.38850999999994],\n",
              " [43.71452000000005, -79.40695999999997],\n",
              " [43.703400000000045, -79.38595999999995],\n",
              " [43.69066000000004, -79.38355999999999],\n",
              " [43.68569000000008, -79.40231999999997],\n",
              " [43.68190000000004, -79.37849999999997],\n",
              " [43.667880000000025, -79.36648999999994],\n",
              " [43.66659000000004, -79.38129999999995],\n",
              " [43.655140000000074, -79.36264999999997],\n",
              " [43.65736000000004, -79.37817999999999],\n",
              " [43.65143000000006, -79.37556999999998],\n",
              " [43.64531000000005, -79.37367999999998],\n",
              " [43.65609000000006, -79.38492999999994],\n",
              " [43.64970000000005, -79.38257999999996],\n",
              " [43.64285000000007, -79.38039999999995],\n",
              " [43.64710000000008, -79.38152999999994],\n",
              " [43.64823000000007, -79.37889999999999],\n",
              " [43.735460000000046, -79.41914999999995],\n",
              " [43.71194000000003, -79.41911999999996],\n",
              " [43.69479000000007, -79.41439999999994],\n",
              " [43.674840000000074, -79.40184999999997],\n",
              " [43.663110000000074, -79.40179999999998],\n",
              " [43.65351000000004, -79.39721999999995],\n",
              " [43.640820000000076, -79.39955999999995],\n",
              " [43.648690000000045, -79.38543999999996],\n",
              " [43.64828000000006, -79.38145999999995],\n",
              " [43.72321000000005, -79.45140999999995],\n",
              " [43.70799000000005, -79.44837999999999],\n",
              " [43.69211000000007, -79.43035999999995],\n",
              " [43.68784000000005, -79.45045999999996],\n",
              " [43.66878000000003, -79.42070999999999],\n",
              " [43.66509000000008, -79.43870999999996],\n",
              " [43.64873000000006, -79.41783999999996],\n",
              " [43.639410000000055, -79.42675999999994],\n",
              " [43.71381000000008, -79.48830999999996],\n",
              " [43.69468000000006, -79.48346999999995],\n",
              " [43.676180000000045, -79.48251999999997],\n",
              " [43.65994000000006, -79.46301999999997],\n",
              " [43.64785000000006, -79.45019999999994],\n",
              " [43.65034000000003, -79.47570999999994],\n",
              " [43.66449000000006, -79.39301999999998],\n",
              " [43.648690000000045, -79.38543999999996],\n",
              " [43.648690000000045, -79.38543999999996],\n",
              " [43.60987000000006, -79.49692999999996],\n",
              " [43.601080000000024, -79.53890999999999],\n",
              " [43.65369000000004, -79.51111999999995],\n",
              " [43.63288000000006, -79.48954999999995],\n",
              " [43.624630000000025, -79.52834999999999],\n",
              " [43.66277000000008, -79.52830999999998],\n",
              " [43.65279000000004, -79.55405999999994],\n",
              " [43.648900000000026, -79.57824999999997],\n",
              " [43.75948000000005, -79.55724999999995],\n",
              " [43.733670000000075, -79.53686999999996],\n",
              " [43.70357000000007, -79.51644999999996],\n",
              " [43.69623000000007, -79.52925999999997],\n",
              " [43.68674000000004, -79.55728999999997],\n",
              " [43.744530000000054, -79.58623999999998],\n",
              " [43.71174000000008, -79.57917999999995]]"
            ]
          },
          "metadata": {
            "tags": []
          },
          "execution_count": 28
        }
      ]
    },
    {
      "cell_type": "code",
      "metadata": {
        "id": "gdc6PRGgl79j",
        "colab_type": "code",
        "colab": {}
      },
      "source": [
        "for i in range(0, toronto_df.shape[0]):\n",
        "    toronto_df.Latitude[i] = df_list_coord[i][0]\n",
        "    toronto_df.Longitude[i] = df_list_coord[i][1]"
      ],
      "execution_count": null,
      "outputs": []
    },
    {
      "cell_type": "code",
      "metadata": {
        "id": "9vh8YXsxB1jP",
        "colab_type": "code",
        "colab": {
          "base_uri": "https://localhost:8080/",
          "height": 204
        },
        "outputId": "cc617d0d-10d9-4fd0-88d4-42999236fbfa"
      },
      "source": [
        "toronto_df.head()"
      ],
      "execution_count": 33,
      "outputs": [
        {
          "output_type": "execute_result",
          "data": {
            "text/html": [
              "<div>\n",
              "<style scoped>\n",
              "    .dataframe tbody tr th:only-of-type {\n",
              "        vertical-align: middle;\n",
              "    }\n",
              "\n",
              "    .dataframe tbody tr th {\n",
              "        vertical-align: top;\n",
              "    }\n",
              "\n",
              "    .dataframe thead th {\n",
              "        text-align: right;\n",
              "    }\n",
              "</style>\n",
              "<table border=\"1\" class=\"dataframe\">\n",
              "  <thead>\n",
              "    <tr style=\"text-align: right;\">\n",
              "      <th></th>\n",
              "      <th>Postalcode</th>\n",
              "      <th>Borough</th>\n",
              "      <th>Neighborhood</th>\n",
              "      <th>Latitude</th>\n",
              "      <th>Longitude</th>\n",
              "    </tr>\n",
              "  </thead>\n",
              "  <tbody>\n",
              "    <tr>\n",
              "      <th>0</th>\n",
              "      <td>M1B</td>\n",
              "      <td>Scarborough</td>\n",
              "      <td>Malvern, Rouge</td>\n",
              "      <td>43.8115</td>\n",
              "      <td>-79.1955</td>\n",
              "    </tr>\n",
              "    <tr>\n",
              "      <th>1</th>\n",
              "      <td>M1C</td>\n",
              "      <td>Scarborough</td>\n",
              "      <td>Rouge Hill, Port Union, Highland Creek</td>\n",
              "      <td>43.7856</td>\n",
              "      <td>-79.1587</td>\n",
              "    </tr>\n",
              "    <tr>\n",
              "      <th>2</th>\n",
              "      <td>M1E</td>\n",
              "      <td>Scarborough</td>\n",
              "      <td>Guildwood, Morningside, West Hill</td>\n",
              "      <td>43.7658</td>\n",
              "      <td>-79.1752</td>\n",
              "    </tr>\n",
              "    <tr>\n",
              "      <th>3</th>\n",
              "      <td>M1G</td>\n",
              "      <td>Scarborough</td>\n",
              "      <td>Woburn</td>\n",
              "      <td>43.7682</td>\n",
              "      <td>-79.2176</td>\n",
              "    </tr>\n",
              "    <tr>\n",
              "      <th>4</th>\n",
              "      <td>M1H</td>\n",
              "      <td>Scarborough</td>\n",
              "      <td>Cedarbrae</td>\n",
              "      <td>43.7697</td>\n",
              "      <td>-79.2394</td>\n",
              "    </tr>\n",
              "  </tbody>\n",
              "</table>\n",
              "</div>"
            ],
            "text/plain": [
              "  Postalcode      Borough  ... Latitude Longitude\n",
              "0        M1B  Scarborough  ...  43.8115  -79.1955\n",
              "1        M1C  Scarborough  ...  43.7856  -79.1587\n",
              "2        M1E  Scarborough  ...  43.7658  -79.1752\n",
              "3        M1G  Scarborough  ...  43.7682  -79.2176\n",
              "4        M1H  Scarborough  ...  43.7697  -79.2394\n",
              "\n",
              "[5 rows x 5 columns]"
            ]
          },
          "metadata": {
            "tags": []
          },
          "execution_count": 33
        }
      ]
    },
    {
      "cell_type": "code",
      "metadata": {
        "id": "AKubCxpjNg4R",
        "colab_type": "code",
        "colab": {}
      },
      "source": [
        "toronto_df.to_csv('toronto_2.csv',index=False)"
      ],
      "execution_count": 31,
      "outputs": []
    }
  ]
}